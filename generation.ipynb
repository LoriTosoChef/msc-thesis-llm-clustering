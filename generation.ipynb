{
 "cells": [
  {
   "cell_type": "code",
   "execution_count": 1,
   "id": "8eddb2d9",
   "metadata": {},
   "outputs": [
    {
     "name": "stderr",
     "output_type": "stream",
     "text": [
      "2023-04-04 19:03:09,218 - INFO     | config     | Loading environment variables\n"
     ]
    }
   ],
   "source": [
    "import logging\n",
    "import time\n",
    "import numpy as np\n",
    "import pandas as pd\n",
    "from tqdm.auto import tqdm\n",
    "\n",
    "from models.generation import Model\n",
    "\n",
    "from config import HUGGINGFACE_TOKEN, GPT4ALL_PATH, LLAMA_7B_PATH, LLAMA_13B_PATH\n",
    "\n",
    "from helpers.data_helpers import save_to_parquet\n",
    "\n",
    "logger = logging.getLogger(__name__)"
   ]
  },
  {
   "cell_type": "code",
   "execution_count": 2,
   "id": "0db74f1d",
   "metadata": {},
   "outputs": [],
   "source": [
    "# cooldown in seconds every 50 iterations and fast cooldown every iteration\n",
    "COOLDOWN = 120\n",
    "FAST_COOLDOWN = 2"
   ]
  },
  {
   "cell_type": "markdown",
   "id": "72ba148d",
   "metadata": {},
   "source": [
    "# Data"
   ]
  },
  {
   "cell_type": "code",
   "execution_count": 3,
   "id": "3c602859",
   "metadata": {},
   "outputs": [
    {
     "name": "stderr",
     "output_type": "stream",
     "text": [
      "2023-04-04 19:03:10,167 - INFO     | __main__   | 21711 tweets in generation set.\n"
     ]
    }
   ],
   "source": [
    "tweets = pd.read_parquet('data/eval_tweets_202342.parquet')\n",
    "logger.info(f'{len(tweets)} tweets in generation set.')"
   ]
  },
  {
   "cell_type": "code",
   "execution_count": 4,
   "id": "a94b9728",
   "metadata": {},
   "outputs": [
    {
     "name": "stderr",
     "output_type": "stream",
     "text": [
      "2023-04-04 19:03:10,352 - INFO     | __main__   | Generating from 100 tweets.\n"
     ]
    }
   ],
   "source": [
    "N_TWEETS = 100\n",
    "logger.info(f'Generating from {N_TWEETS} tweets.')"
   ]
  },
  {
   "cell_type": "code",
   "execution_count": 5,
   "id": "6e693707",
   "metadata": {},
   "outputs": [],
   "source": [
    "output_tweets = tweets.iloc[:N_TWEETS].copy()\n",
    "output_tweets.drop(columns=['created_at', 'entities'], inplace=True)"
   ]
  },
  {
   "cell_type": "markdown",
   "id": "b914c34f",
   "metadata": {},
   "source": [
    "# Prompt Engineering"
   ]
  },
  {
   "cell_type": "code",
   "execution_count": 6,
   "id": "9670a947",
   "metadata": {},
   "outputs": [],
   "source": [
    "PROMPT_TEMPLATE = \"\"\"Answer the question based on the context below. \\\n",
    "    Context: You are a marketing and customer relationship management assistant, \\\n",
    "    your task is to classify a given tweet as either a \\\n",
    "    potential lead or not. Provide your detailed analysis of the following tweet \\\n",
    "    as a potential lead in the context of marketing and customer relationship management. \\\n",
    "    Tweet: {tweet} \\\n",
    "    Question: Is the above tweet a potential lead? Yes or No? Why?. \\\n",
    "    Answer: \"\"\""
   ]
  },
  {
   "cell_type": "markdown",
   "id": "e4452046",
   "metadata": {},
   "source": [
    "# Models\n",
    "\n",
    "todo"
   ]
  },
  {
   "cell_type": "markdown",
   "id": "668a9d46",
   "metadata": {},
   "source": [
    "### BLOOM"
   ]
  },
  {
   "cell_type": "code",
   "execution_count": 7,
   "id": "6719cc81",
   "metadata": {
    "scrolled": true
   },
   "outputs": [
    {
     "name": "stderr",
     "output_type": "stream",
     "text": [
      "2023-04-04 19:03:12,567 - INFO     | models.generation | \n",
      "Initializing BLOOM model  - Temp: 1e-10 - Context window: 2048 - Max tokens: 256\n"
     ]
    }
   ],
   "source": [
    "bloom = Model(\n",
    "    model_name='bloom',\n",
    "    hf_api=HUGGINGFACE_TOKEN\n",
    ")"
   ]
  },
  {
   "cell_type": "code",
   "execution_count": 8,
   "id": "a7343505",
   "metadata": {},
   "outputs": [
    {
     "name": "stderr",
     "output_type": "stream",
     "text": [
      "2023-04-04 19:03:13,511 - INFO     | models.generation | Injecting Variables: ['tweet']\n"
     ]
    },
    {
     "data": {
      "text/plain": [
       "'Answer the question based on the context below.     Context: You are a marketing and customer relationship management assistant,     your task is to classify a given tweet as either a     potential lead or not. Provide your detailed analysis of the following tweet     as a potential lead in the context of marketing and customer relationship management.     Tweet: {tweet}     Question: Is the above tweet a potential lead? Yes or No? Why?.     Answer: '"
      ]
     },
     "execution_count": 8,
     "metadata": {},
     "output_type": "execute_result"
    }
   ],
   "source": [
    "bloom.init_prompt(template=PROMPT_TEMPLATE, input_vars=['tweet'])"
   ]
  },
  {
   "cell_type": "code",
   "execution_count": 13,
   "id": "274780c4",
   "metadata": {},
   "outputs": [
    {
     "name": "stderr",
     "output_type": "stream",
     "text": [
      "2023-04-04 19:20:43,775 - INFO     | __main__   | Starting BLOOM generation...\n"
     ]
    },
    {
     "data": {
      "application/vnd.jupyter.widget-view+json": {
       "model_id": "978294423ec44662bf486182dc52e737",
       "version_major": 2,
       "version_minor": 0
      },
      "text/plain": [
       "  0%|          | 0/100 [00:00<?, ?it/s]"
      ]
     },
     "metadata": {},
     "output_type": "display_data"
    },
    {
     "name": "stderr",
     "output_type": "stream",
     "text": [
      "2023-04-04 19:22:49,300 - INFO     | __main__   | 50 - Saving checkpoint...\n",
      "2023-04-04 19:22:49,308 - INFO     | helpers.data_helpers | output_tweets.parquet saved.\n",
      "2023-04-04 19:25:53,560 - INFO     | __main__   | 100 - Saving checkpoint...\n",
      "2023-04-04 19:25:53,574 - INFO     | helpers.data_helpers | output_tweets.parquet saved.\n"
     ]
    }
   ],
   "source": [
    "logger.info('Starting BLOOM generation...')\n",
    "bloom_outs = [' ' for _ in range(N_TWEETS)]\n",
    "for i, tweet in enumerate(tqdm(output_tweets['full_text'])):\n",
    "    bloom_llm, bloom_out = bloom.generate(inject_obj=tweet)\n",
    "    bloom_outs[i] = bloom_out\n",
    "    time.sleep(FAST_COOLDOWN)\n",
    "    if (i+1) % 50 == 0:\n",
    "        logger.info(f'{i+1} - Saving checkpoint...')\n",
    "        output_tweets['bloom_out'] = np.array(bloom_outs)\n",
    "        save_to_parquet(data_dir='outputs', df=output_tweets, name='output_tweets')"
   ]
  },
  {
   "cell_type": "code",
   "execution_count": 14,
   "id": "f57cad90",
   "metadata": {},
   "outputs": [
    {
     "name": "stderr",
     "output_type": "stream",
     "text": [
      "2023-04-04 19:25:53,670 - INFO     | helpers.data_helpers | output_tweets.parquet saved.\n"
     ]
    }
   ],
   "source": [
    "output_tweets['bloom_out'] = bloom_outs\n",
    "save_to_parquet(data_dir='outputs', df=output_tweets, name='output_tweets')"
   ]
  },
  {
   "cell_type": "markdown",
   "id": "cdeca1e6",
   "metadata": {},
   "source": [
    "### GPT4All"
   ]
  },
  {
   "cell_type": "code",
   "execution_count": 15,
   "id": "296565e9",
   "metadata": {
    "scrolled": true
   },
   "outputs": [
    {
     "name": "stderr",
     "output_type": "stream",
     "text": [
      "2023-04-04 19:26:22,097 - INFO     | models.generation | \n",
      "Initializing GPT4ALL model  - Temp: 1e-10 - Context window: 2048 - Max tokens: 256\n",
      "llama_model_load: loading model from '.models/gpt4all-7B/gpt4all-converted.bin' - please wait ...\n",
      "llama_model_load: n_vocab = 32001\n",
      "llama_model_load: n_ctx   = 2048\n",
      "llama_model_load: n_embd  = 4096\n",
      "llama_model_load: n_mult  = 256\n",
      "llama_model_load: n_head  = 32\n",
      "llama_model_load: n_layer = 32\n",
      "llama_model_load: n_rot   = 128\n",
      "llama_model_load: f16     = 2\n",
      "llama_model_load: n_ff    = 11008\n",
      "llama_model_load: n_parts = 1\n",
      "llama_model_load: type    = 1\n",
      "llama_model_load: ggml map size = 4017.70 MB\n",
      "llama_model_load: ggml ctx size =  81.25 KB\n",
      "llama_model_load: mem required  = 5809.78 MB (+ 2052.00 MB per state)\n",
      "llama_model_load: loading tensors from '.models/gpt4all-7B/gpt4all-converted.bin'\n",
      "llama_model_load: model size =  4017.27 MB / num tensors = 291\n",
      "llama_init_from_file: kv self size  = 2048.00 MB\n"
     ]
    }
   ],
   "source": [
    "gpt4all = Model(\n",
    "    model_name='gpt4all',\n",
    "    n_threads=6,\n",
    "    local_model_path=GPT4ALL_PATH\n",
    ")"
   ]
  },
  {
   "cell_type": "code",
   "execution_count": 16,
   "id": "ba7a2a7c",
   "metadata": {},
   "outputs": [
    {
     "name": "stderr",
     "output_type": "stream",
     "text": [
      "2023-04-04 19:26:26,005 - INFO     | models.generation | Injecting Variables: ['tweet']\n"
     ]
    },
    {
     "data": {
      "text/plain": [
       "'Answer the question based on the context below.     Context: You are a marketing and customer relationship management assistant,     your task is to classify a given tweet as either a     potential lead or not. Provide your detailed analysis of the following tweet     as a potential lead in the context of marketing and customer relationship management.     Tweet: {tweet}     Question: Is the above tweet a potential lead? Yes or No? Why?.     Answer: '"
      ]
     },
     "execution_count": 16,
     "metadata": {},
     "output_type": "execute_result"
    }
   ],
   "source": [
    "gpt4all.init_prompt(template=PROMPT_TEMPLATE, input_vars=['tweet'])"
   ]
  },
  {
   "cell_type": "code",
   "execution_count": 17,
   "id": "15780b71",
   "metadata": {},
   "outputs": [
    {
     "name": "stderr",
     "output_type": "stream",
     "text": [
      "2023-04-04 19:27:00,097 - INFO     | __main__   | Starting GPT4All generation...\n"
     ]
    },
    {
     "data": {
      "application/vnd.jupyter.widget-view+json": {
       "model_id": "855e382cf21044bab991a436e25f9443",
       "version_major": 2,
       "version_minor": 0
      },
      "text/plain": [
       "  0%|          | 0/100 [00:00<?, ?it/s]"
      ]
     },
     "metadata": {},
     "output_type": "display_data"
    },
    {
     "name": "stderr",
     "output_type": "stream",
     "text": [
      "2023-04-04 19:41:47,947 - INFO     | helpers.data_helpers | output_tweets.parquet saved.\n",
      "2023-04-04 19:57:23,399 - INFO     | helpers.data_helpers | output_tweets.parquet saved.\n"
     ]
    }
   ],
   "source": [
    "logger.info('Starting GPT4All generation...')\n",
    "gpt4all_outs = [' ' for _ in range(N_TWEETS)]\n",
    "for i, tweet in enumerate(tqdm(output_tweets['full_text'])):\n",
    "    gpt4all_llm, gpt4all_out = gpt4all.generate(tweet)\n",
    "    gpt4all_outs[i] = gpt4all_out\n",
    "    time.sleep(FAST_COOLDOWN)\n",
    "    if (i+1) % 50 == 0:\n",
    "        logger.info(f'{i+1} - Saving checkpoint...')\n",
    "        output_tweets['gpt4all_out'] = np.array(gpt4all_outs)\n",
    "        save_to_parquet(data_dir='outputs', df=output_tweets, name='output_tweets')\n",
    "        time.sleep(COOLDOWN)"
   ]
  },
  {
   "cell_type": "code",
   "execution_count": 18,
   "id": "1edf1bc2",
   "metadata": {},
   "outputs": [
    {
     "name": "stderr",
     "output_type": "stream",
     "text": [
      "2023-04-04 19:59:23,482 - INFO     | helpers.data_helpers | output_tweets.parquet saved.\n"
     ]
    }
   ],
   "source": [
    "output_tweets['gpt4all_out'] = np.array(gpt4all_outs)\n",
    "save_to_parquet(data_dir='outputs', df=output_tweets, name='output_tweets')"
   ]
  },
  {
   "attachments": {},
   "cell_type": "markdown",
   "id": "f821cc5c",
   "metadata": {},
   "source": [
    "### Llama 7B"
   ]
  },
  {
   "cell_type": "code",
   "execution_count": 19,
   "id": "39f1e246",
   "metadata": {},
   "outputs": [
    {
     "name": "stderr",
     "output_type": "stream",
     "text": [
      "2023-04-04 20:15:28,928 - INFO     | models.generation | \n",
      "Initializing LLAMA model  - Temp: 1e-10 - Context window: 2048 - Max tokens: 256\n",
      "llama_model_load: loading model from '.models/llama-7B/ggml-model-q4_0.bin' - please wait ...\n",
      "llama_model_load: n_vocab = 32000\n",
      "llama_model_load: n_ctx   = 2048\n",
      "llama_model_load: n_embd  = 4096\n",
      "llama_model_load: n_mult  = 256\n",
      "llama_model_load: n_head  = 32\n",
      "llama_model_load: n_layer = 32\n",
      "llama_model_load: n_rot   = 128\n",
      "llama_model_load: f16     = 2\n",
      "llama_model_load: n_ff    = 11008\n",
      "llama_model_load: n_parts = 1\n",
      "llama_model_load: type    = 1\n",
      "llama_model_load: ggml map size = 4017.70 MB\n",
      "llama_model_load: ggml ctx size =  81.25 KB\n",
      "llama_model_load: mem required  = 5809.78 MB (+ 2052.00 MB per state)\n",
      "llama_model_load: loading tensors from '.models/llama-7B/ggml-model-q4_0.bin'\n",
      "llama_model_load: model size =  4017.27 MB / num tensors = 291\n",
      "llama_init_from_file: kv self size  = 2048.00 MB\n"
     ]
    }
   ],
   "source": [
    "llama_7b = Model(\n",
    "    model_name='llama',\n",
    "    n_threads=6,\n",
    "    local_model_path=LLAMA_7B_PATH\n",
    ")"
   ]
  },
  {
   "cell_type": "code",
   "execution_count": 20,
   "id": "f14c7b11",
   "metadata": {},
   "outputs": [
    {
     "name": "stderr",
     "output_type": "stream",
     "text": [
      "2023-04-04 20:15:33,957 - INFO     | models.generation | Injecting Variables: ['tweet']\n"
     ]
    },
    {
     "data": {
      "text/plain": [
       "'Answer the question based on the context below.     Context: You are a marketing and customer relationship management assistant,     your task is to classify a given tweet as either a     potential lead or not. Provide your detailed analysis of the following tweet     as a potential lead in the context of marketing and customer relationship management.     Tweet: {tweet}     Question: Is the above tweet a potential lead? Yes or No? Why?.     Answer: '"
      ]
     },
     "execution_count": 20,
     "metadata": {},
     "output_type": "execute_result"
    }
   ],
   "source": [
    "llama_7b.init_prompt(template=PROMPT_TEMPLATE, input_vars=['tweet'])"
   ]
  },
  {
   "cell_type": "code",
   "execution_count": 21,
   "id": "efdc035d",
   "metadata": {},
   "outputs": [
    {
     "name": "stderr",
     "output_type": "stream",
     "text": [
      "2023-04-04 20:15:42,038 - INFO     | __main__   | Starting Llama 7B generation...\n"
     ]
    },
    {
     "data": {
      "application/vnd.jupyter.widget-view+json": {
       "model_id": "b8d23ab6ed754ae4bf59a1dd67f70566",
       "version_major": 2,
       "version_minor": 0
      },
      "text/plain": [
       "  0%|          | 0/100 [00:00<?, ?it/s]"
      ]
     },
     "metadata": {},
     "output_type": "display_data"
    },
    {
     "name": "stderr",
     "output_type": "stream",
     "text": [
      "2023-04-04 20:43:13,640 - INFO     | __main__   | 50 - Saving checkpoint...\n",
      "2023-04-04 20:43:13,653 - INFO     | helpers.data_helpers | output_tweets.parquet saved.\n",
      "2023-04-04 21:12:21,825 - INFO     | __main__   | 100 - Saving checkpoint...\n",
      "2023-04-04 21:12:21,832 - INFO     | helpers.data_helpers | output_tweets.parquet saved.\n"
     ]
    }
   ],
   "source": [
    "logger.info('Starting Llama 7B generation...')\n",
    "llama_7b_outs = [' ' for _ in range(N_TWEETS)]\n",
    "for i, tweet in enumerate(tqdm(output_tweets['full_text'])):\n",
    "    llama_7b_llm, llama_7b_out = llama_7b.generate(tweet)\n",
    "    llama_7b_outs[i] = llama_7b_out\n",
    "    time.sleep(FAST_COOLDOWN)\n",
    "    if (i+1) % 50 == 0:\n",
    "        logger.info(f'{i+1} - Saving checkpoint...')\n",
    "        output_tweets['llama_7b_out'] = np.array(llama_7b_outs)\n",
    "        save_to_parquet(data_dir='outputs', df=output_tweets, name='output_tweets')\n",
    "        time.sleep(COOLDOWN)"
   ]
  },
  {
   "cell_type": "code",
   "execution_count": 22,
   "id": "98b7ed8f",
   "metadata": {},
   "outputs": [
    {
     "name": "stderr",
     "output_type": "stream",
     "text": [
      "2023-04-04 21:14:21,915 - INFO     | helpers.data_helpers | output_tweets.parquet saved.\n"
     ]
    }
   ],
   "source": [
    "output_tweets['llama_7b_out'] = np.array(llama_7b_outs)\n",
    "save_to_parquet(data_dir='outputs', df=output_tweets, name='output_tweets')"
   ]
  },
  {
   "attachments": {},
   "cell_type": "markdown",
   "id": "e3f78f28",
   "metadata": {},
   "source": [
    "### Llama 13B"
   ]
  },
  {
   "cell_type": "code",
   "execution_count": null,
   "id": "49590f4a",
   "metadata": {},
   "outputs": [],
   "source": [
    "llama_13b = Model(\n",
    "    model_name='llama',\n",
    "    n_threads=6,\n",
    "    local_model_path=LLAMA_13B_PATH\n",
    ")"
   ]
  },
  {
   "cell_type": "code",
   "execution_count": null,
   "id": "67639272",
   "metadata": {},
   "outputs": [],
   "source": [
    "llama_13b.init_prompt(template=PROMPT_TEMPLATE, input_vars=['tweet'])"
   ]
  },
  {
   "cell_type": "code",
   "execution_count": null,
   "id": "5cb549e3",
   "metadata": {},
   "outputs": [],
   "source": [
    "logger.info('Starting Llama 13B generation...')\n",
    "llama_13b_outs = [' ' for _ in range(N_TWEETS)]\n",
    "for i, tweet in enumerate(tqdm(output_tweets['full_text'])):\n",
    "    llama_13b_llm, llama_13b_out = llama_13b.generate(tweet)\n",
    "    llama_13b_outs[i] = llama_13b_out\n",
    "    time.sleep(FAST_COOLDOWN)\n",
    "    if (i+1) % 50 == 0:\n",
    "        logger.info(f'{i+1} - Saving checkpoint...')\n",
    "        output_tweets['llama_13b_out'] = np.array(llama_13b_outs)\n",
    "        save_to_parquet(data_dir='outputs', df=output_tweets, name='output_tweets')\n",
    "        time.sleep(COOLDOWN)"
   ]
  },
  {
   "cell_type": "code",
   "execution_count": null,
   "id": "f278d508",
   "metadata": {},
   "outputs": [],
   "source": [
    "output_tweets['llama_13b_out'] = np.array(llama_13b_outs)\n",
    "save_to_parquet(data_dir='outputs', df=output_tweets, name='output_tweets')"
   ]
  }
 ],
 "metadata": {
  "kernelspec": {
   "display_name": "Python 3 (ipykernel)",
   "language": "python",
   "name": "python3"
  },
  "language_info": {
   "codemirror_mode": {
    "name": "ipython",
    "version": 3
   },
   "file_extension": ".py",
   "mimetype": "text/x-python",
   "name": "python",
   "nbconvert_exporter": "python",
   "pygments_lexer": "ipython3",
   "version": "3.9.13"
  }
 },
 "nbformat": 4,
 "nbformat_minor": 5
}
