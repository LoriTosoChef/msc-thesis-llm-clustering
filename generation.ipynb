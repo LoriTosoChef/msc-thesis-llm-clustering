{
 "cells": [
  {
   "cell_type": "code",
   "execution_count": 15,
   "id": "8eddb2d9",
   "metadata": {},
   "outputs": [],
   "source": [
    "import logging\n",
    "import time\n",
    "import numpy as np\n",
    "import pandas as pd\n",
    "from tqdm.auto import tqdm\n",
    "\n",
    "from models.generation import Model\n",
    "\n",
    "from config import HUGGINGFACE_TOKEN, GPT4ALL_PATH\n",
    "\n",
    "logger = logging.getLogger(__name__)"
   ]
  },
  {
   "cell_type": "markdown",
   "id": "72ba148d",
   "metadata": {},
   "source": [
    "# Data"
   ]
  },
  {
   "cell_type": "code",
   "execution_count": 16,
   "id": "3c602859",
   "metadata": {},
   "outputs": [
    {
     "name": "stderr",
     "output_type": "stream",
     "text": [
      "2023-04-04 17:17:31,084 - INFO     | __main__   | 21711 tweets in generation set.\n"
     ]
    }
   ],
   "source": [
    "tweets = pd.read_parquet('data/eval_tweets_202342.parquet')\n",
    "logger.info(f'{len(tweets)} tweets in generation set.')"
   ]
  },
  {
   "cell_type": "code",
   "execution_count": 17,
   "id": "a94b9728",
   "metadata": {},
   "outputs": [
    {
     "name": "stderr",
     "output_type": "stream",
     "text": [
      "2023-04-04 17:17:31,101 - INFO     | __main__   | Generating from 100 tweets.\n"
     ]
    }
   ],
   "source": [
    "N_TWEETS = 100\n",
    "logger.info(f'Generating from {N_TWEETS} tweets.')"
   ]
  },
  {
   "cell_type": "code",
   "execution_count": 18,
   "id": "6e693707",
   "metadata": {},
   "outputs": [],
   "source": [
    "output_tweets = tweets.iloc[:N_TWEETS].copy()\n",
    "output_tweets.drop(columns=['created_at', 'entities'], inplace=True)"
   ]
  },
  {
   "cell_type": "markdown",
   "id": "b914c34f",
   "metadata": {},
   "source": [
    "# Prompt Engineering"
   ]
  },
  {
   "cell_type": "code",
   "execution_count": 19,
   "id": "9670a947",
   "metadata": {},
   "outputs": [],
   "source": [
    "PROMPT_TEMPLATE = \"\"\"Answer the question based on the context below. \\\n",
    "    Context: You are a marketing and customer relationship management assistant, \\\n",
    "    your task is to classify a given tweet as either a \\\n",
    "    potential lead or not. Provide your analysis of the following social media post (tweet) \\\n",
    "    as a potential lead in the context of marketing and customer relationship management. \\\n",
    "    Tweet: {tweet} \\\n",
    "    Question: Is the above tweet a potential lead? Yes or No? Why?. \\\n",
    "    Answer: \"\"\""
   ]
  },
  {
   "cell_type": "markdown",
   "id": "e4452046",
   "metadata": {},
   "source": [
    "# Models\n",
    "\n",
    "todo"
   ]
  },
  {
   "cell_type": "markdown",
   "id": "668a9d46",
   "metadata": {},
   "source": [
    "### BLOOM"
   ]
  },
  {
   "cell_type": "code",
   "execution_count": 20,
   "id": "6719cc81",
   "metadata": {
    "scrolled": true
   },
   "outputs": [
    {
     "name": "stderr",
     "output_type": "stream",
     "text": [
      "2023-04-04 17:17:31,197 - INFO     | models.generation | \n",
      "Initializing BLOOM model  - Temp: 1e-10 - Context window: 2048 - Max tokens: 256\n"
     ]
    }
   ],
   "source": [
    "bloom = Model(\n",
    "    model_name='bloom',\n",
    "    hf_api=HUGGINGFACE_TOKEN,\n",
    "    gpt4all_path=GPT4ALL_PATH\n",
    ")"
   ]
  },
  {
   "cell_type": "code",
   "execution_count": 21,
   "id": "a7343505",
   "metadata": {},
   "outputs": [
    {
     "name": "stderr",
     "output_type": "stream",
     "text": [
      "2023-04-04 17:17:31,958 - INFO     | models.generation | Injecting Variables: ['tweet']\n"
     ]
    },
    {
     "data": {
      "text/plain": [
       "'Answer the question based on the context below.     Context: You are a marketing and customer relationship management assistant,     your task is to classify a given tweet as either a     potential lead or not. Provide your analysis of the following social media post (tweet)     as a potential lead in the context of marketing and customer relationship management.     Tweet: {tweet}     Question: Is the above tweet a potential lead? Yes or No? Why?.     Answer: '"
      ]
     },
     "execution_count": 21,
     "metadata": {},
     "output_type": "execute_result"
    }
   ],
   "source": [
    "bloom.init_prompt(template=PROMPT_TEMPLATE, input_vars=['tweet'])"
   ]
  },
  {
   "cell_type": "code",
   "execution_count": 22,
   "id": "274780c4",
   "metadata": {},
   "outputs": [
    {
     "name": "stderr",
     "output_type": "stream",
     "text": [
      "2023-04-04 17:17:31,983 - INFO     | __main__   | Starting BLOOM generation...\n"
     ]
    },
    {
     "data": {
      "application/vnd.jupyter.widget-view+json": {
       "model_id": "5f83cc08ce3342968d7d3e44175dca0d",
       "version_major": 2,
       "version_minor": 0
      },
      "text/plain": [
       "  0%|          | 0/100 [00:00<?, ?it/s]"
      ]
     },
     "metadata": {},
     "output_type": "display_data"
    },
    {
     "ename": "KeyboardInterrupt",
     "evalue": "",
     "output_type": "error",
     "traceback": [
      "\u001b[0;31m---------------------------------------------------------------------------\u001b[0m",
      "\u001b[0;31mKeyboardInterrupt\u001b[0m                         Traceback (most recent call last)",
      "Cell \u001b[0;32mIn[22], line 6\u001b[0m\n\u001b[1;32m      4\u001b[0m bloom_llm, bloom_out \u001b[39m=\u001b[39m bloom\u001b[39m.\u001b[39mgenerate(inject_obj\u001b[39m=\u001b[39mtweet)\n\u001b[1;32m      5\u001b[0m bloom_outs\u001b[39m.\u001b[39mappend(bloom_out)\n\u001b[0;32m----> 6\u001b[0m time\u001b[39m.\u001b[39;49msleep(\u001b[39m2\u001b[39;49m)\n",
      "\u001b[0;31mKeyboardInterrupt\u001b[0m: "
     ]
    }
   ],
   "source": [
    "logger.info('Starting BLOOM generation...')\n",
    "bloom_outs = []\n",
    "for i, tweet in enumerate(tqdm(output_tweets['full_text'])):\n",
    "    bloom_llm, bloom_out = bloom.generate(inject_obj=tweet)\n",
    "    bloom_outs.append(bloom_out)\n",
    "    time.sleep(2)"
   ]
  },
  {
   "cell_type": "code",
   "execution_count": null,
   "id": "f57cad90",
   "metadata": {},
   "outputs": [],
   "source": [
    "output_tweets['bloom_out'] = np.array(bloom_outs)"
   ]
  },
  {
   "cell_type": "markdown",
   "id": "cdeca1e6",
   "metadata": {},
   "source": [
    "### GPT4All"
   ]
  },
  {
   "cell_type": "code",
   "execution_count": null,
   "id": "296565e9",
   "metadata": {
    "scrolled": true
   },
   "outputs": [
    {
     "name": "stderr",
     "output_type": "stream",
     "text": [
      "2023-04-04 16:25:21,368 - INFO     | models.generation | \n",
      "Initializing GPT4ALL model  - Temp: 1e-10 - Context window: 2048 - Max tokens: 256\n",
      "llama_model_load: loading model from '/Users/lorenzo/Documents/repos/msc-thesis-llm-clustering/.models/gpt4all-7B/gpt4all-converted.bin' - please wait ...\n",
      "llama_model_load: n_vocab = 32001\n",
      "llama_model_load: n_ctx   = 2048\n",
      "llama_model_load: n_embd  = 4096\n",
      "llama_model_load: n_mult  = 256\n",
      "llama_model_load: n_head  = 32\n",
      "llama_model_load: n_layer = 32\n",
      "llama_model_load: n_rot   = 128\n",
      "llama_model_load: f16     = 2\n",
      "llama_model_load: n_ff    = 11008\n",
      "llama_model_load: n_parts = 1\n",
      "llama_model_load: type    = 1\n",
      "llama_model_load: ggml map size = 4017.70 MB\n",
      "llama_model_load: ggml ctx size =  81.25 KB\n",
      "llama_model_load: mem required  = 5809.78 MB (+ 2052.00 MB per state)\n",
      "llama_model_load: loading tensors from '/Users/lorenzo/Documents/repos/msc-thesis-llm-clustering/.models/gpt4all-7B/gpt4all-converted.bin'\n",
      "llama_model_load: model size =  4017.27 MB / num tensors = 291\n",
      "llama_init_from_file: kv self size  = 2048.00 MB\n"
     ]
    }
   ],
   "source": [
    "gpt4all = Model(\n",
    "    model_name='gpt4all',\n",
    "    n_threads=6,\n",
    "    hf_api=HUGGINGFACE_TOKEN,\n",
    "    gpt4all_path=GPT4ALL_PATH\n",
    ")"
   ]
  },
  {
   "cell_type": "code",
   "execution_count": null,
   "id": "ba7a2a7c",
   "metadata": {},
   "outputs": [
    {
     "name": "stderr",
     "output_type": "stream",
     "text": [
      "2023-04-04 16:25:21,799 - INFO     | models.generation | Injecting Variables: ['tweet']\n"
     ]
    },
    {
     "data": {
      "text/plain": [
       "'Answer the question based on the context below.     Context: You are a marketing and customer relationship management assistant,     your task is to classify a given tweet as either a     potential lead or not. Provide your analysis of the following social media post (tweet)     as a potential lead in the context of marketing and customer relationship management.     Tweet: {tweet}     Question: Is the above tweet a potential lead? Yes or No? Why?.     Answer: '"
      ]
     },
     "execution_count": 11,
     "metadata": {},
     "output_type": "execute_result"
    }
   ],
   "source": [
    "gpt4all.init_prompt(template=PROMPT_TEMPLATE, input_vars=['tweet'])"
   ]
  },
  {
   "cell_type": "code",
   "execution_count": null,
   "id": "15780b71",
   "metadata": {},
   "outputs": [
    {
     "name": "stderr",
     "output_type": "stream",
     "text": [
      "2023-04-04 16:25:21,823 - INFO     | __main__   | Starting GPT4All generation...\n"
     ]
    },
    {
     "data": {
      "application/vnd.jupyter.widget-view+json": {
       "model_id": "dbad305633874f1d90d55436468e5010",
       "version_major": 2,
       "version_minor": 0
      },
      "text/plain": [
       "  0%|          | 0/5 [00:00<?, ?it/s]"
      ]
     },
     "metadata": {},
     "output_type": "display_data"
    }
   ],
   "source": [
    "logger.info('Starting GPT4All generation...')\n",
    "gpt4all_outs = []\n",
    "for i, tweet in enumerate(tqdm(output_tweets['full_text'])):\n",
    "    gpt4all_llm, gpt4all_out = gpt4all.generate(tweet)\n",
    "    gpt4all_outs.append(gpt4all_out)\n",
    "    time.sleep(2)"
   ]
  },
  {
   "cell_type": "code",
   "execution_count": null,
   "id": "1edf1bc2",
   "metadata": {},
   "outputs": [],
   "source": [
    "output_tweets['gpt4all_out'] = np.array(gpt4all_outs)"
   ]
  }
 ],
 "metadata": {
  "kernelspec": {
   "display_name": "Python 3 (ipykernel)",
   "language": "python",
   "name": "python3"
  },
  "language_info": {
   "codemirror_mode": {
    "name": "ipython",
    "version": 3
   },
   "file_extension": ".py",
   "mimetype": "text/x-python",
   "name": "python",
   "nbconvert_exporter": "python",
   "pygments_lexer": "ipython3",
   "version": "3.9.13"
  }
 },
 "nbformat": 4,
 "nbformat_minor": 5
}
