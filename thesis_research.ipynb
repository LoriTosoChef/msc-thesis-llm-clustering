{
 "cells": [
  {
   "cell_type": "code",
   "execution_count": 1,
   "metadata": {},
   "outputs": [
    {
     "name": "stderr",
     "output_type": "stream",
     "text": [
      "2023-07-10 22:38:51,198 - INFO     | config     | Loading environment variables\n"
     ]
    }
   ],
   "source": [
    "import logging\n",
    "import numpy as np\n",
    "import pandas as pd\n",
    "from tqdm.auto import tqdm\n",
    "\n",
    "from models.generation import Model\n",
    "\n",
    "from config import HUGGINGFACE_TOKEN, OPENAI_API_KEY, LLAMA_7B_PATH, GPT4ALL_PATH, LLAMA_13B_PATH\n",
    "\n",
    "from helpers.data_helpers import save_to_parquet\n",
    "from helpers.generation_helpers import generation_loop\n",
    "\n",
    "logger = logging.getLogger(__name__)"
   ]
  },
  {
   "cell_type": "code",
   "execution_count": 2,
   "metadata": {},
   "outputs": [],
   "source": [
    "# Global Flags\n",
    "SLOW_COOLDOWN = 900 # for local models only\n",
    "FAST_COOLDOWN = 10  # for local models only\n",
    "\n",
    "N_TWEETS = 1000\n",
    "\n",
    "RUN_ALL = False"
   ]
  },
  {
   "attachments": {},
   "cell_type": "markdown",
   "metadata": {},
   "source": [
    "# DATA Import"
   ]
  },
  {
   "cell_type": "code",
   "execution_count": 3,
   "metadata": {},
   "outputs": [
    {
     "name": "stderr",
     "output_type": "stream",
     "text": [
      "2023-07-10 22:23:16,923 - INFO     | __main__   | 21711 tweets in generation set.\n",
      "2023-07-10 22:23:16,924 - INFO     | __main__   | Generating from 1000 tweets.\n"
     ]
    }
   ],
   "source": [
    "tweets = pd.read_parquet('data/eval_tweets_202342.parquet')\n",
    "logger.info(f'{len(tweets)} tweets in generation set.')\n",
    "logger.info(f'Generating from {N_TWEETS} tweets.')"
   ]
  },
  {
   "cell_type": "code",
   "execution_count": 4,
   "metadata": {},
   "outputs": [],
   "source": [
    "# Select tweets\n",
    "output_tweets = tweets.iloc[N_TWEETS:2000].copy()\n",
    "output_tweets.drop(columns=['created_at', 'entities'], inplace=True)\n",
    "\n",
    "output_tweets = output_tweets.iloc[400:].copy()"
   ]
  },
  {
   "cell_type": "code",
   "execution_count": 5,
   "metadata": {},
   "outputs": [
    {
     "data": {
      "text/html": [
       "<div>\n",
       "<style scoped>\n",
       "    .dataframe tbody tr th:only-of-type {\n",
       "        vertical-align: middle;\n",
       "    }\n",
       "\n",
       "    .dataframe tbody tr th {\n",
       "        vertical-align: top;\n",
       "    }\n",
       "\n",
       "    .dataframe thead th {\n",
       "        text-align: right;\n",
       "    }\n",
       "</style>\n",
       "<table border=\"1\" class=\"dataframe\">\n",
       "  <thead>\n",
       "    <tr style=\"text-align: right;\">\n",
       "      <th></th>\n",
       "      <th>id</th>\n",
       "      <th>full_text</th>\n",
       "    </tr>\n",
       "  </thead>\n",
       "  <tbody>\n",
       "    <tr>\n",
       "      <th>1400</th>\n",
       "      <td>1642178534377488390</td>\n",
       "      <td>🚨🛒 big news for all shopify users this weekend...</td>\n",
       "    </tr>\n",
       "    <tr>\n",
       "      <th>1401</th>\n",
       "      <td>1642528275837722628</td>\n",
       "      <td>oh, yes. he was a raging anti-semite. he even ...</td>\n",
       "    </tr>\n",
       "    <tr>\n",
       "      <th>1402</th>\n",
       "      <td>1641589546398760962</td>\n",
       "      <td>#japan #monthly #retailtrades.a.(mom) japanese...</td>\n",
       "    </tr>\n",
       "    <tr>\n",
       "      <th>1403</th>\n",
       "      <td>1642517827033923585</td>\n",
       "      <td>some facts like there are many teams ferari, ...</td>\n",
       "    </tr>\n",
       "    <tr>\n",
       "      <th>1404</th>\n",
       "      <td>1642493639535239169</td>\n",
       "      <td>under armour women's charged running shoe</td>\n",
       "    </tr>\n",
       "    <tr>\n",
       "      <th>...</th>\n",
       "      <td>...</td>\n",
       "      <td>...</td>\n",
       "    </tr>\n",
       "    <tr>\n",
       "      <th>1995</th>\n",
       "      <td>1642547546777321472</td>\n",
       "      <td>yey black haired hoon this cb</td>\n",
       "    </tr>\n",
       "    <tr>\n",
       "      <th>1996</th>\n",
       "      <td>1642465085108162562</td>\n",
       "      <td>this good american assistant living homes gon...</td>\n",
       "    </tr>\n",
       "    <tr>\n",
       "      <th>1997</th>\n",
       "      <td>1642519982356439040</td>\n",
       "      <td>very true! but the thought of his mascara run...</td>\n",
       "    </tr>\n",
       "    <tr>\n",
       "      <th>1998</th>\n",
       "      <td>1642494923696996353</td>\n",
       "      <td>just fake lashes and make up with good lighti...</td>\n",
       "    </tr>\n",
       "    <tr>\n",
       "      <th>1999</th>\n",
       "      <td>1641214448407904269</td>\n",
       "      <td>you don’t know the difference? hey wanna by a...</td>\n",
       "    </tr>\n",
       "  </tbody>\n",
       "</table>\n",
       "<p>600 rows × 2 columns</p>\n",
       "</div>"
      ],
      "text/plain": [
       "                       id                                          full_text\n",
       "1400  1642178534377488390  🚨🛒 big news for all shopify users this weekend...\n",
       "1401  1642528275837722628  oh, yes. he was a raging anti-semite. he even ...\n",
       "1402  1641589546398760962  #japan #monthly #retailtrades.a.(mom) japanese...\n",
       "1403  1642517827033923585   some facts like there are many teams ferari, ...\n",
       "1404  1642493639535239169         under armour women's charged running shoe \n",
       "...                   ...                                                ...\n",
       "1995  1642547546777321472                     yey black haired hoon this cb \n",
       "1996  1642465085108162562   this good american assistant living homes gon...\n",
       "1997  1642519982356439040   very true! but the thought of his mascara run...\n",
       "1998  1642494923696996353   just fake lashes and make up with good lighti...\n",
       "1999  1641214448407904269   you don’t know the difference? hey wanna by a...\n",
       "\n",
       "[600 rows x 2 columns]"
      ]
     },
     "execution_count": 5,
     "metadata": {},
     "output_type": "execute_result"
    }
   ],
   "source": [
    "output_tweets"
   ]
  },
  {
   "attachments": {},
   "cell_type": "markdown",
   "metadata": {},
   "source": [
    "# Prompt Engineering"
   ]
  },
  {
   "cell_type": "code",
   "execution_count": 6,
   "metadata": {},
   "outputs": [],
   "source": [
    "PROMPT_TEMPLATE = \"\"\"Answer the question based on the context below.\n",
    "Context: You are a marketing and customer relationship management assistant,\n",
    "your task is to classify a given tweet as either a\n",
    "potential lead or not. Provide your detailed analysis of the following tweet\n",
    "as a potential lead in the context of marketing and customer relationship management. \n",
    "Answer with less than 100 words.\n",
    "Tweet: \"{tweet}\"\n",
    "Question: Is the above tweet a potential lead? Yes or No? Why?.\n",
    "Answer: \"\"\""
   ]
  },
  {
   "attachments": {},
   "cell_type": "markdown",
   "metadata": {},
   "source": [
    "# Models"
   ]
  },
  {
   "cell_type": "code",
   "execution_count": 7,
   "metadata": {},
   "outputs": [
    {
     "name": "stderr",
     "output_type": "stream",
     "text": [
      "2023-07-10 22:23:20,950 - INFO     | models.generation | \n",
      "Initializing OPENAI model  - Temp: 1e-10 - Context window: 2048 - Max tokens: 500\n"
     ]
    }
   ],
   "source": [
    "# OpenAI Model\n",
    "openai = Model(model_name='openai',\n",
    "               openai_api=OPENAI_API_KEY,\n",
    "               openai_model='gpt-3.5-turbo',\n",
    "               max_tokens=500)\n",
    "\n",
    "if RUN_ALL:\n",
    "    # injecting prompts\n",
    "    openai.init_prompt(template=PROMPT_TEMPLATE,\n",
    "                    input_vars=['tweet'])\n",
    "\n",
    "    # generation\n",
    "    output_tweets = generation_loop(model=openai,\n",
    "                            model_col='gpt-3.5-turbo',\n",
    "                            n=N_TWEETS,\n",
    "                            tweets=output_tweets,\n",
    "                            fast_cool=FAST_COOLDOWN,\n",
    "                            slow_cool=120,\n",
    "                            out_dir='outputs',\n",
    "                            out_name='1000_2T')"
   ]
  },
  {
   "cell_type": "code",
   "execution_count": 8,
   "metadata": {},
   "outputs": [
    {
     "name": "stderr",
     "output_type": "stream",
     "text": [
      "2023-07-10 22:23:22,098 - INFO     | models.generation | \n",
      "Initializing ALPACA-770M model  - Temp: 1e-10 - Context window: 2048 - Max tokens: 500\n"
     ]
    }
   ],
   "source": [
    "# Alpaca Model from Stanford, based on LLAMA\n",
    "alpaca = Model(model_name='alpaca-770M',\n",
    "               hf_api=HUGGINGFACE_TOKEN,\n",
    "               hf_repo='declare-lab/flan-alpaca-large',\n",
    "               max_tokens=500)\n",
    "\n",
    "if RUN_ALL:\n",
    "    # injecting prompt\n",
    "    alpaca.init_prompt(template=PROMPT_TEMPLATE,\n",
    "                    input_vars=['tweet'])\n",
    "\n",
    "    # generation\n",
    "    output_tweets = generation_loop(model=alpaca,\n",
    "                                    model_col='alpaca',\n",
    "                                    n=50,\n",
    "                                    tweets=output_tweets,\n",
    "                                    fast_cool=FAST_COOLDOWN,\n",
    "                                    slow_cool=120,\n",
    "                                    out_dir='outputs',\n",
    "                                    out_name='1000_2T_alpaca_50')"
   ]
  },
  {
   "cell_type": "code",
   "execution_count": 9,
   "metadata": {},
   "outputs": [
    {
     "name": "stderr",
     "output_type": "stream",
     "text": [
      "2023-07-10 22:23:22,700 - INFO     | models.generation | \n",
      "Initializing GPT4ALL model  - Temp: 1e-10 - Context window: 2048 - Max tokens: 500\n",
      "llama_model_load: loading model from '.models/gpt4all-7B/gpt4all-converted.bin' - please wait ...\n",
      "llama_model_load: n_vocab = 32001\n",
      "llama_model_load: n_ctx   = 2048\n",
      "llama_model_load: n_embd  = 4096\n",
      "llama_model_load: n_mult  = 256\n",
      "llama_model_load: n_head  = 32\n",
      "llama_model_load: n_layer = 32\n",
      "llama_model_load: n_rot   = 128\n",
      "llama_model_load: f16     = 2\n",
      "llama_model_load: n_ff    = 11008\n",
      "llama_model_load: n_parts = 1\n",
      "llama_model_load: type    = 1\n",
      "llama_model_load: ggml map size = 4017.70 MB\n",
      "llama_model_load: ggml ctx size =  81.25 KB\n",
      "llama_model_load: mem required  = 5809.78 MB (+ 2052.00 MB per state)\n",
      "llama_model_load: loading tensors from '.models/gpt4all-7B/gpt4all-converted.bin'\n",
      "llama_model_load: model size =  4017.27 MB / num tensors = 291\n",
      "llama_init_from_file: kv self size  = 2048.00 MB\n"
     ]
    }
   ],
   "source": [
    "# GPT4ALL, Fine-Tuned with OpenAI's model Q&As\n",
    "gpt4all = Model(model_name='gpt4all',\n",
    "                n_threads=6,\n",
    "                local_model_path=GPT4ALL_PATH,\n",
    "                max_tokens=500)\n",
    "\n",
    "if RUN_ALL:\n",
    "    # injecting prompt\n",
    "    gpt4all.init_prompt(template=PROMPT_TEMPLATE,\n",
    "                        input_vars=['tweet'])\n",
    "\n",
    "    # generation\n",
    "    output_tweets = generation_loop(model=gpt4all,\n",
    "                                    model_col='gpt4all',\n",
    "                                    n=600,\n",
    "                                    tweets=output_tweets,\n",
    "                                    fast_cool=FAST_COOLDOWN,\n",
    "                                    slow_cool=SLOW_COOLDOWN,\n",
    "                                    out_dir='outputs',\n",
    "                                    out_name='1000T_2_gpt4all_600')"
   ]
  },
  {
   "attachments": {},
   "cell_type": "markdown",
   "metadata": {},
   "source": [
    "# Embeddings"
   ]
  },
  {
   "cell_type": "code",
   "execution_count": 10,
   "metadata": {},
   "outputs": [
    {
     "data": {
      "text/plain": [
       "Index(['gpt-3.5-turbo', 'alpaca', 'gpt4all'], dtype='object')"
      ]
     },
     "execution_count": 10,
     "metadata": {},
     "output_type": "execute_result"
    }
   ],
   "source": [
    "# Load tweets and generations\n",
    "df = pd.read_parquet('outputs/2000T_202375.parquet')\n",
    "\n",
    "# Select model columns\n",
    "model_cols = df.columns[2:]\n",
    "model_cols"
   ]
  },
  {
   "cell_type": "code",
   "execution_count": 11,
   "metadata": {},
   "outputs": [
    {
     "name": "stderr",
     "output_type": "stream",
     "text": [
      "2023-07-10 22:23:33,159 - INFO     | models.embeddings | Initializing DISTIL-ROBERTA for Sentence Embeddings\n",
      "2023-07-10 22:23:33,160 - INFO     | sentence_transformers.SentenceTransformer | Load pretrained SentenceTransformer: all-distilroberta-v1\n",
      "2023-07-10 22:23:34,302 - INFO     | sentence_transformers.SentenceTransformer | Use pytorch device: cpu\n"
     ]
    }
   ],
   "source": [
    "from models.embeddings import SentenceEmbeddings\n",
    "\n",
    "# Using distil-roberta for the sentence embeddings\n",
    "distilrberta = SentenceEmbeddings(name='distil-roberta')"
   ]
  },
  {
   "cell_type": "code",
   "execution_count": 10,
   "metadata": {},
   "outputs": [
    {
     "name": "stderr",
     "output_type": "stream",
     "text": [
      "2023-07-05 21:33:50,640 - INFO     | __main__   | Parsing model: gpt-3.5-turbo\n",
      "2023-07-05 21:33:50,641 - INFO     | models.embeddings | DISTIL-ROBERTA - Generating sentence embeddings...\n"
     ]
    },
    {
     "data": {
      "application/vnd.jupyter.widget-view+json": {
       "model_id": "5b03216e6a7e4df79317ce0f9ec58630",
       "version_major": 2,
       "version_minor": 0
      },
      "text/plain": [
       "Batches:   0%|          | 0/63 [00:00<?, ?it/s]"
      ]
     },
     "metadata": {},
     "output_type": "display_data"
    },
    {
     "name": "stderr",
     "output_type": "stream",
     "text": [
      "2023-07-05 21:34:17,615 - INFO     | __main__   | Parsing model: alpaca\n",
      "2023-07-05 21:34:17,616 - INFO     | models.embeddings | DISTIL-ROBERTA - Generating sentence embeddings...\n"
     ]
    },
    {
     "data": {
      "application/vnd.jupyter.widget-view+json": {
       "model_id": "011c2a755c674a0b8b78d50716986bde",
       "version_major": 2,
       "version_minor": 0
      },
      "text/plain": [
       "Batches:   0%|          | 0/63 [00:00<?, ?it/s]"
      ]
     },
     "metadata": {},
     "output_type": "display_data"
    },
    {
     "name": "stderr",
     "output_type": "stream",
     "text": [
      "2023-07-05 21:34:41,950 - INFO     | __main__   | Parsing model: gpt4all\n",
      "2023-07-05 21:34:41,950 - INFO     | models.embeddings | DISTIL-ROBERTA - Generating sentence embeddings...\n"
     ]
    },
    {
     "data": {
      "application/vnd.jupyter.widget-view+json": {
       "model_id": "b20cf467a8004f4fa90d85040c8a2cd4",
       "version_major": 2,
       "version_minor": 0
      },
      "text/plain": [
       "Batches:   0%|          | 0/63 [00:00<?, ?it/s]"
      ]
     },
     "metadata": {},
     "output_type": "display_data"
    }
   ],
   "source": [
    "# generating embeddings\n",
    "embeddings_dict = {}\n",
    "for col in model_cols:\n",
    "    logger.info(f'Parsing model: {col}')\n",
    "    embeddings_dict[col] = distilrberta.generate_embeddings(input_texts=df[col])"
   ]
  },
  {
   "cell_type": "code",
   "execution_count": 11,
   "metadata": {},
   "outputs": [
    {
     "data": {
      "text/html": [
       "<div>\n",
       "<style scoped>\n",
       "    .dataframe tbody tr th:only-of-type {\n",
       "        vertical-align: middle;\n",
       "    }\n",
       "\n",
       "    .dataframe tbody tr th {\n",
       "        vertical-align: top;\n",
       "    }\n",
       "\n",
       "    .dataframe thead th {\n",
       "        text-align: right;\n",
       "    }\n",
       "</style>\n",
       "<table border=\"1\" class=\"dataframe\">\n",
       "  <thead>\n",
       "    <tr style=\"text-align: right;\">\n",
       "      <th></th>\n",
       "      <th>id</th>\n",
       "      <th>full_text</th>\n",
       "      <th>gpt-3.5-turbo</th>\n",
       "      <th>alpaca</th>\n",
       "      <th>gpt4all</th>\n",
       "      <th>gpt-3.5-turbo_embeddings</th>\n",
       "      <th>alpaca_embeddings</th>\n",
       "      <th>gpt4all_embeddings</th>\n",
       "    </tr>\n",
       "  </thead>\n",
       "  <tbody>\n",
       "    <tr>\n",
       "      <th>0</th>\n",
       "      <td>1641514595339862016</td>\n",
       "      <td>thus continuing the roberts' (boebert's maide...</td>\n",
       "      <td>No, this tweet is not a potential lead. The co...</td>\n",
       "      <td>Yes, this tweet is a potential lead because it...</td>\n",
       "      <td>\\nThe given tweet is not a potential lead as i...</td>\n",
       "      <td>[-0.03887094184756279, -0.1105034202337265, -0...</td>\n",
       "      <td>[0.011134546250104904, -0.0867694616317749, -0...</td>\n",
       "      <td>[-0.022826220840215683, -0.08779901266098022, ...</td>\n",
       "    </tr>\n",
       "    <tr>\n",
       "      <th>1</th>\n",
       "      <td>1642044261649780736</td>\n",
       "      <td>my green &amp;amp; black reputation eyeshadow look</td>\n",
       "      <td>No. The tweet does not provide any indication ...</td>\n",
       "      <td>Yes, the tweet is a potential lead because it ...</td>\n",
       "      <td>\\nNo, the above tweet is not a potential lead ...</td>\n",
       "      <td>[-0.024825602769851685, -0.10440673679113388, ...</td>\n",
       "      <td>[-0.022449074313044548, -0.08849964290857315, ...</td>\n",
       "      <td>[-0.02361299842596054, -0.1094249039888382, -0...</td>\n",
       "    </tr>\n",
       "    <tr>\n",
       "      <th>2</th>\n",
       "      <td>1642124227590467584</td>\n",
       "      <td>i don't either but i put an eye liner for sha...</td>\n",
       "      <td>No, the above tweet is not a potential lead. A...</td>\n",
       "      <td>Yes, the tweet is a potential lead because it ...</td>\n",
       "      <td>\\nThe given tweet is not a potential lead as i...</td>\n",
       "      <td>[-0.022488590329885483, -0.09907253086566925, ...</td>\n",
       "      <td>[-0.021942151710391045, -0.09090302884578705, ...</td>\n",
       "      <td>[0.007977220229804516, -0.06419841200113297, -...</td>\n",
       "    </tr>\n",
       "    <tr>\n",
       "      <th>3</th>\n",
       "      <td>1642307728654888961</td>\n",
       "      <td>join the marketsource team! see our latest job...</td>\n",
       "      <td>Yes, the above tweet is a potential lead. The ...</td>\n",
       "      <td>Yes, the tweet is a potential lead because it ...</td>\n",
       "      <td>\\nThe given tweet is not a potential lead as i...</td>\n",
       "      <td>[-0.0332973413169384, -0.09525896608829498, -0...</td>\n",
       "      <td>[-0.048098124563694, -0.09722025692462921, -0....</td>\n",
       "      <td>[-0.017496967688202858, -0.0763673409819603, -...</td>\n",
       "    </tr>\n",
       "    <tr>\n",
       "      <th>4</th>\n",
       "      <td>1642521653497217025</td>\n",
       "      <td>check out mini oneida ceramic floral cherry te...</td>\n",
       "      <td>No, the above tweet is not a potential lead. T...</td>\n",
       "      <td>Yes, the tweet is a potential lead because it ...</td>\n",
       "      <td>\\nNo, the given tweet is not a potential lead....</td>\n",
       "      <td>[-0.017981532961130142, -0.08915165811777115, ...</td>\n",
       "      <td>[-0.007265061605721712, -0.09268850088119507, ...</td>\n",
       "      <td>[-0.010253571905195713, -0.08222711831331253, ...</td>\n",
       "    </tr>\n",
       "  </tbody>\n",
       "</table>\n",
       "</div>"
      ],
      "text/plain": [
       "                    id                                          full_text  \\\n",
       "0  1641514595339862016   thus continuing the roberts' (boebert's maide...   \n",
       "1  1642044261649780736    my green &amp; black reputation eyeshadow look    \n",
       "2  1642124227590467584   i don't either but i put an eye liner for sha...   \n",
       "3  1642307728654888961  join the marketsource team! see our latest job...   \n",
       "4  1642521653497217025  check out mini oneida ceramic floral cherry te...   \n",
       "\n",
       "                                       gpt-3.5-turbo  \\\n",
       "0  No, this tweet is not a potential lead. The co...   \n",
       "1  No. The tweet does not provide any indication ...   \n",
       "2  No, the above tweet is not a potential lead. A...   \n",
       "3  Yes, the above tweet is a potential lead. The ...   \n",
       "4  No, the above tweet is not a potential lead. T...   \n",
       "\n",
       "                                              alpaca  \\\n",
       "0  Yes, this tweet is a potential lead because it...   \n",
       "1  Yes, the tweet is a potential lead because it ...   \n",
       "2  Yes, the tweet is a potential lead because it ...   \n",
       "3  Yes, the tweet is a potential lead because it ...   \n",
       "4  Yes, the tweet is a potential lead because it ...   \n",
       "\n",
       "                                             gpt4all  \\\n",
       "0  \\nThe given tweet is not a potential lead as i...   \n",
       "1  \\nNo, the above tweet is not a potential lead ...   \n",
       "2  \\nThe given tweet is not a potential lead as i...   \n",
       "3  \\nThe given tweet is not a potential lead as i...   \n",
       "4  \\nNo, the given tweet is not a potential lead....   \n",
       "\n",
       "                            gpt-3.5-turbo_embeddings  \\\n",
       "0  [-0.03887094184756279, -0.1105034202337265, -0...   \n",
       "1  [-0.024825602769851685, -0.10440673679113388, ...   \n",
       "2  [-0.022488590329885483, -0.09907253086566925, ...   \n",
       "3  [-0.0332973413169384, -0.09525896608829498, -0...   \n",
       "4  [-0.017981532961130142, -0.08915165811777115, ...   \n",
       "\n",
       "                                   alpaca_embeddings  \\\n",
       "0  [0.011134546250104904, -0.0867694616317749, -0...   \n",
       "1  [-0.022449074313044548, -0.08849964290857315, ...   \n",
       "2  [-0.021942151710391045, -0.09090302884578705, ...   \n",
       "3  [-0.048098124563694, -0.09722025692462921, -0....   \n",
       "4  [-0.007265061605721712, -0.09268850088119507, ...   \n",
       "\n",
       "                                  gpt4all_embeddings  \n",
       "0  [-0.022826220840215683, -0.08779901266098022, ...  \n",
       "1  [-0.02361299842596054, -0.1094249039888382, -0...  \n",
       "2  [0.007977220229804516, -0.06419841200113297, -...  \n",
       "3  [-0.017496967688202858, -0.0763673409819603, -...  \n",
       "4  [-0.010253571905195713, -0.08222711831331253, ...  "
      ]
     },
     "execution_count": 11,
     "metadata": {},
     "output_type": "execute_result"
    }
   ],
   "source": [
    "# insert embeddings in dataframe\n",
    "for col in model_cols:\n",
    "    embeddings_col = col + '_embeddings'\n",
    "    temp = pd.DataFrame({embeddings_col: embeddings_dict[col].tolist()})\n",
    "    df[embeddings_col] = temp[embeddings_col].copy()\n",
    "\n",
    "df.head()"
   ]
  },
  {
   "cell_type": "code",
   "execution_count": 12,
   "metadata": {},
   "outputs": [],
   "source": [
    "SAVE_FULL_DATA = False"
   ]
  },
  {
   "cell_type": "code",
   "execution_count": 13,
   "metadata": {},
   "outputs": [],
   "source": [
    "if SAVE_FULL_DATA:\n",
    "    # save full dataframe with embeddings and embeddings also separately\n",
    "    save_to_parquet(data_dir='.', df=df, name='full_data')\n",
    "\n",
    "    import pickle\n",
    "\n",
    "    with open(f'embeddings/2000T_embeddings_202375.pkl', 'wb') as f:\n",
    "        pickle.dump(embeddings_dict, f)"
   ]
  },
  {
   "attachments": {},
   "cell_type": "markdown",
   "metadata": {},
   "source": [
    "# Clustering"
   ]
  },
  {
   "cell_type": "code",
   "execution_count": 20,
   "metadata": {},
   "outputs": [],
   "source": [
    "from models.clustering import ClusteringModel\n",
    "from helpers.clustering_helpers import clustering_scores, dbscan_loop, kmeans_loop\n",
    "\n",
    "import pickle\n",
    "with open(f'embeddings/2000T_embeddings_202375.pkl', 'rb') as f:\n",
    "        embeddings_dict = pickle.load(f)\n",
    "\n",
    "df = pd.read_parquet('full_data_202375.parquet')"
   ]
  },
  {
   "cell_type": "code",
   "execution_count": null,
   "metadata": {},
   "outputs": [],
   "source": []
  },
  {
   "attachments": {},
   "cell_type": "markdown",
   "metadata": {},
   "source": [
    "## KMeans"
   ]
  },
  {
   "cell_type": "code",
   "execution_count": 180,
   "metadata": {},
   "outputs": [
    {
     "name": "stderr",
     "output_type": "stream",
     "text": [
      "2023-07-08 19:48:58,151 - INFO     | __main__   | GPT-3.5-TURBO\n",
      "2023-07-08 19:49:39,134 - INFO     | __main__   | ALPACA\n",
      "2023-07-08 19:50:16,397 - INFO     | __main__   | GPT4ALL\n"
     ]
    }
   ],
   "source": [
    "kmeans_overall_results = {}\n",
    "for llm, embeddings in embeddings_dict.items():\n",
    "    logger.info(f'{llm.upper()}')\n",
    "    score, components, iters, n_cluster, tols = kmeans_loop(data=embeddings,\n",
    "                                                            n_components_space=[None, 0.80, 0.90, 0.95, 0.99],\n",
    "                                                            n_clusters_space = [2, 3, 4],\n",
    "                                                            max_iter_space = [250],\n",
    "                                                            tol_space = [1e-4, 1e-2])\n",
    "                                                            \n",
    "    kmeans_overall_results[llm] = {'embeddings': embeddings,\n",
    "                                   'n_components': components,\n",
    "                                   'max_iter': iters,\n",
    "                                   'n_clusters': n_cluster,\n",
    "                                   'tol': tols,\n",
    "                                   'score': score}"
   ]
  },
  {
   "cell_type": "code",
   "execution_count": 181,
   "metadata": {},
   "outputs": [
    {
     "data": {
      "text/html": [
       "<div>\n",
       "<style scoped>\n",
       "    .dataframe tbody tr th:only-of-type {\n",
       "        vertical-align: middle;\n",
       "    }\n",
       "\n",
       "    .dataframe tbody tr th {\n",
       "        vertical-align: top;\n",
       "    }\n",
       "\n",
       "    .dataframe thead th {\n",
       "        text-align: right;\n",
       "    }\n",
       "</style>\n",
       "<table border=\"1\" class=\"dataframe\">\n",
       "  <thead>\n",
       "    <tr style=\"text-align: right;\">\n",
       "      <th></th>\n",
       "      <th>gpt-3.5-turbo</th>\n",
       "      <th>alpaca</th>\n",
       "      <th>gpt4all</th>\n",
       "    </tr>\n",
       "  </thead>\n",
       "  <tbody>\n",
       "    <tr>\n",
       "      <th>embeddings</th>\n",
       "      <td>[[-0.03887094, -0.11050342, -0.031814046, 0.02...</td>\n",
       "      <td>[[0.011134546, -0.08676946, -0.03891137, 0.060...</td>\n",
       "      <td>[[-0.02282622, -0.08779901, -0.021268817, -0.0...</td>\n",
       "    </tr>\n",
       "    <tr>\n",
       "      <th>n_components</th>\n",
       "      <td>0.9</td>\n",
       "      <td>0.99</td>\n",
       "      <td>0.8</td>\n",
       "    </tr>\n",
       "    <tr>\n",
       "      <th>max_iter</th>\n",
       "      <td>250</td>\n",
       "      <td>250</td>\n",
       "      <td>250</td>\n",
       "    </tr>\n",
       "    <tr>\n",
       "      <th>n_clusters</th>\n",
       "      <td>2</td>\n",
       "      <td>3</td>\n",
       "      <td>2</td>\n",
       "    </tr>\n",
       "    <tr>\n",
       "      <th>tol</th>\n",
       "      <td>0.0001</td>\n",
       "      <td>0.0001</td>\n",
       "      <td>0.01</td>\n",
       "    </tr>\n",
       "    <tr>\n",
       "      <th>score</th>\n",
       "      <td>0.1199</td>\n",
       "      <td>0.114074</td>\n",
       "      <td>0.155638</td>\n",
       "    </tr>\n",
       "  </tbody>\n",
       "</table>\n",
       "</div>"
      ],
      "text/plain": [
       "                                                  gpt-3.5-turbo  \\\n",
       "embeddings    [[-0.03887094, -0.11050342, -0.031814046, 0.02...   \n",
       "n_components                                                0.9   \n",
       "max_iter                                                    250   \n",
       "n_clusters                                                    2   \n",
       "tol                                                      0.0001   \n",
       "score                                                    0.1199   \n",
       "\n",
       "                                                         alpaca  \\\n",
       "embeddings    [[0.011134546, -0.08676946, -0.03891137, 0.060...   \n",
       "n_components                                               0.99   \n",
       "max_iter                                                    250   \n",
       "n_clusters                                                    3   \n",
       "tol                                                      0.0001   \n",
       "score                                                  0.114074   \n",
       "\n",
       "                                                        gpt4all  \n",
       "embeddings    [[-0.02282622, -0.08779901, -0.021268817, -0.0...  \n",
       "n_components                                                0.8  \n",
       "max_iter                                                    250  \n",
       "n_clusters                                                    2  \n",
       "tol                                                        0.01  \n",
       "score                                                  0.155638  "
      ]
     },
     "execution_count": 181,
     "metadata": {},
     "output_type": "execute_result"
    }
   ],
   "source": [
    "kmeans_best_results = pd.DataFrame(kmeans_overall_results)"
   ]
  },
  {
   "cell_type": "code",
   "execution_count": 182,
   "metadata": {},
   "outputs": [
    {
     "name": "stderr",
     "output_type": "stream",
     "text": [
      "2023-07-08 19:50:53,387 - INFO     | __main__   | GPT-3.5-TURBO\n",
      "2023-07-08 19:50:54,533 - INFO     | __main__   | ALPACA\n",
      "2023-07-08 19:50:55,672 - INFO     | __main__   | GPT4ALL\n"
     ]
    }
   ],
   "source": [
    "kmeans_clusters = []\n",
    "for llm, params in kmeans_overall_results.items():\n",
    "    logger.info(llm.upper())\n",
    "    kmeans = ClusteringModel(model_name='kmeans',\n",
    "                             n_init='auto',\n",
    "                             max_iter=params['max_iter'],\n",
    "                             n_clusters=params['n_clusters'],\n",
    "                             tol=params['tol'])\n",
    "    kmeans.fit_predict(embeddings=params['embeddings'],\n",
    "                       pca_flag=True,\n",
    "                       n_components=params['n_components'])\n",
    "    kmeans_clusters.append(kmeans.clusters)"
   ]
  },
  {
   "cell_type": "code",
   "execution_count": 183,
   "metadata": {},
   "outputs": [
    {
     "data": {
      "text/html": [
       "<div>\n",
       "<style scoped>\n",
       "    .dataframe tbody tr th:only-of-type {\n",
       "        vertical-align: middle;\n",
       "    }\n",
       "\n",
       "    .dataframe tbody tr th {\n",
       "        vertical-align: top;\n",
       "    }\n",
       "\n",
       "    .dataframe thead th {\n",
       "        text-align: right;\n",
       "    }\n",
       "</style>\n",
       "<table border=\"1\" class=\"dataframe\">\n",
       "  <thead>\n",
       "    <tr style=\"text-align: right;\">\n",
       "      <th></th>\n",
       "      <th>id</th>\n",
       "      <th>full_text</th>\n",
       "      <th>gpt-3.5-turbo</th>\n",
       "      <th>alpaca</th>\n",
       "      <th>gpt4all</th>\n",
       "      <th>gpt-3.5-turbo_embeddings</th>\n",
       "      <th>alpaca_embeddings</th>\n",
       "      <th>gpt4all_embeddings</th>\n",
       "      <th>gpt-3.5-turbo_kmeans</th>\n",
       "      <th>alpaca_kmeans</th>\n",
       "      <th>gpt4all_kmeans</th>\n",
       "    </tr>\n",
       "  </thead>\n",
       "  <tbody>\n",
       "    <tr>\n",
       "      <th>0</th>\n",
       "      <td>1641514595339862016</td>\n",
       "      <td>thus continuing the roberts' (boebert's maide...</td>\n",
       "      <td>No, this tweet is not a potential lead. The co...</td>\n",
       "      <td>Yes, this tweet is a potential lead because it...</td>\n",
       "      <td>\\nThe given tweet is not a potential lead as i...</td>\n",
       "      <td>[-0.03887094184756279, -0.1105034202337265, -0...</td>\n",
       "      <td>[0.011134546250104904, -0.0867694616317749, -0...</td>\n",
       "      <td>[-0.022826220840215683, -0.08779901266098022, ...</td>\n",
       "      <td>1</td>\n",
       "      <td>0</td>\n",
       "      <td>1</td>\n",
       "    </tr>\n",
       "    <tr>\n",
       "      <th>1</th>\n",
       "      <td>1642044261649780736</td>\n",
       "      <td>my green &amp;amp; black reputation eyeshadow look</td>\n",
       "      <td>No. The tweet does not provide any indication ...</td>\n",
       "      <td>Yes, the tweet is a potential lead because it ...</td>\n",
       "      <td>\\nNo, the above tweet is not a potential lead ...</td>\n",
       "      <td>[-0.024825602769851685, -0.10440673679113388, ...</td>\n",
       "      <td>[-0.022449074313044548, -0.08849964290857315, ...</td>\n",
       "      <td>[-0.02361299842596054, -0.1094249039888382, -0...</td>\n",
       "      <td>1</td>\n",
       "      <td>2</td>\n",
       "      <td>0</td>\n",
       "    </tr>\n",
       "    <tr>\n",
       "      <th>2</th>\n",
       "      <td>1642124227590467584</td>\n",
       "      <td>i don't either but i put an eye liner for sha...</td>\n",
       "      <td>No, the above tweet is not a potential lead. A...</td>\n",
       "      <td>Yes, the tweet is a potential lead because it ...</td>\n",
       "      <td>\\nThe given tweet is not a potential lead as i...</td>\n",
       "      <td>[-0.022488590329885483, -0.09907253086566925, ...</td>\n",
       "      <td>[-0.021942151710391045, -0.09090302884578705, ...</td>\n",
       "      <td>[0.007977220229804516, -0.06419841200113297, -...</td>\n",
       "      <td>1</td>\n",
       "      <td>2</td>\n",
       "      <td>1</td>\n",
       "    </tr>\n",
       "    <tr>\n",
       "      <th>3</th>\n",
       "      <td>1642307728654888961</td>\n",
       "      <td>join the marketsource team! see our latest job...</td>\n",
       "      <td>Yes, the above tweet is a potential lead. The ...</td>\n",
       "      <td>Yes, the tweet is a potential lead because it ...</td>\n",
       "      <td>\\nThe given tweet is not a potential lead as i...</td>\n",
       "      <td>[-0.0332973413169384, -0.09525896608829498, -0...</td>\n",
       "      <td>[-0.048098124563694, -0.09722025692462921, -0....</td>\n",
       "      <td>[-0.017496967688202858, -0.0763673409819603, -...</td>\n",
       "      <td>0</td>\n",
       "      <td>2</td>\n",
       "      <td>1</td>\n",
       "    </tr>\n",
       "    <tr>\n",
       "      <th>4</th>\n",
       "      <td>1642521653497217025</td>\n",
       "      <td>check out mini oneida ceramic floral cherry te...</td>\n",
       "      <td>No, the above tweet is not a potential lead. T...</td>\n",
       "      <td>Yes, the tweet is a potential lead because it ...</td>\n",
       "      <td>\\nNo, the given tweet is not a potential lead....</td>\n",
       "      <td>[-0.017981532961130142, -0.08915165811777115, ...</td>\n",
       "      <td>[-0.007265061605721712, -0.09268850088119507, ...</td>\n",
       "      <td>[-0.010253571905195713, -0.08222711831331253, ...</td>\n",
       "      <td>1</td>\n",
       "      <td>0</td>\n",
       "      <td>0</td>\n",
       "    </tr>\n",
       "  </tbody>\n",
       "</table>\n",
       "</div>"
      ],
      "text/plain": [
       "                    id                                          full_text  \\\n",
       "0  1641514595339862016   thus continuing the roberts' (boebert's maide...   \n",
       "1  1642044261649780736    my green &amp; black reputation eyeshadow look    \n",
       "2  1642124227590467584   i don't either but i put an eye liner for sha...   \n",
       "3  1642307728654888961  join the marketsource team! see our latest job...   \n",
       "4  1642521653497217025  check out mini oneida ceramic floral cherry te...   \n",
       "\n",
       "                                       gpt-3.5-turbo  \\\n",
       "0  No, this tweet is not a potential lead. The co...   \n",
       "1  No. The tweet does not provide any indication ...   \n",
       "2  No, the above tweet is not a potential lead. A...   \n",
       "3  Yes, the above tweet is a potential lead. The ...   \n",
       "4  No, the above tweet is not a potential lead. T...   \n",
       "\n",
       "                                              alpaca  \\\n",
       "0  Yes, this tweet is a potential lead because it...   \n",
       "1  Yes, the tweet is a potential lead because it ...   \n",
       "2  Yes, the tweet is a potential lead because it ...   \n",
       "3  Yes, the tweet is a potential lead because it ...   \n",
       "4  Yes, the tweet is a potential lead because it ...   \n",
       "\n",
       "                                             gpt4all  \\\n",
       "0  \\nThe given tweet is not a potential lead as i...   \n",
       "1  \\nNo, the above tweet is not a potential lead ...   \n",
       "2  \\nThe given tweet is not a potential lead as i...   \n",
       "3  \\nThe given tweet is not a potential lead as i...   \n",
       "4  \\nNo, the given tweet is not a potential lead....   \n",
       "\n",
       "                            gpt-3.5-turbo_embeddings  \\\n",
       "0  [-0.03887094184756279, -0.1105034202337265, -0...   \n",
       "1  [-0.024825602769851685, -0.10440673679113388, ...   \n",
       "2  [-0.022488590329885483, -0.09907253086566925, ...   \n",
       "3  [-0.0332973413169384, -0.09525896608829498, -0...   \n",
       "4  [-0.017981532961130142, -0.08915165811777115, ...   \n",
       "\n",
       "                                   alpaca_embeddings  \\\n",
       "0  [0.011134546250104904, -0.0867694616317749, -0...   \n",
       "1  [-0.022449074313044548, -0.08849964290857315, ...   \n",
       "2  [-0.021942151710391045, -0.09090302884578705, ...   \n",
       "3  [-0.048098124563694, -0.09722025692462921, -0....   \n",
       "4  [-0.007265061605721712, -0.09268850088119507, ...   \n",
       "\n",
       "                                  gpt4all_embeddings  gpt-3.5-turbo_kmeans  \\\n",
       "0  [-0.022826220840215683, -0.08779901266098022, ...                     1   \n",
       "1  [-0.02361299842596054, -0.1094249039888382, -0...                     1   \n",
       "2  [0.007977220229804516, -0.06419841200113297, -...                     1   \n",
       "3  [-0.017496967688202858, -0.0763673409819603, -...                     0   \n",
       "4  [-0.010253571905195713, -0.08222711831331253, ...                     1   \n",
       "\n",
       "   alpaca_kmeans  gpt4all_kmeans  \n",
       "0              0               1  \n",
       "1              2               0  \n",
       "2              2               1  \n",
       "3              2               1  \n",
       "4              0               0  "
      ]
     },
     "execution_count": 183,
     "metadata": {},
     "output_type": "execute_result"
    }
   ],
   "source": [
    "df['gpt-3.5-turbo_kmeans'] = kmeans_clusters[0]\n",
    "df['alpaca_kmeans'] = kmeans_clusters[1]\n",
    "df['gpt4all_kmeans'] = kmeans_clusters[2]"
   ]
  },
  {
   "attachments": {},
   "cell_type": "markdown",
   "metadata": {},
   "source": [
    "## DBSCAN"
   ]
  },
  {
   "cell_type": "code",
   "execution_count": 22,
   "metadata": {},
   "outputs": [
    {
     "name": "stderr",
     "output_type": "stream",
     "text": [
      "2023-07-10 22:54:24,761 - INFO     | __main__   | GPT-3.5-TURBO\n",
      "2023-07-10 22:54:25,796 - INFO     | helpers.clustering_helpers | Found clusters, score: 0.029002554714679718, n_clusters: 6\n",
      "2023-07-10 22:55:59,171 - INFO     | helpers.clustering_helpers | Found clusters, score: 0.09637953341007233, n_clusters: 3\n",
      "2023-07-10 22:56:20,142 - INFO     | helpers.clustering_helpers | Found clusters, score: 0.07479814440011978, n_clusters: 5\n",
      "2023-07-10 22:56:43,193 - INFO     | helpers.clustering_helpers | Found clusters, score: 0.0296930018812418, n_clusters: 6\n",
      "2023-07-10 22:57:05,035 - INFO     | helpers.clustering_helpers | Score: 0.09637953341007233 - PCA: 0.9 - MIN_SAMPLES: 5 - EPS: 0.5\n",
      "2023-07-10 22:57:05,044 - INFO     | __main__   | ALPACA\n",
      "2023-07-10 22:57:06,288 - INFO     | helpers.clustering_helpers | Found clusters, score: 0.062034912407398224, n_clusters: 6\n",
      "2023-07-10 22:57:07,174 - INFO     | helpers.clustering_helpers | Found clusters, score: 0.14841246604919434, n_clusters: 3\n",
      "2023-07-10 22:58:11,126 - INFO     | helpers.clustering_helpers | Found clusters, score: 0.12578919529914856, n_clusters: 4\n",
      "2023-07-10 22:58:33,464 - INFO     | helpers.clustering_helpers | Found clusters, score: 0.11092960089445114, n_clusters: 6\n",
      "2023-07-10 22:58:56,097 - INFO     | helpers.clustering_helpers | Found clusters, score: 0.059869434684515, n_clusters: 7\n",
      "2023-07-10 22:58:57,017 - INFO     | helpers.clustering_helpers | Found clusters, score: 0.14965079724788666, n_clusters: 3\n",
      "2023-07-10 22:59:18,778 - INFO     | helpers.clustering_helpers | Found clusters, score: 0.062304798513650894, n_clusters: 6\n",
      "2023-07-10 22:59:19,667 - INFO     | helpers.clustering_helpers | Found clusters, score: 0.14864706993103027, n_clusters: 3\n",
      "2023-07-10 22:59:40,335 - INFO     | helpers.clustering_helpers | Score: 0.14965079724788666 - PCA: 0.95 - MIN_SAMPLES: 5 - EPS: 0.6\n",
      "2023-07-10 22:59:40,346 - INFO     | __main__   | GPT4ALL\n",
      "2023-07-10 23:02:05,138 - WARNING  | helpers.clustering_helpers | attempt to get argmax of an empty sequence\n"
     ]
    }
   ],
   "source": [
    "dbscan_overall_results = {}\n",
    "for llm, embeddings in embeddings_dict.items():\n",
    "    logger.info(f'{llm.upper()}')\n",
    "    score, comp, min_s, eps = dbscan_loop(data=embeddings,\n",
    "                                          n_components_space=[None, 0.60, 0.70, 0.80, 0.90, 0.95, 0.99],\n",
    "                                          eps_space= [0.5, 0.6, 0.7, 0.8, 0.9],\n",
    "                                          min_samples_space=[5, 25, 50, 75, 100])\n",
    "    \n",
    "    dbscan_overall_results[llm] = {'embeddings': embeddings,\n",
    "                                   'n_components': comp,\n",
    "                                   'eps': eps,\n",
    "                                   'min_sample': min_s,\n",
    "                                   'score': score}"
   ]
  },
  {
   "cell_type": "code",
   "execution_count": 23,
   "metadata": {},
   "outputs": [],
   "source": [
    "kmeans_best_results = pd.DataFrame(dbscan_overall_results)"
   ]
  },
  {
   "cell_type": "code",
   "execution_count": 24,
   "metadata": {},
   "outputs": [
    {
     "name": "stderr",
     "output_type": "stream",
     "text": [
      "2023-07-10 23:02:05,280 - INFO     | __main__   | GPT-3.5-TURBO\n",
      "2023-07-10 23:02:06,319 - INFO     | __main__   | ALPACA\n",
      "2023-07-10 23:02:06,969 - INFO     | __main__   | GPT4ALL\n",
      "2023-07-10 23:02:07,591 - WARNING  | __main__   | The 'eps' parameter of DBSCAN must be a float in the range (0.0, inf). Got None instead.\n"
     ]
    }
   ],
   "source": [
    "dbscan_clusters = []\n",
    "for llm, params in dbscan_overall_results.items():\n",
    "    logger.info(llm.upper())\n",
    "    try:\n",
    "        dbscan = ClusteringModel(model_name='dbscan',\n",
    "                                eps=params['eps'],\n",
    "                                min_samples=params['min_sample'],\n",
    "                                metric='euclidean')\n",
    "        dbscan.fit_predict(embeddings=params['embeddings'],\n",
    "                        pca_flag=True,\n",
    "                        n_components=params['n_components'])\n",
    "        dbscan_clusters.append(dbscan.clusters)\n",
    "    except Exception as e:\n",
    "        logger.warning(e)"
   ]
  },
  {
   "cell_type": "code",
   "execution_count": 25,
   "metadata": {},
   "outputs": [
    {
     "data": {
      "text/html": [
       "<div>\n",
       "<style scoped>\n",
       "    .dataframe tbody tr th:only-of-type {\n",
       "        vertical-align: middle;\n",
       "    }\n",
       "\n",
       "    .dataframe tbody tr th {\n",
       "        vertical-align: top;\n",
       "    }\n",
       "\n",
       "    .dataframe thead th {\n",
       "        text-align: right;\n",
       "    }\n",
       "</style>\n",
       "<table border=\"1\" class=\"dataframe\">\n",
       "  <thead>\n",
       "    <tr style=\"text-align: right;\">\n",
       "      <th></th>\n",
       "      <th>id</th>\n",
       "      <th>full_text</th>\n",
       "      <th>gpt-3.5-turbo</th>\n",
       "      <th>alpaca</th>\n",
       "      <th>gpt4all</th>\n",
       "      <th>gpt-3.5-turbo_embeddings</th>\n",
       "      <th>alpaca_embeddings</th>\n",
       "      <th>gpt4all_embeddings</th>\n",
       "      <th>gpt-3.5-turbo_kmeans</th>\n",
       "      <th>alpaca_kmeans</th>\n",
       "      <th>gpt4all_kmeans</th>\n",
       "      <th>gpt-3.5-turbo_dbscan</th>\n",
       "      <th>alpaca_dbscan</th>\n",
       "    </tr>\n",
       "  </thead>\n",
       "  <tbody>\n",
       "    <tr>\n",
       "      <th>0</th>\n",
       "      <td>1641514595339862016</td>\n",
       "      <td>thus continuing the roberts' (boebert's maide...</td>\n",
       "      <td>No, this tweet is not a potential lead. The co...</td>\n",
       "      <td>Yes, this tweet is a potential lead because it...</td>\n",
       "      <td>\\nThe given tweet is not a potential lead as i...</td>\n",
       "      <td>[-0.03887094184756279, -0.1105034202337265, -0...</td>\n",
       "      <td>[0.011134546250104904, -0.0867694616317749, -0...</td>\n",
       "      <td>[-0.022826220840215683, -0.08779901266098022, ...</td>\n",
       "      <td>1</td>\n",
       "      <td>0</td>\n",
       "      <td>1</td>\n",
       "      <td>0</td>\n",
       "      <td>-1</td>\n",
       "    </tr>\n",
       "    <tr>\n",
       "      <th>1</th>\n",
       "      <td>1642044261649780736</td>\n",
       "      <td>my green &amp;amp; black reputation eyeshadow look</td>\n",
       "      <td>No. The tweet does not provide any indication ...</td>\n",
       "      <td>Yes, the tweet is a potential lead because it ...</td>\n",
       "      <td>\\nNo, the above tweet is not a potential lead ...</td>\n",
       "      <td>[-0.024825602769851685, -0.10440673679113388, ...</td>\n",
       "      <td>[-0.022449074313044548, -0.08849964290857315, ...</td>\n",
       "      <td>[-0.02361299842596054, -0.1094249039888382, -0...</td>\n",
       "      <td>1</td>\n",
       "      <td>2</td>\n",
       "      <td>0</td>\n",
       "      <td>0</td>\n",
       "      <td>0</td>\n",
       "    </tr>\n",
       "    <tr>\n",
       "      <th>2</th>\n",
       "      <td>1642124227590467584</td>\n",
       "      <td>i don't either but i put an eye liner for sha...</td>\n",
       "      <td>No, the above tweet is not a potential lead. A...</td>\n",
       "      <td>Yes, the tweet is a potential lead because it ...</td>\n",
       "      <td>\\nThe given tweet is not a potential lead as i...</td>\n",
       "      <td>[-0.022488590329885483, -0.09907253086566925, ...</td>\n",
       "      <td>[-0.021942151710391045, -0.09090302884578705, ...</td>\n",
       "      <td>[0.007977220229804516, -0.06419841200113297, -...</td>\n",
       "      <td>1</td>\n",
       "      <td>2</td>\n",
       "      <td>1</td>\n",
       "      <td>0</td>\n",
       "      <td>0</td>\n",
       "    </tr>\n",
       "    <tr>\n",
       "      <th>3</th>\n",
       "      <td>1642307728654888961</td>\n",
       "      <td>join the marketsource team! see our latest job...</td>\n",
       "      <td>Yes, the above tweet is a potential lead. The ...</td>\n",
       "      <td>Yes, the tweet is a potential lead because it ...</td>\n",
       "      <td>\\nThe given tweet is not a potential lead as i...</td>\n",
       "      <td>[-0.0332973413169384, -0.09525896608829498, -0...</td>\n",
       "      <td>[-0.048098124563694, -0.09722025692462921, -0....</td>\n",
       "      <td>[-0.017496967688202858, -0.0763673409819603, -...</td>\n",
       "      <td>0</td>\n",
       "      <td>2</td>\n",
       "      <td>1</td>\n",
       "      <td>0</td>\n",
       "      <td>0</td>\n",
       "    </tr>\n",
       "    <tr>\n",
       "      <th>4</th>\n",
       "      <td>1642521653497217025</td>\n",
       "      <td>check out mini oneida ceramic floral cherry te...</td>\n",
       "      <td>No, the above tweet is not a potential lead. T...</td>\n",
       "      <td>Yes, the tweet is a potential lead because it ...</td>\n",
       "      <td>\\nNo, the given tweet is not a potential lead....</td>\n",
       "      <td>[-0.017981532961130142, -0.08915165811777115, ...</td>\n",
       "      <td>[-0.007265061605721712, -0.09268850088119507, ...</td>\n",
       "      <td>[-0.010253571905195713, -0.08222711831331253, ...</td>\n",
       "      <td>1</td>\n",
       "      <td>0</td>\n",
       "      <td>0</td>\n",
       "      <td>0</td>\n",
       "      <td>0</td>\n",
       "    </tr>\n",
       "  </tbody>\n",
       "</table>\n",
       "</div>"
      ],
      "text/plain": [
       "                    id                                          full_text  \\\n",
       "0  1641514595339862016   thus continuing the roberts' (boebert's maide...   \n",
       "1  1642044261649780736    my green &amp; black reputation eyeshadow look    \n",
       "2  1642124227590467584   i don't either but i put an eye liner for sha...   \n",
       "3  1642307728654888961  join the marketsource team! see our latest job...   \n",
       "4  1642521653497217025  check out mini oneida ceramic floral cherry te...   \n",
       "\n",
       "                                       gpt-3.5-turbo  \\\n",
       "0  No, this tweet is not a potential lead. The co...   \n",
       "1  No. The tweet does not provide any indication ...   \n",
       "2  No, the above tweet is not a potential lead. A...   \n",
       "3  Yes, the above tweet is a potential lead. The ...   \n",
       "4  No, the above tweet is not a potential lead. T...   \n",
       "\n",
       "                                              alpaca  \\\n",
       "0  Yes, this tweet is a potential lead because it...   \n",
       "1  Yes, the tweet is a potential lead because it ...   \n",
       "2  Yes, the tweet is a potential lead because it ...   \n",
       "3  Yes, the tweet is a potential lead because it ...   \n",
       "4  Yes, the tweet is a potential lead because it ...   \n",
       "\n",
       "                                             gpt4all  \\\n",
       "0  \\nThe given tweet is not a potential lead as i...   \n",
       "1  \\nNo, the above tweet is not a potential lead ...   \n",
       "2  \\nThe given tweet is not a potential lead as i...   \n",
       "3  \\nThe given tweet is not a potential lead as i...   \n",
       "4  \\nNo, the given tweet is not a potential lead....   \n",
       "\n",
       "                            gpt-3.5-turbo_embeddings  \\\n",
       "0  [-0.03887094184756279, -0.1105034202337265, -0...   \n",
       "1  [-0.024825602769851685, -0.10440673679113388, ...   \n",
       "2  [-0.022488590329885483, -0.09907253086566925, ...   \n",
       "3  [-0.0332973413169384, -0.09525896608829498, -0...   \n",
       "4  [-0.017981532961130142, -0.08915165811777115, ...   \n",
       "\n",
       "                                   alpaca_embeddings  \\\n",
       "0  [0.011134546250104904, -0.0867694616317749, -0...   \n",
       "1  [-0.022449074313044548, -0.08849964290857315, ...   \n",
       "2  [-0.021942151710391045, -0.09090302884578705, ...   \n",
       "3  [-0.048098124563694, -0.09722025692462921, -0....   \n",
       "4  [-0.007265061605721712, -0.09268850088119507, ...   \n",
       "\n",
       "                                  gpt4all_embeddings  gpt-3.5-turbo_kmeans  \\\n",
       "0  [-0.022826220840215683, -0.08779901266098022, ...                     1   \n",
       "1  [-0.02361299842596054, -0.1094249039888382, -0...                     1   \n",
       "2  [0.007977220229804516, -0.06419841200113297, -...                     1   \n",
       "3  [-0.017496967688202858, -0.0763673409819603, -...                     0   \n",
       "4  [-0.010253571905195713, -0.08222711831331253, ...                     1   \n",
       "\n",
       "   alpaca_kmeans  gpt4all_kmeans  gpt-3.5-turbo_dbscan  alpaca_dbscan  \n",
       "0              0               1                     0             -1  \n",
       "1              2               0                     0              0  \n",
       "2              2               1                     0              0  \n",
       "3              2               1                     0              0  \n",
       "4              0               0                     0              0  "
      ]
     },
     "execution_count": 25,
     "metadata": {},
     "output_type": "execute_result"
    }
   ],
   "source": [
    "df['gpt-3.5-turbo_dbscan'] = dbscan_clusters[0]\n",
    "df['alpaca_dbscan'] = dbscan_clusters[1]\n",
    "#df['gpt4all_dbscan'] = dbscan_clusters[2]\n",
    "df.head()"
   ]
  },
  {
   "cell_type": "code",
   "execution_count": 26,
   "metadata": {},
   "outputs": [],
   "source": [
    "SAVE = True\n",
    "if SAVE:\n",
    "    # Save df with clusters\n",
    "    df.to_parquet('full_data_202375.parquet', index=False)"
   ]
  },
  {
   "attachments": {},
   "cell_type": "markdown",
   "metadata": {},
   "source": [
    "# Analysis"
   ]
  },
  {
   "cell_type": "code",
   "execution_count": 27,
   "metadata": {},
   "outputs": [
    {
     "data": {
      "text/html": [
       "<div>\n",
       "<style scoped>\n",
       "    .dataframe tbody tr th:only-of-type {\n",
       "        vertical-align: middle;\n",
       "    }\n",
       "\n",
       "    .dataframe tbody tr th {\n",
       "        vertical-align: top;\n",
       "    }\n",
       "\n",
       "    .dataframe thead th {\n",
       "        text-align: right;\n",
       "    }\n",
       "</style>\n",
       "<table border=\"1\" class=\"dataframe\">\n",
       "  <thead>\n",
       "    <tr style=\"text-align: right;\">\n",
       "      <th></th>\n",
       "      <th>id</th>\n",
       "      <th>full_text</th>\n",
       "      <th>gpt-3.5-turbo</th>\n",
       "      <th>alpaca</th>\n",
       "      <th>gpt4all</th>\n",
       "      <th>gpt-3.5-turbo_embeddings</th>\n",
       "      <th>alpaca_embeddings</th>\n",
       "      <th>gpt4all_embeddings</th>\n",
       "      <th>gpt-3.5-turbo_kmeans</th>\n",
       "      <th>alpaca_kmeans</th>\n",
       "      <th>gpt4all_kmeans</th>\n",
       "      <th>gpt-3.5-turbo_dbscan</th>\n",
       "      <th>alpaca_dbscan</th>\n",
       "    </tr>\n",
       "  </thead>\n",
       "  <tbody>\n",
       "    <tr>\n",
       "      <th>0</th>\n",
       "      <td>1641514595339862016</td>\n",
       "      <td>thus continuing the roberts' (boebert's maide...</td>\n",
       "      <td>No, this tweet is not a potential lead. The co...</td>\n",
       "      <td>Yes, this tweet is a potential lead because it...</td>\n",
       "      <td>\\nThe given tweet is not a potential lead as i...</td>\n",
       "      <td>[-0.03887094184756279, -0.1105034202337265, -0...</td>\n",
       "      <td>[0.011134546250104904, -0.0867694616317749, -0...</td>\n",
       "      <td>[-0.022826220840215683, -0.08779901266098022, ...</td>\n",
       "      <td>1</td>\n",
       "      <td>0</td>\n",
       "      <td>1</td>\n",
       "      <td>0</td>\n",
       "      <td>-1</td>\n",
       "    </tr>\n",
       "    <tr>\n",
       "      <th>1</th>\n",
       "      <td>1642044261649780736</td>\n",
       "      <td>my green &amp;amp; black reputation eyeshadow look</td>\n",
       "      <td>No. The tweet does not provide any indication ...</td>\n",
       "      <td>Yes, the tweet is a potential lead because it ...</td>\n",
       "      <td>\\nNo, the above tweet is not a potential lead ...</td>\n",
       "      <td>[-0.024825602769851685, -0.10440673679113388, ...</td>\n",
       "      <td>[-0.022449074313044548, -0.08849964290857315, ...</td>\n",
       "      <td>[-0.02361299842596054, -0.1094249039888382, -0...</td>\n",
       "      <td>1</td>\n",
       "      <td>2</td>\n",
       "      <td>0</td>\n",
       "      <td>0</td>\n",
       "      <td>0</td>\n",
       "    </tr>\n",
       "    <tr>\n",
       "      <th>2</th>\n",
       "      <td>1642124227590467584</td>\n",
       "      <td>i don't either but i put an eye liner for sha...</td>\n",
       "      <td>No, the above tweet is not a potential lead. A...</td>\n",
       "      <td>Yes, the tweet is a potential lead because it ...</td>\n",
       "      <td>\\nThe given tweet is not a potential lead as i...</td>\n",
       "      <td>[-0.022488590329885483, -0.09907253086566925, ...</td>\n",
       "      <td>[-0.021942151710391045, -0.09090302884578705, ...</td>\n",
       "      <td>[0.007977220229804516, -0.06419841200113297, -...</td>\n",
       "      <td>1</td>\n",
       "      <td>2</td>\n",
       "      <td>1</td>\n",
       "      <td>0</td>\n",
       "      <td>0</td>\n",
       "    </tr>\n",
       "    <tr>\n",
       "      <th>3</th>\n",
       "      <td>1642307728654888961</td>\n",
       "      <td>join the marketsource team! see our latest job...</td>\n",
       "      <td>Yes, the above tweet is a potential lead. The ...</td>\n",
       "      <td>Yes, the tweet is a potential lead because it ...</td>\n",
       "      <td>\\nThe given tweet is not a potential lead as i...</td>\n",
       "      <td>[-0.0332973413169384, -0.09525896608829498, -0...</td>\n",
       "      <td>[-0.048098124563694, -0.09722025692462921, -0....</td>\n",
       "      <td>[-0.017496967688202858, -0.0763673409819603, -...</td>\n",
       "      <td>0</td>\n",
       "      <td>2</td>\n",
       "      <td>1</td>\n",
       "      <td>0</td>\n",
       "      <td>0</td>\n",
       "    </tr>\n",
       "    <tr>\n",
       "      <th>4</th>\n",
       "      <td>1642521653497217025</td>\n",
       "      <td>check out mini oneida ceramic floral cherry te...</td>\n",
       "      <td>No, the above tweet is not a potential lead. T...</td>\n",
       "      <td>Yes, the tweet is a potential lead because it ...</td>\n",
       "      <td>\\nNo, the given tweet is not a potential lead....</td>\n",
       "      <td>[-0.017981532961130142, -0.08915165811777115, ...</td>\n",
       "      <td>[-0.007265061605721712, -0.09268850088119507, ...</td>\n",
       "      <td>[-0.010253571905195713, -0.08222711831331253, ...</td>\n",
       "      <td>1</td>\n",
       "      <td>0</td>\n",
       "      <td>0</td>\n",
       "      <td>0</td>\n",
       "      <td>0</td>\n",
       "    </tr>\n",
       "  </tbody>\n",
       "</table>\n",
       "</div>"
      ],
      "text/plain": [
       "                    id                                          full_text  \\\n",
       "0  1641514595339862016   thus continuing the roberts' (boebert's maide...   \n",
       "1  1642044261649780736    my green &amp; black reputation eyeshadow look    \n",
       "2  1642124227590467584   i don't either but i put an eye liner for sha...   \n",
       "3  1642307728654888961  join the marketsource team! see our latest job...   \n",
       "4  1642521653497217025  check out mini oneida ceramic floral cherry te...   \n",
       "\n",
       "                                       gpt-3.5-turbo  \\\n",
       "0  No, this tweet is not a potential lead. The co...   \n",
       "1  No. The tweet does not provide any indication ...   \n",
       "2  No, the above tweet is not a potential lead. A...   \n",
       "3  Yes, the above tweet is a potential lead. The ...   \n",
       "4  No, the above tweet is not a potential lead. T...   \n",
       "\n",
       "                                              alpaca  \\\n",
       "0  Yes, this tweet is a potential lead because it...   \n",
       "1  Yes, the tweet is a potential lead because it ...   \n",
       "2  Yes, the tweet is a potential lead because it ...   \n",
       "3  Yes, the tweet is a potential lead because it ...   \n",
       "4  Yes, the tweet is a potential lead because it ...   \n",
       "\n",
       "                                             gpt4all  \\\n",
       "0  \\nThe given tweet is not a potential lead as i...   \n",
       "1  \\nNo, the above tweet is not a potential lead ...   \n",
       "2  \\nThe given tweet is not a potential lead as i...   \n",
       "3  \\nThe given tweet is not a potential lead as i...   \n",
       "4  \\nNo, the given tweet is not a potential lead....   \n",
       "\n",
       "                            gpt-3.5-turbo_embeddings  \\\n",
       "0  [-0.03887094184756279, -0.1105034202337265, -0...   \n",
       "1  [-0.024825602769851685, -0.10440673679113388, ...   \n",
       "2  [-0.022488590329885483, -0.09907253086566925, ...   \n",
       "3  [-0.0332973413169384, -0.09525896608829498, -0...   \n",
       "4  [-0.017981532961130142, -0.08915165811777115, ...   \n",
       "\n",
       "                                   alpaca_embeddings  \\\n",
       "0  [0.011134546250104904, -0.0867694616317749, -0...   \n",
       "1  [-0.022449074313044548, -0.08849964290857315, ...   \n",
       "2  [-0.021942151710391045, -0.09090302884578705, ...   \n",
       "3  [-0.048098124563694, -0.09722025692462921, -0....   \n",
       "4  [-0.007265061605721712, -0.09268850088119507, ...   \n",
       "\n",
       "                                  gpt4all_embeddings  gpt-3.5-turbo_kmeans  \\\n",
       "0  [-0.022826220840215683, -0.08779901266098022, ...                     1   \n",
       "1  [-0.02361299842596054, -0.1094249039888382, -0...                     1   \n",
       "2  [0.007977220229804516, -0.06419841200113297, -...                     1   \n",
       "3  [-0.017496967688202858, -0.0763673409819603, -...                     0   \n",
       "4  [-0.010253571905195713, -0.08222711831331253, ...                     1   \n",
       "\n",
       "   alpaca_kmeans  gpt4all_kmeans  gpt-3.5-turbo_dbscan  alpaca_dbscan  \n",
       "0              0               1                     0             -1  \n",
       "1              2               0                     0              0  \n",
       "2              2               1                     0              0  \n",
       "3              2               1                     0              0  \n",
       "4              0               0                     0              0  "
      ]
     },
     "execution_count": 27,
     "metadata": {},
     "output_type": "execute_result"
    }
   ],
   "source": [
    "df = pd.read_parquet('full_data_202375.parquet')\n",
    "df.head()"
   ]
  },
  {
   "attachments": {},
   "cell_type": "markdown",
   "metadata": {},
   "source": [
    "# Data Viz"
   ]
  },
  {
   "cell_type": "code",
   "execution_count": 3,
   "metadata": {},
   "outputs": [],
   "source": [
    "from helpers.data_viz import plot_clusters_2D, plot_wordcloud"
   ]
  },
  {
   "cell_type": "code",
   "execution_count": 36,
   "metadata": {},
   "outputs": [
    {
     "name": "stderr",
     "output_type": "stream",
     "text": [
      "/Users/lorenzo/.pyenv/versions/3.9.13/envs/thesis/lib/python3.9/site-packages/sklearn/cluster/_kmeans.py:870: FutureWarning: The default value of `n_init` will change from 10 to 'auto' in 1.4. Set the value of `n_init` explicitly to suppress the warning\n",
      "  warnings.warn(\n"
     ]
    },
    {
     "data": {
      "image/png": "[encoded data removed]",
      "text/plain": [
       "<Figure size 1500x700 with 1 Axes>"
      ]
     },
     "metadata": {},
     "output_type": "display_data"
    }
   ],
   "source": [
    "plot_clusters_2D(df=df,\n",
    "                 llm='alpaca',\n",
    "                 cluster_algo='dbscan',\n",
    "                 text_col='tweet',\n",
    "                 n=6,\n",
    "                 save_fig=True,\n",
    "                 fig_name='TR2')\n",
    "                 #manual=True,\n",
    "                 #indices=[])"
   ]
  },
  {
   "cell_type": "code",
   "execution_count": null,
   "metadata": {},
   "outputs": [],
   "source": []
  }
 ],
 "metadata": {
  "kernelspec": {
   "display_name": "thesis",
   "language": "python",
   "name": "python3"
  },
  "language_info": {
   "codemirror_mode": {
    "name": "ipython",
    "version": 3
   },
   "file_extension": ".py",
   "mimetype": "text/x-python",
   "name": "python",
   "nbconvert_exporter": "python",
   "pygments_lexer": "ipython3",
   "version": "3.9.13"
  },
  "orig_nbformat": 4
 },
 "nbformat": 4,
 "nbformat_minor": 2
}
