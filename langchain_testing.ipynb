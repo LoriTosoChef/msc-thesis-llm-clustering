{
 "cells": [
  {
   "cell_type": "code",
   "execution_count": 1,
   "id": "153af96c",
   "metadata": {
    "scrolled": true
   },
   "outputs": [
    {
     "name": "stderr",
     "output_type": "stream",
     "text": [
      "2023-04-03 14:01:18,775 - INFO     | config     | Loading environment variables\n"
     ]
    }
   ],
   "source": [
    "import logging\n",
    "import pandas as pd\n",
    "\n",
    "from models.bloom import Bloom\n",
    "from config import HUGGINGFACE_TOKEN\n",
    "\n",
    "logger = logging.getLogger(__name__)"
   ]
  },
  {
   "cell_type": "code",
   "execution_count": 2,
   "id": "9a40ddf8",
   "metadata": {
    "scrolled": true
   },
   "outputs": [
    {
     "name": "stderr",
     "output_type": "stream",
     "text": [
      "2023-04-03 14:01:18,810 - INFO     | __main__   | There are 22155 tweets\n"
     ]
    },
    {
     "data": {
      "text/html": [
       "<div>\n",
       "<style scoped>\n",
       "    .dataframe tbody tr th:only-of-type {\n",
       "        vertical-align: middle;\n",
       "    }\n",
       "\n",
       "    .dataframe tbody tr th {\n",
       "        vertical-align: top;\n",
       "    }\n",
       "\n",
       "    .dataframe thead th {\n",
       "        text-align: right;\n",
       "    }\n",
       "</style>\n",
       "<table border=\"1\" class=\"dataframe\">\n",
       "  <thead>\n",
       "    <tr style=\"text-align: right;\">\n",
       "      <th></th>\n",
       "      <th>id</th>\n",
       "      <th>created_at</th>\n",
       "      <th>entities</th>\n",
       "      <th>full_text</th>\n",
       "    </tr>\n",
       "  </thead>\n",
       "  <tbody>\n",
       "    <tr>\n",
       "      <th>0</th>\n",
       "      <td>1640678842741186560</td>\n",
       "      <td>2023-03-28</td>\n",
       "      <td>[Fenty Beauty, Makeup, Beauty/Hygiene - CPG, CPG]</td>\n",
       "      <td>\\nTWEET:  show me where kendo owns the fenty b...</td>\n",
       "    </tr>\n",
       "    <tr>\n",
       "      <th>1</th>\n",
       "      <td>1640260371582799872</td>\n",
       "      <td>2023-03-27</td>\n",
       "      <td>[Beauty, Cosmetic &amp; Personal Care Business, Ha...</td>\n",
       "      <td>\\nTWEET:  i've been told that hairdryer helps....</td>\n",
       "    </tr>\n",
       "    <tr>\n",
       "      <th>2</th>\n",
       "      <td>1640339730054385666</td>\n",
       "      <td>2023-03-27</td>\n",
       "      <td>[eCommerce industry, Tech industry, Lazada]</td>\n",
       "      <td>\\nTWEET:  happy birthday lazada 🎉 #lazadabirth...</td>\n",
       "    </tr>\n",
       "    <tr>\n",
       "      <th>3</th>\n",
       "      <td>1640730477676961794</td>\n",
       "      <td>2023-03-28</td>\n",
       "      <td>[Travel &amp; Transportation Business, Food, Car R...</td>\n",
       "      <td>\\nTWEET: 𝗟𝗜𝗚𝗨𝗘 𝟭 𝗨𝗕𝗘𝗥 𝗘𝗔𝗧𝗦 marseille 🆚 montpel...</td>\n",
       "    </tr>\n",
       "    <tr>\n",
       "      <th>4</th>\n",
       "      <td>1640707138875006976</td>\n",
       "      <td>2023-03-28</td>\n",
       "      <td>[Sports &amp; Fitness Business, NBA, NBA Basketbal...</td>\n",
       "      <td>\\nTWEET: 🇬🇧🇬🇧🇬🇧 [£125.00] [size uk] nike air 1...</td>\n",
       "    </tr>\n",
       "  </tbody>\n",
       "</table>\n",
       "</div>"
      ],
      "text/plain": [
       "                    id created_at  \\\n",
       "0  1640678842741186560 2023-03-28   \n",
       "1  1640260371582799872 2023-03-27   \n",
       "2  1640339730054385666 2023-03-27   \n",
       "3  1640730477676961794 2023-03-28   \n",
       "4  1640707138875006976 2023-03-28   \n",
       "\n",
       "                                            entities  \\\n",
       "0  [Fenty Beauty, Makeup, Beauty/Hygiene - CPG, CPG]   \n",
       "1  [Beauty, Cosmetic & Personal Care Business, Ha...   \n",
       "2        [eCommerce industry, Tech industry, Lazada]   \n",
       "3  [Travel & Transportation Business, Food, Car R...   \n",
       "4  [Sports & Fitness Business, NBA, NBA Basketbal...   \n",
       "\n",
       "                                           full_text  \n",
       "0  \\nTWEET:  show me where kendo owns the fenty b...  \n",
       "1  \\nTWEET:  i've been told that hairdryer helps....  \n",
       "2  \\nTWEET:  happy birthday lazada 🎉 #lazadabirth...  \n",
       "3  \\nTWEET: 𝗟𝗜𝗚𝗨𝗘 𝟭 𝗨𝗕𝗘𝗥 𝗘𝗔𝗧𝗦 marseille 🆚 montpel...  \n",
       "4  \\nTWEET: 🇬🇧🇬🇧🇬🇧 [£125.00] [size uk] nike air 1...  "
      ]
     },
     "execution_count": 2,
     "metadata": {},
     "output_type": "execute_result"
    }
   ],
   "source": [
    "tweets = pd.read_parquet('data/eval_tweets_2023328.parquet')\n",
    "logger.info(f'There are {len(tweets)} tweets')\n",
    "tweets.head()"
   ]
  },
  {
   "cell_type": "code",
   "execution_count": 3,
   "id": "15676922",
   "metadata": {},
   "outputs": [],
   "source": [
    "prompt_template = '''Answer the question based on the context below.\n",
    "\n",
    "    Context: You are a marketing and customer relationship management assistant,\n",
    "    your task is to classify a given social media post (tweet) as either a \n",
    "    potential lead or not. When making your classification, consider the following factors: \n",
    "    mentions of product or service offerings, calls to action, inquiries about pricing or\n",
    "    availability, relevance to the marketer's target audience, and level of engagement\n",
    "    from other users. Always provide an explanation.\n",
    "    \n",
    "    Tweet: {tweet}\n",
    "    \n",
    "    Question: Is the above tweet a potential lead? Yes or No? Why?.\n",
    "    Answer: '''"
   ]
  },
  {
   "cell_type": "code",
   "execution_count": 20,
   "id": "88416ac6",
   "metadata": {},
   "outputs": [],
   "source": [
    "prompt_template = '''Answer the question based on the context below.\n",
    "\n",
    "    Context: You are a marketing and customer relationship management assistant,\n",
    "    your task is to classify a given social media post (tweet) as either a \n",
    "    potential lead or not. Provide your analysis of the following social media post (tweet)\n",
    "    as a potential lead in the context of marketing and customer relationship management.\n",
    "    Consider the following factors in your analysis, but feel free to use additional\n",
    "    factors as well:\n",
    "    - Mentions of product or service offerings, calls to action, inquiries about pricing\n",
    "    or availability\n",
    "    - Keywords or phrases commonly associated with potential leads in the context of\n",
    "    marketing and CRM\n",
    "    - The tone and sentiment of the tweet\n",
    "    - The author's profile and engagement history on social media\n",
    "    - Any relevant contextual factors, such as recent product launches, industry events or\n",
    "    trends, or competitor activity.\n",
    "    \n",
    "    Tweet: {tweet}\n",
    "    \n",
    "    Question: Is the above tweet a potential lead? Yes or No? Why?.\n",
    "    Answer: '''"
   ]
  },
  {
   "cell_type": "code",
   "execution_count": 21,
   "id": "9d0e45eb",
   "metadata": {},
   "outputs": [
    {
     "name": "stderr",
     "output_type": "stream",
     "text": [
      "2023-04-03 14:05:03,893 - INFO     | models.bloom | Initializing BLOOM model - Temp: 1e-10 - Max Length: 64\n"
     ]
    }
   ],
   "source": [
    "bloom = Bloom(hf_api=HUGGINGFACE_TOKEN,\n",
    "              temp=1e-10,\n",
    "              max_length=64)"
   ]
  },
  {
   "cell_type": "code",
   "execution_count": 22,
   "id": "039b4b42",
   "metadata": {
    "scrolled": true
   },
   "outputs": [
    {
     "name": "stderr",
     "output_type": "stream",
     "text": [
      "2023-04-03 14:05:03,905 - INFO     | models.bloom | Injecting Variables: ['tweet']\n"
     ]
    },
    {
     "data": {
      "text/plain": [
       "PromptTemplate(input_variables=['tweet'], output_parser=None, partial_variables={}, template=\"Answer the question based on the context below.\\n\\n    Context: You are a marketing and customer relationship management assistant,\\n    your task is to classify a given social media post (tweet) as either a \\n    potential lead or not. Provide your analysis of the following social media post (tweet)\\n    as a potential lead in the context of marketing and customer relationship management.\\n    Consider the following factors in your analysis, but feel free to use additional\\n    factors as well:\\n    - Mentions of product or service offerings, calls to action, inquiries about pricing\\n    or availability\\n    - Keywords or phrases commonly associated with potential leads in the context of\\n    marketing and CRM\\n    - The tone and sentiment of the tweet\\n    - The author's profile and engagement history on social media\\n    - Any relevant contextual factors, such as recent product launches, industry events or\\n    trends, or competitor activity.\\n    \\n    Tweet: {tweet}\\n    \\n    Question: Is the above tweet a potential lead? Yes or No? Why?.\\n    Answer: \", template_format='f-string', validate_template=True)"
      ]
     },
     "execution_count": 22,
     "metadata": {},
     "output_type": "execute_result"
    }
   ],
   "source": [
    "bloom.init_prompt(template=prompt_template, input_vars=['tweet'])"
   ]
  },
  {
   "cell_type": "code",
   "execution_count": 23,
   "id": "b08b7d29",
   "metadata": {},
   "outputs": [
    {
     "name": "stderr",
     "output_type": "stream",
     "text": [
      "2023-04-03 14:05:04,421 - INFO     | models.bloom | Initializing tokenizer\n"
     ]
    },
    {
     "data": {
      "text/plain": [
       "205"
      ]
     },
     "execution_count": 23,
     "metadata": {},
     "output_type": "execute_result"
    }
   ],
   "source": [
    "bloom.count_prompt_tokens()"
   ]
  },
  {
   "cell_type": "code",
   "execution_count": 12,
   "id": "65511f89",
   "metadata": {
    "scrolled": true
   },
   "outputs": [
    {
     "data": {
      "text/plain": [
       "'\\nTWEET: check out this listing i just added to my #poshmark closet: burgundy dress.#shopmycloset '"
      ]
     },
     "execution_count": 12,
     "metadata": {},
     "output_type": "execute_result"
    }
   ],
   "source": [
    "tweet = tweets['full_text'].iloc[4567]\n",
    "tweet"
   ]
  },
  {
   "cell_type": "code",
   "execution_count": 17,
   "id": "76de6adb",
   "metadata": {},
   "outputs": [
    {
     "name": "stderr",
     "output_type": "stream",
     "text": [
      "2023-04-02 16:24:03,278 - INFO     | models.bloom | Running Text Generation\n",
      "2023-04-02 16:24:03,800 - INFO     | models.bloom | Running Text Generation\n"
     ]
    },
    {
     "name": "stdout",
     "output_type": "stream",
     "text": [
      "\n",
      "TWEET: robert downey jr. “abc” gum is up for grabs on ebay \n",
      " Yes, because it mentions a product or service offering, calls to action,\n",
      "    inquiries about pricing or\n"
     ]
    },
    {
     "name": "stderr",
     "output_type": "stream",
     "text": [
      "2023-04-02 16:24:04,306 - INFO     | models.bloom | Running Text Generation\n"
     ]
    },
    {
     "name": "stdout",
     "output_type": "stream",
     "text": [
      "\n",
      "TWEET: hi please find the information as requested case number 0001786297 07919575587 alandb v600 adb\n",
      " Yes, because it mentions the product and service offerings, calls to action, inquiries about pricing\n"
     ]
    },
    {
     "name": "stderr",
     "output_type": "stream",
     "text": [
      "2023-04-02 16:24:04,830 - INFO     | models.bloom | Running Text Generation\n"
     ]
    },
    {
     "name": "stdout",
     "output_type": "stream",
     "text": [
      "\n",
      "TWEET: celebrating 30 years of the toyota production system support center #toyota\n",
      "\n",
      "    \n",
      "    \"\"\"\n",
      "    tweet = input(\"Tweet: \")\n",
      "    if tweet.lower().startswith(\"\n"
     ]
    },
    {
     "name": "stderr",
     "output_type": "stream",
     "text": [
      "2023-04-02 16:24:05,347 - INFO     | models.bloom | Running Text Generation\n"
     ]
    },
    {
     "name": "stdout",
     "output_type": "stream",
     "text": [
      "\n",
      "TWEET: that dream moisturizer is fire! 😩😍 that’s gone have to stay at the house with me.\n",
      " Yes, because the tweet mentions a product or service offering, calls to action,\n",
      "    inquiries about pricing\n"
     ]
    },
    {
     "name": "stderr",
     "output_type": "stream",
     "text": [
      "2023-04-02 16:24:05,861 - INFO     | models.bloom | Running Text Generation\n"
     ]
    },
    {
     "name": "stdout",
     "output_type": "stream",
     "text": [
      "\n",
      "TWEET: mynxtcaradstream: nhtsa probes 50,000 tesla model x vehicles over front seat belt detachment \n",
      " Yes, because it mentions a product or service offering, calls to action, \n",
      "    inquiries about pricing or\n"
     ]
    },
    {
     "name": "stderr",
     "output_type": "stream",
     "text": [
      "2023-04-02 16:24:06,455 - INFO     | models.bloom | Running Text Generation\n"
     ]
    },
    {
     "name": "stdout",
     "output_type": "stream",
     "text": [
      "\n",
      "TWEET:  my seattle cousins drive past two other n'borhood farmers markets to go to the ballard fm. i thought it was awesome the time i got to go with her.\n",
      " Yes, because it mentions a product or service offering, calls to action, inquiries about pricing or\n"
     ]
    },
    {
     "name": "stderr",
     "output_type": "stream",
     "text": [
      "2023-04-02 16:24:06,982 - INFO     | models.bloom | Running Text Generation\n"
     ]
    },
    {
     "name": "stdout",
     "output_type": "stream",
     "text": [
      "\n",
      "TWEET:  get a body oil with a spray nozzle like the one from aveeno\n",
      " Yes, because it mentions a product that is relevant to the marketer's target audience, and it\n"
     ]
    },
    {
     "name": "stderr",
     "output_type": "stream",
     "text": [
      "2023-04-02 16:24:07,498 - INFO     | models.bloom | Running Text Generation\n"
     ]
    },
    {
     "name": "stdout",
     "output_type": "stream",
     "text": [
      "\n",
      "TWEET: too late damage has been done. accountability is modern day women's kryptonite. you can't just change up after you have a kid and hit the wall, expecting commitment like you're a good girl 😂 shits still on the internet blood. \n",
      " Yes, because it mentions product or service offerings, calls to action, inquiries about pricing or\n"
     ]
    },
    {
     "name": "stderr",
     "output_type": "stream",
     "text": [
      "2023-04-02 16:24:08,009 - INFO     | models.bloom | Running Text Generation\n"
     ]
    },
    {
     "name": "stdout",
     "output_type": "stream",
     "text": [
      "\n",
      "TWEET: #uk #monthly #retailsales(mom) uk retail sales unexpectedly rise in february. 1.5% february (feb), 0.9% (prev), -0.1% (exp)...\n",
      "\n",
      "    \n",
      "    \"\"\"\n",
      "    tweet = input(\"Tweet: \")\n",
      "    if tweet.startswith(\"#\")\n",
      "\n",
      "TWEET: nike lebron 20 chosen 1\n",
      " Yes, because it mentions the product and calls to action.\n",
      "    \n",
      "    Question: Is the above tweet a\n"
     ]
    }
   ],
   "source": [
    "# loop test\n",
    "for tweet in tweets['full_text'].iloc[5:15]:\n",
    "    out = bloom.run(inject_obj=tweet)\n",
    "    print(tweet)\n",
    "    print(out)"
   ]
  },
  {
   "cell_type": "code",
   "execution_count": 18,
   "id": "9fb05eb2",
   "metadata": {},
   "outputs": [
    {
     "name": "stderr",
     "output_type": "stream",
     "text": [
      "2023-04-02 16:25:05,060 - INFO     | models.bloom | Running Text Generation\n"
     ]
    },
    {
     "data": {
      "text/plain": [
       "' Yes, because it mentions the product and calls to action.\\n    \\n    Question: Is the above tweet a'"
      ]
     },
     "execution_count": 18,
     "metadata": {},
     "output_type": "execute_result"
    }
   ],
   "source": [
    "bloom.run(inject_obj=tweet)"
   ]
  },
  {
   "cell_type": "code",
   "execution_count": null,
   "id": "0185f94d",
   "metadata": {},
   "outputs": [],
   "source": []
  }
 ],
 "metadata": {
  "kernelspec": {
   "display_name": "Python 3 (ipykernel)",
   "language": "python",
   "name": "python3"
  },
  "language_info": {
   "codemirror_mode": {
    "name": "ipython",
    "version": 3
   },
   "file_extension": ".py",
   "mimetype": "text/x-python",
   "name": "python",
   "nbconvert_exporter": "python",
   "pygments_lexer": "ipython3",
   "version": "3.9.13"
  }
 },
 "nbformat": 4,
 "nbformat_minor": 5
}
