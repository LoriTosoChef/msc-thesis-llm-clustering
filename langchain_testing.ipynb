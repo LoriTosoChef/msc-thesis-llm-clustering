{
 "cells": [
  {
   "cell_type": "code",
   "execution_count": 1,
   "id": "153af96c",
   "metadata": {},
   "outputs": [
    {
     "name": "stderr",
     "output_type": "stream",
     "text": [
      "2023-03-28 15:42:00,668 - INFO     | config     | Loading environment variables\n",
      "2023-03-28 15:42:00,670 - INFO     | config     | Directory raw_data already exists\n",
      "2023-03-28 15:42:00,670 - INFO     | config     | Directory data already exists\n"
     ]
    }
   ],
   "source": [
    "import logging\n",
    "\n",
    "from langchain import PromptTemplate, LLMChain\n",
    "from langchain import HuggingFaceHub\n",
    "\n",
    "from config import HUGGINGFACE_TOKEN"
   ]
  },
  {
   "cell_type": "code",
   "execution_count": 15,
   "id": "6ea001ed",
   "metadata": {},
   "outputs": [],
   "source": [
    "prompt_templates = [\n",
    "    '''Answer the question based on the context below. If the question\n",
    "    cannot be answered using the information provided answer with \"I don't know\".\n",
    "    \n",
    "    Context:\n",
    "    \n",
    "    Question:\n",
    "    \n",
    "    Answer: ''',\n",
    "]"
   ]
  },
  {
   "cell_type": "code",
   "execution_count": null,
   "id": "1759c578",
   "metadata": {},
   "outputs": [],
   "source": []
  },
  {
   "cell_type": "code",
   "execution_count": null,
   "id": "a2c24ec5",
   "metadata": {},
   "outputs": [],
   "source": [
    "hf_models = [\n",
    "    'bigscience/bloom',\n",
    "    'bigscience/bloomz',\n",
    "    'bigscience/bloomz-7b1',\n",
    "    'bigscience/bloom-7b1',\n",
    "    'google/flan-t5-xxl',\n",
    "    'google/flan-t5-xl',\n",
    "    'google/flan-t5-base',\n",
    "]"
   ]
  },
  {
   "cell_type": "code",
   "execution_count": null,
   "id": "ac192e5e",
   "metadata": {},
   "outputs": [],
   "source": [
    "model = hf_models[4]\n",
    "\n",
    "flan_t5 = HuggingFaceHub(\n",
    "    repo_id=model,\n",
    "    model_kwargs={'temperature':1e-10},\n",
    "    huggingfacehub_api_token=HUGGINGFACE_TOKEN\n",
    ")\n",
    "\n",
    "print(f'Using {model}')"
   ]
  },
  {
   "cell_type": "code",
   "execution_count": null,
   "id": "2c61e7d9",
   "metadata": {},
   "outputs": [],
   "source": [
    "template = '''Question: {question}\n",
    "\n",
    "Answer: '''\n",
    "\n",
    "prompt = PromptTemplate(template=template, input_variables=['question'])\n",
    "\n",
    "llm_chain = LLMChain(\n",
    "    prompt=prompt,\n",
    "    llm=flan_t5\n",
    ")\n",
    "\n",
    "question = 'what is 2 plus 2?'\n",
    "\n",
    "print(llm_chain.run(question))"
   ]
  },
  {
   "cell_type": "code",
   "execution_count": null,
   "id": "be090141",
   "metadata": {},
   "outputs": [],
   "source": []
  }
 ],
 "metadata": {
  "kernelspec": {
   "display_name": "Python 3 (ipykernel)",
   "language": "python",
   "name": "python3"
  },
  "language_info": {
   "codemirror_mode": {
    "name": "ipython",
    "version": 3
   },
   "file_extension": ".py",
   "mimetype": "text/x-python",
   "name": "python",
   "nbconvert_exporter": "python",
   "pygments_lexer": "ipython3",
   "version": "3.9.13"
  }
 },
 "nbformat": 4,
 "nbformat_minor": 5
}
