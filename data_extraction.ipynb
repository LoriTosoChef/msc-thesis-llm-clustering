{
 "cells": [
  {
   "cell_type": "code",
   "execution_count": 1,
   "id": "c2c67a66",
   "metadata": {},
   "outputs": [
    {
     "name": "stderr",
     "output_type": "stream",
     "text": [
      "2023-03-27 17:41:13,585 - INFO     | config     | Loading environment variables\n",
      "2023-03-27 17:41:13,587 - INFO     | config     | Directory raw_data already exists\n",
      "2023-03-27 17:41:13,587 - INFO     | config     | Directory data already exists\n"
     ]
    }
   ],
   "source": [
    "import pandas as pd\n",
    "\n",
    "import tweepy\n",
    "\n",
    "import config\n",
    "\n",
    "from bots.twitter import TwitterBot\n",
    "from helpers.data_helpers import save_to_parquet, clean_text, clean_tweets_df, save_to_text"
   ]
  },
  {
   "cell_type": "markdown",
   "id": "79b40dc7",
   "metadata": {},
   "source": [
    "# Extracting Tweets"
   ]
  },
  {
   "cell_type": "code",
   "execution_count": 2,
   "id": "aec722e9",
   "metadata": {},
   "outputs": [],
   "source": [
    "# initialize twitter bot\n",
    "twitter_bot = TwitterBot(bearer=config.TWTR_BEARER_TOKEN,\n",
    "                         api=config.TWTR_API,\n",
    "                         api_secret=config.TWTR_API_SECRET,\n",
    "                         access=config.TWTR_ACCESS_TOKEN,\n",
    "                         access_secret=config.TWTR_ACCESS_TOKEN_SECRET)"
   ]
  },
  {
   "cell_type": "code",
   "execution_count": 3,
   "id": "a300e003",
   "metadata": {},
   "outputs": [],
   "source": [
    "apparel = [\n",
    "    'context:46.783337567798169600 -is:retweet lang:en',    # context: products\n",
    "    'context:67.839543390668673024 -is:retweet lang:en',    # context: apparel\n",
    "    'context:131.1248316002317643776 -is:retweet lang:en',  # context: athletic apparel\n",
    "    'context:65.1256236649253449729 -is:retweet lang:en',   # context: fashion and beauty\n",
    "    'context:131.1095391406816784384 -is:retweet lang:en',  # context: shopping\n",
    "    'context:67.1486758812849635329 -is:retweet lang:en',   # context: retail sales\n",
    "    'context:131.1407812892909473795 -is:retweet lang:en',  # context: ecommerce\n",
    "    'context:165.1407812892909473795 -is:retweet lang:en',  # context: ecommerce\n",
    "]"
   ]
  },
  {
   "cell_type": "code",
   "execution_count": 26,
   "id": "99e9eadb",
   "metadata": {},
   "outputs": [],
   "source": [
    "cars = [\n",
    "    'context:46.781974597251964928 -is:retweet lang:en',    # context: car rental/sharing\n",
    "    'context:45.781972125171060736 -is:retweet lang:en',    # context: auto\n",
    "    'context:46.781972125179518977 -is:retweet lang:en',    # context: auto manufacturer\n",
    "    'context:45.1196845866138533888 -is:retweet lang:en',   # context: automobile brands\n",
    "    'context:131.1196845866138533888 -is:retweet lang:en',  # context: automobile brands\n",
    "    'context:66.1527619563302420480 -is:retweet lang:en',   # context: cars\n",
    "    'context:66.847528646185070592 -is:retweet lang:en',    # context: luxury cars\n",
    "    'context:66.1177213956856799232 -is:retweet lang:en',   # context: used cars\n",
    "]"
   ]
  },
  {
   "cell_type": "code",
   "execution_count": 12,
   "id": "61f0518e",
   "metadata": {},
   "outputs": [],
   "source": [
    "beauty = [\n",
    "    'context:65.850395585941086209 -is:retweet lang:en',    # context: beauty\n",
    "    'context:131.1352035407127429120 -is:retweet lang:en',  # context: beauty industry\n",
    "    'context:46.781974597222604800 -is:retweet lang:en',    # context: beauty/hygiene\n",
    "    'context:131.1357424577974992897 -is:retweet lang:en',  # context: makeup collaborations\n",
    "    'context:131.1354133238709542912 -is:retweet lang:en',  # context: new makeup\n",
    "    'context:67.1400874108556955657 -is:retweet lang:en',   # context: eye makeup\n",
    "    'context:66.854761964874088448 -is:retweet lang:en',    # context: hair care\n",
    "    'context:66.855107826351357952 -is:retweet lang:en',    # context: skin care\n",
    "]"
   ]
  },
  {
   "cell_type": "code",
   "execution_count": null,
   "id": "1a4505b0",
   "metadata": {},
   "outputs": [
    {
     "name": "stdout",
     "output_type": "stream",
     "text": [
      "5000\n",
      "5000\n",
      "5000\n",
      "559\n",
      "5000\n",
      "986\n",
      "5000\n"
     ]
    }
   ],
   "source": [
    "dfs = []\n",
    "for query in cars:\n",
    "    tweets = twitter_bot.get_recent_tweets(query=query, limit=5000)\n",
    "    df = pd.DataFrame.from_dict(tweets)\n",
    "    print(len(df))\n",
    "    dfs.append(df)"
   ]
  },
  {
   "cell_type": "code",
   "execution_count": null,
   "id": "a6c0b87a",
   "metadata": {},
   "outputs": [],
   "source": [
    "tweets = pd.concat(dfs, ignore_index=True)\n",
    "tweets = tweets.loc[~tweets['id'].duplicated()].copy()"
   ]
  },
  {
   "cell_type": "code",
   "execution_count": null,
   "id": "8945d6a3",
   "metadata": {},
   "outputs": [],
   "source": [
    "tweets"
   ]
  },
  {
   "cell_type": "code",
   "execution_count": 16,
   "id": "b72d58c9",
   "metadata": {},
   "outputs": [],
   "source": [
    "save_to_parquet(data_dir=config.RAW_DATA_DIR, df=tweets, name='tweets_beauty_27k')"
   ]
  },
  {
   "cell_type": "markdown",
   "id": "7bb5d34e",
   "metadata": {},
   "source": [
    "# Cleaning Tweets"
   ]
  },
  {
   "cell_type": "code",
   "execution_count": 17,
   "id": "12761af0",
   "metadata": {},
   "outputs": [],
   "source": [
    "tweets_df = pd.read_parquet(f'{config.RAW_DATA_DIR}/tweets_beauty_27k_2023327.parquet')"
   ]
  },
  {
   "cell_type": "code",
   "execution_count": 18,
   "id": "88894726",
   "metadata": {},
   "outputs": [],
   "source": [
    "tweets_df['created_at'] = pd.to_datetime(tweets_df['created_at'].dt.strftime('%Y-%m-%d'))"
   ]
  },
  {
   "cell_type": "code",
   "execution_count": 19,
   "id": "556532a9",
   "metadata": {},
   "outputs": [
    {
     "name": "stdout",
     "output_type": "stream",
     "text": [
      "<class 'pandas.core.frame.DataFrame'>\n",
      "RangeIndex: 27252 entries, 0 to 27251\n",
      "Data columns (total 4 columns):\n",
      " #   Column      Non-Null Count  Dtype         \n",
      "---  ------      --------------  -----         \n",
      " 0   id          27252 non-null  int64         \n",
      " 1   created_at  27252 non-null  datetime64[ns]\n",
      " 2   text        27252 non-null  object        \n",
      " 3   entities    27252 non-null  object        \n",
      "dtypes: datetime64[ns](1), int64(1), object(2)\n",
      "memory usage: 851.8+ KB\n"
     ]
    }
   ],
   "source": [
    "tweets_df.info()"
   ]
  },
  {
   "cell_type": "code",
   "execution_count": 20,
   "id": "55e37703",
   "metadata": {},
   "outputs": [],
   "source": [
    "tweets_df['text'] = tweets_df['text'].map(lambda x: clean_text(x))"
   ]
  },
  {
   "cell_type": "code",
   "execution_count": 21,
   "id": "c5b1006b",
   "metadata": {},
   "outputs": [],
   "source": [
    "df_clean = clean_tweets_df(df=tweets_df, text_col='text', n=2)"
   ]
  },
  {
   "cell_type": "code",
   "execution_count": 22,
   "id": "7fdb43eb",
   "metadata": {},
   "outputs": [
    {
     "data": {
      "text/html": [
       "<div>\n",
       "<style scoped>\n",
       "    .dataframe tbody tr th:only-of-type {\n",
       "        vertical-align: middle;\n",
       "    }\n",
       "\n",
       "    .dataframe tbody tr th {\n",
       "        vertical-align: top;\n",
       "    }\n",
       "\n",
       "    .dataframe thead th {\n",
       "        text-align: right;\n",
       "    }\n",
       "</style>\n",
       "<table border=\"1\" class=\"dataframe\">\n",
       "  <thead>\n",
       "    <tr style=\"text-align: right;\">\n",
       "      <th></th>\n",
       "      <th>id</th>\n",
       "      <th>created_at</th>\n",
       "      <th>entities</th>\n",
       "      <th>full_text</th>\n",
       "    </tr>\n",
       "  </thead>\n",
       "  <tbody>\n",
       "    <tr>\n",
       "      <th>0</th>\n",
       "      <td>1640381611551105024</td>\n",
       "      <td>2023-03-27</td>\n",
       "      <td>[Beauty, Beauty, Cosmetic &amp; Personal Care Busi...</td>\n",
       "      <td>\\nTWEET: oh wait</td>\n",
       "    </tr>\n",
       "    <tr>\n",
       "      <th>1</th>\n",
       "      <td>1640381610603212800</td>\n",
       "      <td>2023-03-27</td>\n",
       "      <td>[Beauty, Beauty, Cosmetic &amp; Personal Care Busi...</td>\n",
       "      <td>\\nTWEET: i'm gonna start tweeting more. be war...</td>\n",
       "    </tr>\n",
       "    <tr>\n",
       "      <th>2</th>\n",
       "      <td>1640381609735241732</td>\n",
       "      <td>2023-03-27</td>\n",
       "      <td>[Beauty, Cosmetic &amp; Personal Care Business, Be...</td>\n",
       "      <td>\\nTWEET: But has she fixed her attitude? 😂👉🏽🧠🖕🏽</td>\n",
       "    </tr>\n",
       "    <tr>\n",
       "      <th>3</th>\n",
       "      <td>1640381601325432833</td>\n",
       "      <td>2023-03-27</td>\n",
       "      <td>[Beauty, Cosmetic &amp; Personal Care Business, Be...</td>\n",
       "      <td>\\nTWEET: love to see it🫶🏾</td>\n",
       "    </tr>\n",
       "    <tr>\n",
       "      <th>4</th>\n",
       "      <td>1640381601187086338</td>\n",
       "      <td>2023-03-27</td>\n",
       "      <td>[Pop, Music, Selena Gomez, Beauty, Cosmetic &amp; ...</td>\n",
       "      <td>\\nTWEET: I still can't believe i will finally ...</td>\n",
       "    </tr>\n",
       "    <tr>\n",
       "      <th>...</th>\n",
       "      <td>...</td>\n",
       "      <td>...</td>\n",
       "      <td>...</td>\n",
       "      <td>...</td>\n",
       "    </tr>\n",
       "    <tr>\n",
       "      <th>26880</th>\n",
       "      <td>1640074912697139200</td>\n",
       "      <td>2023-03-26</td>\n",
       "      <td>[Fashion &amp; beauty, Skin care, Beauty, Beauty, ...</td>\n",
       "      <td>\\nTWEET: The internet was right, this really i...</td>\n",
       "    </tr>\n",
       "    <tr>\n",
       "      <th>26881</th>\n",
       "      <td>1640074601744027651</td>\n",
       "      <td>2023-03-26</td>\n",
       "      <td>[Sunscreen, Skin care, Beauty, Cosmetic &amp; Pers...</td>\n",
       "      <td>\\nTWEET:  i use retinol serum and lotion as we...</td>\n",
       "    </tr>\n",
       "    <tr>\n",
       "      <th>26882</th>\n",
       "      <td>1640074601500753921</td>\n",
       "      <td>2023-03-26</td>\n",
       "      <td>[Organic beauty, Wellness and health, Skin car...</td>\n",
       "      <td>\\nTWEET: NewLife Naturals USDA Certified Organ...</td>\n",
       "    </tr>\n",
       "    <tr>\n",
       "      <th>26883</th>\n",
       "      <td>1640074600162754561</td>\n",
       "      <td>2023-03-26</td>\n",
       "      <td>[Sunscreen, Skin care, Beauty, Cosmetic &amp; Pers...</td>\n",
       "      <td>\\nTWEET: I switched up my skincare regimen, I’...</td>\n",
       "    </tr>\n",
       "    <tr>\n",
       "      <th>26884</th>\n",
       "      <td>1640074517606170627</td>\n",
       "      <td>2023-03-26</td>\n",
       "      <td>[Skin care, Beauty, Cosmetic &amp; Personal Care B...</td>\n",
       "      <td>\\nTWEET: Check out Skin So Soft Bonus-Size Ori...</td>\n",
       "    </tr>\n",
       "  </tbody>\n",
       "</table>\n",
       "<p>26885 rows × 4 columns</p>\n",
       "</div>"
      ],
      "text/plain": [
       "                        id created_at  \\\n",
       "0      1640381611551105024 2023-03-27   \n",
       "1      1640381610603212800 2023-03-27   \n",
       "2      1640381609735241732 2023-03-27   \n",
       "3      1640381601325432833 2023-03-27   \n",
       "4      1640381601187086338 2023-03-27   \n",
       "...                    ...        ...   \n",
       "26880  1640074912697139200 2023-03-26   \n",
       "26881  1640074601744027651 2023-03-26   \n",
       "26882  1640074601500753921 2023-03-26   \n",
       "26883  1640074600162754561 2023-03-26   \n",
       "26884  1640074517606170627 2023-03-26   \n",
       "\n",
       "                                                entities  \\\n",
       "0      [Beauty, Beauty, Cosmetic & Personal Care Busi...   \n",
       "1      [Beauty, Beauty, Cosmetic & Personal Care Busi...   \n",
       "2      [Beauty, Cosmetic & Personal Care Business, Be...   \n",
       "3      [Beauty, Cosmetic & Personal Care Business, Be...   \n",
       "4      [Pop, Music, Selena Gomez, Beauty, Cosmetic & ...   \n",
       "...                                                  ...   \n",
       "26880  [Fashion & beauty, Skin care, Beauty, Beauty, ...   \n",
       "26881  [Sunscreen, Skin care, Beauty, Cosmetic & Pers...   \n",
       "26882  [Organic beauty, Wellness and health, Skin car...   \n",
       "26883  [Sunscreen, Skin care, Beauty, Cosmetic & Pers...   \n",
       "26884  [Skin care, Beauty, Cosmetic & Personal Care B...   \n",
       "\n",
       "                                               full_text  \n",
       "0                                      \\nTWEET: oh wait   \n",
       "1      \\nTWEET: i'm gonna start tweeting more. be war...  \n",
       "2       \\nTWEET: But has she fixed her attitude? 😂👉🏽🧠🖕🏽   \n",
       "3                             \\nTWEET: love to see it🫶🏾   \n",
       "4      \\nTWEET: I still can't believe i will finally ...  \n",
       "...                                                  ...  \n",
       "26880  \\nTWEET: The internet was right, this really i...  \n",
       "26881  \\nTWEET:  i use retinol serum and lotion as we...  \n",
       "26882  \\nTWEET: NewLife Naturals USDA Certified Organ...  \n",
       "26883  \\nTWEET: I switched up my skincare regimen, I’...  \n",
       "26884  \\nTWEET: Check out Skin So Soft Bonus-Size Ori...  \n",
       "\n",
       "[26885 rows x 4 columns]"
      ]
     },
     "execution_count": 22,
     "metadata": {},
     "output_type": "execute_result"
    }
   ],
   "source": [
    "df_clean"
   ]
  },
  {
   "cell_type": "code",
   "execution_count": 23,
   "id": "95d85e91",
   "metadata": {},
   "outputs": [
    {
     "name": "stderr",
     "output_type": "stream",
     "text": [
      "2023-03-27 17:58:38,408 - INFO     | helpers.data_helpers | Saved corpus to .txt file: tweets_beauty_27k_2023327.txt\n"
     ]
    }
   ],
   "source": [
    "save_to_text(df=df_clean, col='full_text', out_dir=config.DATA_DIR, name='tweets_beauty_27k_2023327')"
   ]
  }
 ],
 "metadata": {
  "kernelspec": {
   "display_name": "Python 3 (ipykernel)",
   "language": "python",
   "name": "python3"
  },
  "language_info": {
   "codemirror_mode": {
    "name": "ipython",
    "version": 3
   },
   "file_extension": ".py",
   "mimetype": "text/x-python",
   "name": "python",
   "nbconvert_exporter": "python",
   "pygments_lexer": "ipython3",
   "version": "3.9.13"
  }
 },
 "nbformat": 4,
 "nbformat_minor": 5
}
