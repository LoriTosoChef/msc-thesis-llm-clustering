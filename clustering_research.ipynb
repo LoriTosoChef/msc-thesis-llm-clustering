{
 "cells": [
  {
   "cell_type": "code",
   "execution_count": 8,
   "metadata": {},
   "outputs": [
    {
     "name": "stderr",
     "output_type": "stream",
     "text": [
      "2023-04-20 17:56:56,636 - INFO     | config     | Loading environment variables\n"
     ]
    }
   ],
   "source": [
    "import config\n",
    "\n",
    "import logging\n",
    "import pandas as pd\n",
    "\n",
    "logger = logging.getLogger(__name__)"
   ]
  },
  {
   "cell_type": "code",
   "execution_count": 10,
   "metadata": {},
   "outputs": [
    {
     "name": "stderr",
     "output_type": "stream",
     "text": [
      "2023-04-20 17:57:08,875 - INFO     | __main__   | Loading embeddings/glove_embeddings_test.pkl\n",
      "2023-04-20 17:57:08,876 - INFO     | __main__   | Loading embeddings/mpnet_embeddings_test.pkl\n",
      "2023-04-20 17:57:08,878 - INFO     | __main__   | Loading embeddings/distil_embeddings_test.pkl\n",
      "2023-04-20 17:57:08,879 - INFO     | __main__   | Loading embeddings/wiki_embeddings_test.pkl\n",
      "2023-04-20 17:57:08,880 - INFO     | __main__   | Loading embeddings/w2v_embeddings_test.pkl\n"
     ]
    }
   ],
   "source": [
    "import glob\n",
    "import pickle\n",
    "\n",
    "files = glob.glob('embeddings/*_test.pkl')\n",
    "embeddigs_data = []\n",
    "\n",
    "for file in files:\n",
    "    logger.info(f'Loading {file}')\n",
    "    with open(file, 'rb') as fp:\n",
    "        dict = pickle.load(fp)\n",
    "        embeddigs_data.append(dict)"
   ]
  },
  {
   "attachments": {},
   "cell_type": "markdown",
   "metadata": {},
   "source": [
    "# Clustering"
   ]
  },
  {
   "attachments": {},
   "cell_type": "markdown",
   "metadata": {},
   "source": [
    "## HDBSCAN"
   ]
  },
  {
   "cell_type": "code",
   "execution_count": null,
   "metadata": {},
   "outputs": [],
   "source": [
    "import hdbscan"
   ]
  }
 ],
 "metadata": {
  "kernelspec": {
   "display_name": "thesis",
   "language": "python",
   "name": "python3"
  },
  "language_info": {
   "codemirror_mode": {
    "name": "ipython",
    "version": 3
   },
   "file_extension": ".py",
   "mimetype": "text/x-python",
   "name": "python",
   "nbconvert_exporter": "python",
   "pygments_lexer": "ipython3",
   "version": "3.9.13"
  },
  "orig_nbformat": 4
 },
 "nbformat": 4,
 "nbformat_minor": 2
}
