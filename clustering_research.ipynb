{
 "cells": [
  {
   "cell_type": "code",
   "execution_count": 1,
   "metadata": {},
   "outputs": [
    {
     "name": "stderr",
     "output_type": "stream",
     "text": [
      "2023-05-15 15:41:32,669 - INFO     | config     | Loading environment variables\n"
     ]
    }
   ],
   "source": [
    "import config\n",
    "\n",
    "import logging\n",
    "import random\n",
    "import numpy as np\n",
    "import matplotlib.pyplot as plt\n",
    "\n",
    "logger = logging.getLogger(__name__)"
   ]
  },
  {
   "cell_type": "code",
   "execution_count": 22,
   "metadata": {},
   "outputs": [
    {
     "name": "stderr",
     "output_type": "stream",
     "text": [
      "2023-05-15 15:53:23,379 - INFO     | __main__   | Loading embeddings/glove_embeddings_test.pkl\n",
      "2023-05-15 15:53:23,381 - INFO     | __main__   | Loading embeddings/mpnet_embeddings_test.pkl\n",
      "2023-05-15 15:53:23,382 - INFO     | __main__   | Loading embeddings/distil_embeddings_test.pkl\n",
      "2023-05-15 15:53:23,383 - INFO     | __main__   | Loading embeddings/wiki_embeddings_test.pkl\n",
      "2023-05-15 15:53:23,384 - INFO     | __main__   | Loading embeddings/w2v_embeddings_test.pkl\n"
     ]
    }
   ],
   "source": [
    "import glob\n",
    "import pickle\n",
    "import re\n",
    "\n",
    "files = glob.glob('embeddings/*_test.pkl')\n",
    "embeddings_data = {}\n",
    "\n",
    "for file in files:\n",
    "    logger.info(f'Loading {file}')\n",
    "    match_obj = re.search(r'/(?P<output>[^_/]+)_', file)\n",
    "    filename = match_obj.group('output')\n",
    "    with open(file, 'rb') as fp:\n",
    "        dict = pickle.load(fp)\n",
    "        embeddings_data[filename] = dict"
   ]
  },
  {
   "attachments": {},
   "cell_type": "markdown",
   "metadata": {},
   "source": [
    "# Clustering\n",
    "\n",
    "Testing on mpnet embeddings of Llama 7B output."
   ]
  },
  {
   "cell_type": "code",
   "execution_count": 24,
   "metadata": {},
   "outputs": [
    {
     "data": {
      "text/plain": [
       "array([[ 0.04991404,  0.01245025, -0.03698337, ...,  0.05343255,\n",
       "        -0.01261293, -0.00499435],\n",
       "       [ 0.05668905,  0.01711162, -0.03224138, ...,  0.02460312,\n",
       "        -0.02274811, -0.01416241],\n",
       "       [ 0.06095264, -0.03052419, -0.02791323, ...,  0.00879415,\n",
       "        -0.06087885, -0.01180774],\n",
       "       ...,\n",
       "       [ 0.0707155 ,  0.00652098, -0.03405986, ...,  0.00563026,\n",
       "        -0.04203464, -0.00584347],\n",
       "       [ 0.0707408 ,  0.02420891, -0.04428411, ...,  0.01481363,\n",
       "        -0.01738054, -0.0160687 ],\n",
       "       [ 0.08725643,  0.00544711, -0.05242467, ..., -0.007789  ,\n",
       "        -0.06486614, -0.00444929]], dtype=float32)"
      ]
     },
     "execution_count": 24,
     "metadata": {},
     "output_type": "execute_result"
    }
   ],
   "source": [
    "mpnet_llama = embeddings_data['mpnet']['llama_7b']"
   ]
  },
  {
   "cell_type": "code",
   "execution_count": 24,
   "metadata": {},
   "outputs": [],
   "source": [
    "# plotting\n",
    "def plot_clusters(embeddings: list, clusters, n_neighbors, min_dist: float):\n",
    "    umap_data = umap.UMAP(n_neighbors=n_neighbors, \n",
    "                          n_components=2, \n",
    "                          min_dist = min_dist,  \n",
    "                          #metric='cosine',\n",
    "                          random_state=42).fit_transform(embeddings)\n",
    "    \n",
    "    point_size = 100.0 / np.sqrt(embeddings.shape[0])\n",
    "    \n",
    "    result = pd.DataFrame(umap_data, columns=['x', 'y'])\n",
    "    result['labels'] = clusters.labels_\n",
    "\n",
    "    fig, ax = plt.subplots(figsize=(14, 8))\n",
    "    outliers = result[result.labels == -1]\n",
    "    clustered = result[result.labels != -1]\n",
    "    plt.scatter(outliers.x, outliers.y, color = 'lightgrey', s=point_size)\n",
    "    plt.scatter(clustered.x, clustered.y, c=clustered.labels, s=point_size, cmap='jet')\n",
    "    plt.colorbar()\n",
    "    plt.show()"
   ]
  },
  {
   "attachments": {},
   "cell_type": "markdown",
   "metadata": {},
   "source": [
    "## UMAP + HDBSCAN"
   ]
  },
  {
   "cell_type": "code",
   "execution_count": 11,
   "metadata": {},
   "outputs": [],
   "source": [
    "import umap\n",
    "import hdbscan"
   ]
  },
  {
   "cell_type": "code",
   "execution_count": null,
   "metadata": {},
   "outputs": [],
   "source": []
  }
 ],
 "metadata": {
  "kernelspec": {
   "display_name": "thesis",
   "language": "python",
   "name": "python3"
  },
  "language_info": {
   "codemirror_mode": {
    "name": "ipython",
    "version": 3
   },
   "file_extension": ".py",
   "mimetype": "text/x-python",
   "name": "python",
   "nbconvert_exporter": "python",
   "pygments_lexer": "ipython3",
   "version": "3.9.13"
  },
  "orig_nbformat": 4
 },
 "nbformat": 4,
 "nbformat_minor": 2
}
