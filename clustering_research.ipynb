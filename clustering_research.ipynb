{
 "cells": [
  {
   "cell_type": "code",
   "execution_count": 1,
   "metadata": {},
   "outputs": [
    {
     "name": "stderr",
     "output_type": "stream",
     "text": [
      "2023-05-15 17:29:08,185 - INFO     | config     | Loading environment variables\n"
     ]
    }
   ],
   "source": [
    "import config\n",
    "\n",
    "import logging\n",
    "import numpy as np\n",
    "\n",
    "logger = logging.getLogger(__name__)"
   ]
  },
  {
   "cell_type": "code",
   "execution_count": 2,
   "metadata": {},
   "outputs": [
    {
     "name": "stderr",
     "output_type": "stream",
     "text": [
      "2023-05-15 17:29:08,280 - INFO     | __main__   | Loading embeddings/glove_embeddings_test.pkl\n",
      "2023-05-15 17:29:08,284 - INFO     | __main__   | Loading embeddings/mpnet_embeddings_test.pkl\n",
      "2023-05-15 17:29:08,287 - INFO     | __main__   | Loading embeddings/distil_embeddings_test.pkl\n",
      "2023-05-15 17:29:08,289 - INFO     | __main__   | Loading embeddings/wiki_embeddings_test.pkl\n",
      "2023-05-15 17:29:08,292 - INFO     | __main__   | Loading embeddings/w2v_embeddings_test.pkl\n"
     ]
    }
   ],
   "source": [
    "import glob\n",
    "import pickle\n",
    "import re\n",
    "\n",
    "files = glob.glob('embeddings/*_test.pkl')\n",
    "embeddings_data = {}\n",
    "\n",
    "for file in files:\n",
    "    logger.info(f'Loading {file}')\n",
    "    match_obj = re.search(r'/(?P<output>[^_/]+)_', file)\n",
    "    filename = match_obj.group('output')\n",
    "    with open(file, 'rb') as fp:\n",
    "        dict = pickle.load(fp)\n",
    "        embeddings_data[filename] = dict"
   ]
  },
  {
   "attachments": {},
   "cell_type": "markdown",
   "metadata": {},
   "source": [
    "# Clustering\n",
    "\n",
    "Testing on mpnet embeddings of GPT4All output."
   ]
  },
  {
   "cell_type": "code",
   "execution_count": 3,
   "metadata": {},
   "outputs": [],
   "source": [
    "mpnet_llama = embeddings_data['mpnet']['gpt4all']"
   ]
  },
  {
   "cell_type": "code",
   "execution_count": 47,
   "metadata": {},
   "outputs": [
    {
     "name": "stderr",
     "output_type": "stream",
     "text": [
      "2023-05-15 17:36:43,573 - INFO     | models.clustering | Initializing DBSCAN\n",
      "2023-05-15 17:36:43,573 - INFO     | models.clustering | EPS: 0.1 - MIN_SAMPLES: 2 - METRIC: euclidean\n"
     ]
    }
   ],
   "source": [
    "from models.clustering import ClusteringModel\n",
    "\n",
    "kmeans = ClusteringModel(model_name='dbscan',\n",
    "                         min_samples=2,\n",
    "                         metric='euclidean',\n",
    "                         eps=0.1)"
   ]
  },
  {
   "cell_type": "code",
   "execution_count": 48,
   "metadata": {},
   "outputs": [
    {
     "name": "stderr",
     "output_type": "stream",
     "text": [
      "2023-05-15 17:36:43,807 - INFO     | models.clustering | DBSCAN: searching clusters...\n"
     ]
    },
    {
     "data": {
      "text/plain": [
       "array([-1, -1, -1, -1, -1, -1, -1, -1, -1, -1, -1, -1, -1, -1, -1, -1, -1,\n",
       "       -1, -1, -1, -1, -1, -1, -1, -1, -1, -1, -1, -1, -1, -1, -1, -1, -1,\n",
       "       -1, -1, -1, -1, -1, -1, -1, -1, -1, -1, -1, -1, -1, -1, -1, -1, -1,\n",
       "       -1, -1, -1, -1, -1, -1, -1, -1, -1, -1, -1, -1, -1, -1, -1, -1, -1,\n",
       "       -1, -1, -1, -1, -1, -1, -1, -1, -1, -1, -1, -1, -1, -1, -1, -1, -1,\n",
       "       -1, -1, -1, -1, -1, -1, -1, -1, -1, -1, -1, -1, -1, -1, -1])"
      ]
     },
     "execution_count": 48,
     "metadata": {},
     "output_type": "execute_result"
    }
   ],
   "source": [
    "kmeans.fit_predict(embeddings=mpnet_llama)#, pca_flag=True, n_components=10)\n",
    "clusters = kmeans.clusters\n",
    "clusters"
   ]
  },
  {
   "cell_type": "code",
   "execution_count": 33,
   "metadata": {},
   "outputs": [
    {
     "ename": "ValueError",
     "evalue": "Number of labels is 1. Valid values are 2 to n_samples - 1 (inclusive)",
     "output_type": "error",
     "traceback": [
      "\u001b[0;31m---------------------------------------------------------------------------\u001b[0m",
      "\u001b[0;31mValueError\u001b[0m                                Traceback (most recent call last)",
      "Cell \u001b[0;32mIn[33], line 3\u001b[0m\n\u001b[1;32m      1\u001b[0m \u001b[39mfrom\u001b[39;00m \u001b[39mhelpers\u001b[39;00m\u001b[39m.\u001b[39;00m\u001b[39mclustering_helpers\u001b[39;00m \u001b[39mimport\u001b[39;00m clustering_scores\n\u001b[0;32m----> 3\u001b[0m kmeans_scores \u001b[39m=\u001b[39m clustering_scores(embeddings\u001b[39m=\u001b[39;49mmpnet_llama, clusters\u001b[39m=\u001b[39;49mclusters)\n",
      "File \u001b[0;32m~/Documents/repos/msc-thesis-llm-clustering/helpers/clustering_helpers.py:12\u001b[0m, in \u001b[0;36mclustering_scores\u001b[0;34m(embeddings, clusters)\u001b[0m\n\u001b[1;32m     10\u001b[0m \u001b[39mdef\u001b[39;00m \u001b[39mclustering_scores\u001b[39m(embeddings: List[\u001b[39mfloat\u001b[39m], clusters: List[\u001b[39mint\u001b[39m]) \u001b[39m-\u001b[39m\u001b[39m>\u001b[39m \u001b[39mdict\u001b[39m:\n\u001b[1;32m     11\u001b[0m     scores \u001b[39m=\u001b[39m {}\n\u001b[0;32m---> 12\u001b[0m     scores[\u001b[39m'\u001b[39m\u001b[39mcalinski\u001b[39m\u001b[39m'\u001b[39m] \u001b[39m=\u001b[39m calinski_harabasz_score(embeddings, clusters)\n\u001b[1;32m     13\u001b[0m     scores[\u001b[39m'\u001b[39m\u001b[39mdavies\u001b[39m\u001b[39m'\u001b[39m] \u001b[39m=\u001b[39m davies_bouldin_score(embeddings, clusters)\n\u001b[1;32m     14\u001b[0m     scores[\u001b[39m'\u001b[39m\u001b[39msilhouette\u001b[39m\u001b[39m'\u001b[39m] \u001b[39m=\u001b[39m silhouette_score(embeddings, clusters)\n",
      "File \u001b[0;32m~/.pyenv/versions/3.9.13/envs/thesis/lib/python3.9/site-packages/sklearn/metrics/cluster/_unsupervised.py:290\u001b[0m, in \u001b[0;36mcalinski_harabasz_score\u001b[0;34m(X, labels)\u001b[0m\n\u001b[1;32m    287\u001b[0m n_samples, _ \u001b[39m=\u001b[39m X\u001b[39m.\u001b[39mshape\n\u001b[1;32m    288\u001b[0m n_labels \u001b[39m=\u001b[39m \u001b[39mlen\u001b[39m(le\u001b[39m.\u001b[39mclasses_)\n\u001b[0;32m--> 290\u001b[0m check_number_of_labels(n_labels, n_samples)\n\u001b[1;32m    292\u001b[0m extra_disp, intra_disp \u001b[39m=\u001b[39m \u001b[39m0.0\u001b[39m, \u001b[39m0.0\u001b[39m\n\u001b[1;32m    293\u001b[0m mean \u001b[39m=\u001b[39m np\u001b[39m.\u001b[39mmean(X, axis\u001b[39m=\u001b[39m\u001b[39m0\u001b[39m)\n",
      "File \u001b[0;32m~/.pyenv/versions/3.9.13/envs/thesis/lib/python3.9/site-packages/sklearn/metrics/cluster/_unsupervised.py:33\u001b[0m, in \u001b[0;36mcheck_number_of_labels\u001b[0;34m(n_labels, n_samples)\u001b[0m\n\u001b[1;32m     22\u001b[0m \u001b[39m\u001b[39m\u001b[39m\"\"\"Check that number of labels are valid.\u001b[39;00m\n\u001b[1;32m     23\u001b[0m \n\u001b[1;32m     24\u001b[0m \u001b[39mParameters\u001b[39;00m\n\u001b[0;32m   (...)\u001b[0m\n\u001b[1;32m     30\u001b[0m \u001b[39m    Number of samples.\u001b[39;00m\n\u001b[1;32m     31\u001b[0m \u001b[39m\"\"\"\u001b[39;00m\n\u001b[1;32m     32\u001b[0m \u001b[39mif\u001b[39;00m \u001b[39mnot\u001b[39;00m \u001b[39m1\u001b[39m \u001b[39m<\u001b[39m n_labels \u001b[39m<\u001b[39m n_samples:\n\u001b[0;32m---> 33\u001b[0m     \u001b[39mraise\u001b[39;00m \u001b[39mValueError\u001b[39;00m(\n\u001b[1;32m     34\u001b[0m         \u001b[39m\"\u001b[39m\u001b[39mNumber of labels is \u001b[39m\u001b[39m%d\u001b[39;00m\u001b[39m. Valid values are 2 to n_samples - 1 (inclusive)\u001b[39m\u001b[39m\"\u001b[39m\n\u001b[1;32m     35\u001b[0m         \u001b[39m%\u001b[39m n_labels\n\u001b[1;32m     36\u001b[0m     )\n",
      "\u001b[0;31mValueError\u001b[0m: Number of labels is 1. Valid values are 2 to n_samples - 1 (inclusive)"
     ]
    }
   ],
   "source": [
    "from helpers.clustering_helpers import clustering_scores\n",
    "\n",
    "kmeans_scores = clustering_scores(embeddings=mpnet_llama, clusters=clusters)"
   ]
  },
  {
   "cell_type": "code",
   "execution_count": null,
   "metadata": {},
   "outputs": [
    {
     "data": {
      "image/png": "[encoded data removed]",
      "text/plain": [
       "<Figure size 640x480 with 1 Axes>"
      ]
     },
     "metadata": {},
     "output_type": "display_data"
    }
   ],
   "source": [
    "from helpers.data_viz import plot_clusters\n",
    "\n",
    "plot_clusters(embeddings=kmeans.embeddings, clusters=clusters)"
   ]
  },
  {
   "cell_type": "code",
   "execution_count": null,
   "metadata": {},
   "outputs": [],
   "source": [
    "import pandas as pd\n",
    "\n",
    "outputs = pd.read_parquet('outputs/0S_100T_all_models_202345.parquet')"
   ]
  },
  {
   "cell_type": "code",
   "execution_count": null,
   "metadata": {},
   "outputs": [],
   "source": [
    "outputs['gpt4all_cluster'] = clusters"
   ]
  },
  {
   "cell_type": "code",
   "execution_count": null,
   "metadata": {},
   "outputs": [
    {
     "data": {
      "text/html": [
       "<div>\n",
       "<style scoped>\n",
       "    .dataframe tbody tr th:only-of-type {\n",
       "        vertical-align: middle;\n",
       "    }\n",
       "\n",
       "    .dataframe tbody tr th {\n",
       "        vertical-align: top;\n",
       "    }\n",
       "\n",
       "    .dataframe thead th {\n",
       "        text-align: right;\n",
       "    }\n",
       "</style>\n",
       "<table border=\"1\" class=\"dataframe\">\n",
       "  <thead>\n",
       "    <tr style=\"text-align: right;\">\n",
       "      <th></th>\n",
       "      <th>id</th>\n",
       "      <th>full_text</th>\n",
       "      <th>bloom</th>\n",
       "      <th>alpaca_3b</th>\n",
       "      <th>alpaca_770m</th>\n",
       "      <th>llama_13b</th>\n",
       "      <th>gpt4all</th>\n",
       "      <th>llama_7b</th>\n",
       "      <th>gpt4all_cluster</th>\n",
       "    </tr>\n",
       "  </thead>\n",
       "  <tbody>\n",
       "    <tr>\n",
       "      <th>0</th>\n",
       "      <td>1642025557511532545</td>\n",
       "      <td>the white paws, the cute collar, the tongue, t...</td>\n",
       "      <td>Yes, the above tweet is a potential lead. The...</td>\n",
       "      <td>Yes, this tweet is a potential lead because it...</td>\n",
       "      <td>Yes, the tweet is a potential lead because it ...</td>\n",
       "      <td>1. What is your analysis of the tweet in terms...</td>\n",
       "      <td>\\n\\nAnswer:\\n\\nYes, the above tweet is a poten...</td>\n",
       "      <td>Yes. The reason is that it has all the charac...</td>\n",
       "      <td>1</td>\n",
       "    </tr>\n",
       "    <tr>\n",
       "      <th>1</th>\n",
       "      <td>1642522139130486787</td>\n",
       "      <td>city boy. see those sneakers abeg. the way he ...</td>\n",
       "      <td>Yes, the above tweet is a potential lead. The...</td>\n",
       "      <td>Yes, this tweet is a potential lead because it...</td>\n",
       "      <td>Yes, the tweet is a potential lead because it ...</td>\n",
       "      <td>1) Explain why you think it is a potential lea...</td>\n",
       "      <td>\\nThe given tweet is not a potential lead as i...</td>\n",
       "      <td>Yes, it is a potential lead because it shows ...</td>\n",
       "      <td>1</td>\n",
       "    </tr>\n",
       "    <tr>\n",
       "      <th>2</th>\n",
       "      <td>1642165846842966016</td>\n",
       "      <td>put it on a flame/heat safe surface and burn/...</td>\n",
       "      <td>Yes, the above tweet is a potential lead. The...</td>\n",
       "      <td>Yes, this tweet is a potential lead because it...</td>\n",
       "      <td>Yes, the tweet is a potential lead because it ...</td>\n",
       "      <td>Yes, it is a potential lead because it provid...</td>\n",
       "      <td>The tweet is not a potential lead as it does ...</td>\n",
       "      <td>Yes, it is a potential lead because it is rel...</td>\n",
       "      <td>0</td>\n",
       "    </tr>\n",
       "    <tr>\n",
       "      <th>3</th>\n",
       "      <td>1642505628181569538</td>\n",
       "      <td>7| acquisitions: nike has made several acquisi...</td>\n",
       "      <td>Yes, the above tweet is a potential lead. The...</td>\n",
       "      <td>Yes, this tweet is a potential lead because it...</td>\n",
       "      <td>Yes, the tweet is a potential lead because it ...</td>\n",
       "      <td>1. The tweet is a potential lead because it ha...</td>\n",
       "      <td>\\nThe given tweet is not a potential lead. Thi...</td>\n",
       "      <td>▪️ Yes, because Nike has made several acquisit...</td>\n",
       "      <td>0</td>\n",
       "    </tr>\n",
       "    <tr>\n",
       "      <th>4</th>\n",
       "      <td>1642367629020266496</td>\n",
       "      <td>before: bilas air hangat aftercare: moisturizer</td>\n",
       "      <td>Yes, the above tweet is a potential lead. The...</td>\n",
       "      <td>Yes, this tweet is a potential lead because it...</td>\n",
       "      <td>Yes, the tweet is a potential lead because it ...</td>\n",
       "      <td>Yes, it is a potential lead because it is an ...</td>\n",
       "      <td>The above tweet is not a potential lead as it...</td>\n",
       "      <td>No, it is not a potential lead because it doe...</td>\n",
       "      <td>1</td>\n",
       "    </tr>\n",
       "    <tr>\n",
       "      <th>...</th>\n",
       "      <td>...</td>\n",
       "      <td>...</td>\n",
       "      <td>...</td>\n",
       "      <td>...</td>\n",
       "      <td>...</td>\n",
       "      <td>...</td>\n",
       "      <td>...</td>\n",
       "      <td>...</td>\n",
       "      <td>...</td>\n",
       "    </tr>\n",
       "    <tr>\n",
       "      <th>95</th>\n",
       "      <td>1640851780128100352</td>\n",
       "      <td>$169 in the 1970s? jesus. that was 1/2 the pr...</td>\n",
       "      <td>Yes, the above tweet is a potential lead. The...</td>\n",
       "      <td>Yes, this tweet is a potential lead because it...</td>\n",
       "      <td>Yes, the tweet is a potential lead because it ...</td>\n",
       "      <td>Yes, it is a potential lead because it has th...</td>\n",
       "      <td>The tweet is not a potential lead as it does ...</td>\n",
       "      <td>The tweet is not a potential lead as it does ...</td>\n",
       "      <td>1</td>\n",
       "    </tr>\n",
       "    <tr>\n",
       "      <th>96</th>\n",
       "      <td>1641906087107391488</td>\n",
       "      <td>foodwise, which runs the ferry plaza farmers m...</td>\n",
       "      <td>Yes, the tweet is a potential lead because it...</td>\n",
       "      <td>Yes, this tweet is a potential lead because it...</td>\n",
       "      <td>Yes, the tweet is a potential lead because it ...</td>\n",
       "      <td>1) The tweet is not a potential lead because i...</td>\n",
       "      <td>\\nYes, the above tweet is a potential lead as ...</td>\n",
       "      <td>Yes, it is a potential lead because it is a n...</td>\n",
       "      <td>1</td>\n",
       "    </tr>\n",
       "    <tr>\n",
       "      <th>97</th>\n",
       "      <td>1642529318835466247</td>\n",
       "      <td>check out this listing i just added to my #pos...</td>\n",
       "      <td>Yes, the above tweet is a potential lead. The...</td>\n",
       "      <td>Yes, this tweet is a potential lead because it...</td>\n",
       "      <td>Yes, the tweet is a potential lead because it ...</td>\n",
       "      <td>1) The tweet is not a potential lead because i...</td>\n",
       "      <td>\\nYes, the above tweet is a potential lead as ...</td>\n",
       "      <td>I think that it is not a potential lead becau...</td>\n",
       "      <td>1</td>\n",
       "    </tr>\n",
       "    <tr>\n",
       "      <th>98</th>\n",
       "      <td>1642537505412231168</td>\n",
       "      <td>thank you maybelline #maybellinexbini #bini_f...</td>\n",
       "      <td>Yes, the above tweet is a potential lead. The...</td>\n",
       "      <td>Yes, this tweet is a potential lead because it...</td>\n",
       "      <td>Yes, the tweet is a potential lead because it ...</td>\n",
       "      <td>1. Explain why it is not a potential lead.    ...</td>\n",
       "      <td>The above tweet is not a potential lead as it...</td>\n",
       "      <td>The above tweet is a potential lead because i...</td>\n",
       "      <td>1</td>\n",
       "    </tr>\n",
       "    <tr>\n",
       "      <th>99</th>\n",
       "      <td>1642361972284092416</td>\n",
       "      <td>$lyft $uber - lyft staff pressed founders for ...</td>\n",
       "      <td>Yes, the above tweet is a potential lead. The...</td>\n",
       "      <td>Yes, this tweet is a potential lead because it...</td>\n",
       "      <td>Yes, the tweet is a potential lead because it ...</td>\n",
       "      <td>1) The tweet is not a potential lead because i...</td>\n",
       "      <td>\\nYes, the above tweet is a potential lead bec...</td>\n",
       "      <td>I would say no, because it is not related to ...</td>\n",
       "      <td>0</td>\n",
       "    </tr>\n",
       "  </tbody>\n",
       "</table>\n",
       "<p>100 rows × 9 columns</p>\n",
       "</div>"
      ],
      "text/plain": [
       "                     id                                          full_text  \\\n",
       "0   1642025557511532545  the white paws, the cute collar, the tongue, t...   \n",
       "1   1642522139130486787  city boy. see those sneakers abeg. the way he ...   \n",
       "2   1642165846842966016   put it on a flame/heat safe surface and burn/...   \n",
       "3   1642505628181569538  7| acquisitions: nike has made several acquisi...   \n",
       "4   1642367629020266496    before: bilas air hangat aftercare: moisturizer   \n",
       "..                  ...                                                ...   \n",
       "95  1640851780128100352   $169 in the 1970s? jesus. that was 1/2 the pr...   \n",
       "96  1641906087107391488  foodwise, which runs the ferry plaza farmers m...   \n",
       "97  1642529318835466247  check out this listing i just added to my #pos...   \n",
       "98  1642537505412231168   thank you maybelline #maybellinexbini #bini_f...   \n",
       "99  1642361972284092416  $lyft $uber - lyft staff pressed founders for ...   \n",
       "\n",
       "                                                bloom  \\\n",
       "0    Yes, the above tweet is a potential lead. The...   \n",
       "1    Yes, the above tweet is a potential lead. The...   \n",
       "2    Yes, the above tweet is a potential lead. The...   \n",
       "3    Yes, the above tweet is a potential lead. The...   \n",
       "4    Yes, the above tweet is a potential lead. The...   \n",
       "..                                                ...   \n",
       "95   Yes, the above tweet is a potential lead. The...   \n",
       "96   Yes, the tweet is a potential lead because it...   \n",
       "97   Yes, the above tweet is a potential lead. The...   \n",
       "98   Yes, the above tweet is a potential lead. The...   \n",
       "99   Yes, the above tweet is a potential lead. The...   \n",
       "\n",
       "                                            alpaca_3b  \\\n",
       "0   Yes, this tweet is a potential lead because it...   \n",
       "1   Yes, this tweet is a potential lead because it...   \n",
       "2   Yes, this tweet is a potential lead because it...   \n",
       "3   Yes, this tweet is a potential lead because it...   \n",
       "4   Yes, this tweet is a potential lead because it...   \n",
       "..                                                ...   \n",
       "95  Yes, this tweet is a potential lead because it...   \n",
       "96  Yes, this tweet is a potential lead because it...   \n",
       "97  Yes, this tweet is a potential lead because it...   \n",
       "98  Yes, this tweet is a potential lead because it...   \n",
       "99  Yes, this tweet is a potential lead because it...   \n",
       "\n",
       "                                          alpaca_770m  \\\n",
       "0   Yes, the tweet is a potential lead because it ...   \n",
       "1   Yes, the tweet is a potential lead because it ...   \n",
       "2   Yes, the tweet is a potential lead because it ...   \n",
       "3   Yes, the tweet is a potential lead because it ...   \n",
       "4   Yes, the tweet is a potential lead because it ...   \n",
       "..                                                ...   \n",
       "95  Yes, the tweet is a potential lead because it ...   \n",
       "96  Yes, the tweet is a potential lead because it ...   \n",
       "97  Yes, the tweet is a potential lead because it ...   \n",
       "98  Yes, the tweet is a potential lead because it ...   \n",
       "99  Yes, the tweet is a potential lead because it ...   \n",
       "\n",
       "                                            llama_13b  \\\n",
       "0   1. What is your analysis of the tweet in terms...   \n",
       "1   1) Explain why you think it is a potential lea...   \n",
       "2    Yes, it is a potential lead because it provid...   \n",
       "3   1. The tweet is a potential lead because it ha...   \n",
       "4    Yes, it is a potential lead because it is an ...   \n",
       "..                                                ...   \n",
       "95   Yes, it is a potential lead because it has th...   \n",
       "96  1) The tweet is not a potential lead because i...   \n",
       "97  1) The tweet is not a potential lead because i...   \n",
       "98  1. Explain why it is not a potential lead.    ...   \n",
       "99  1) The tweet is not a potential lead because i...   \n",
       "\n",
       "                                              gpt4all  \\\n",
       "0   \\n\\nAnswer:\\n\\nYes, the above tweet is a poten...   \n",
       "1   \\nThe given tweet is not a potential lead as i...   \n",
       "2    The tweet is not a potential lead as it does ...   \n",
       "3   \\nThe given tweet is not a potential lead. Thi...   \n",
       "4    The above tweet is not a potential lead as it...   \n",
       "..                                                ...   \n",
       "95   The tweet is not a potential lead as it does ...   \n",
       "96  \\nYes, the above tweet is a potential lead as ...   \n",
       "97  \\nYes, the above tweet is a potential lead as ...   \n",
       "98   The above tweet is not a potential lead as it...   \n",
       "99  \\nYes, the above tweet is a potential lead bec...   \n",
       "\n",
       "                                             llama_7b  gpt4all_cluster  \n",
       "0    Yes. The reason is that it has all the charac...                1  \n",
       "1    Yes, it is a potential lead because it shows ...                1  \n",
       "2    Yes, it is a potential lead because it is rel...                0  \n",
       "3   ▪️ Yes, because Nike has made several acquisit...                0  \n",
       "4    No, it is not a potential lead because it doe...                1  \n",
       "..                                                ...              ...  \n",
       "95   The tweet is not a potential lead as it does ...                1  \n",
       "96   Yes, it is a potential lead because it is a n...                1  \n",
       "97   I think that it is not a potential lead becau...                1  \n",
       "98   The above tweet is a potential lead because i...                1  \n",
       "99   I would say no, because it is not related to ...                0  \n",
       "\n",
       "[100 rows x 9 columns]"
      ]
     },
     "execution_count": 12,
     "metadata": {},
     "output_type": "execute_result"
    }
   ],
   "source": [
    "outputs"
   ]
  },
  {
   "cell_type": "code",
   "execution_count": null,
   "metadata": {},
   "outputs": [],
   "source": []
  }
 ],
 "metadata": {
  "kernelspec": {
   "display_name": "thesis",
   "language": "python",
   "name": "python3"
  },
  "language_info": {
   "codemirror_mode": {
    "name": "ipython",
    "version": 3
   },
   "file_extension": ".py",
   "mimetype": "text/x-python",
   "name": "python",
   "nbconvert_exporter": "python",
   "pygments_lexer": "ipython3",
   "version": "3.9.13"
  },
  "orig_nbformat": 4
 },
 "nbformat": 4,
 "nbformat_minor": 2
}
