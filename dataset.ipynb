{
 "cells": [
  {
   "cell_type": "code",
   "execution_count": 1,
   "id": "c2c67a66",
   "metadata": {},
   "outputs": [
    {
     "name": "stderr",
     "output_type": "stream",
     "text": [
      "2023-03-30 14:58:55,394 - INFO     | config     | Loading environment variables\n",
      "2023-03-30 14:58:55,398 - INFO     | config     | Directory raw_data already exists\n",
      "2023-03-30 14:58:55,404 - INFO     | config     | Directory data already exists\n"
     ]
    }
   ],
   "source": [
    "import pandas as pd\n",
    "\n",
    "#import tweepy\n",
    "\n",
    "import config\n",
    "\n",
    "from bots.twitter import TwitterBot\n",
    "from helpers.data_helpers import save_to_parquet, clean_text, clean_tweets_df, save_to_text"
   ]
  },
  {
   "cell_type": "markdown",
   "id": "79b40dc7",
   "metadata": {},
   "source": [
    "# Extracting Tweets"
   ]
  },
  {
   "cell_type": "code",
   "execution_count": 47,
   "id": "aec722e9",
   "metadata": {},
   "outputs": [],
   "source": [
    "# initialize twitter bot\n",
    "twitter_bot = TwitterBot(bearer=config.TWTR_BEARER_TOKEN,\n",
    "                         api=config.TWTR_API,\n",
    "                         api_secret=config.TWTR_API_SECRET,\n",
    "                         access=config.TWTR_ACCESS_TOKEN,\n",
    "                         access_secret=config.TWTR_ACCESS_TOKEN_SECRET)"
   ]
  },
  {
   "cell_type": "code",
   "execution_count": 48,
   "id": "a300e003",
   "metadata": {},
   "outputs": [],
   "source": [
    "apparel = [\n",
    "    'context:67.839543390668673024 -is:retweet lang:en',    # context: apparel\n",
    "    'context:131.1248316002317643776 -is:retweet lang:en',  # context: athletic apparel\n",
    "    'context:65.1256236649253449729 -is:retweet lang:en',   # context: fashion and beauty\n",
    "    'context:131.1095391406816784384 -is:retweet lang:en',  # context: shopping\n",
    "    'context:67.1486758812849635329 -is:retweet lang:en',   # context: retail sales\n",
    "    'context:131.1407812892909473795 -is:retweet lang:en',  # context: ecommerce\n",
    "    'context:165.1407812892909473795 -is:retweet lang:en',  # context: ecommerce\n",
    "]"
   ]
  },
  {
   "cell_type": "code",
   "execution_count": 49,
   "id": "99e9eadb",
   "metadata": {},
   "outputs": [],
   "source": [
    "cars = [\n",
    "    'context:46.781974597251964928 -is:retweet lang:en',    # context: car rental/sharing\n",
    "    'context:45.781972125171060736 -is:retweet lang:en',    # context: auto\n",
    "    'context:46.781972125179518977 -is:retweet lang:en',    # context: auto manufacturer\n",
    "    'context:45.1196845866138533888 -is:retweet lang:en',   # context: automobile brands\n",
    "    'context:131.1196845866138533888 -is:retweet lang:en',  # context: automobile brands\n",
    "    'context:66.1527619563302420480 -is:retweet lang:en',   # context: cars\n",
    "    'context:66.847528646185070592 -is:retweet lang:en',    # context: luxury cars\n",
    "    'context:66.1177213956856799232 -is:retweet lang:en',   # context: used cars\n",
    "]"
   ]
  },
  {
   "cell_type": "code",
   "execution_count": 50,
   "id": "61f0518e",
   "metadata": {},
   "outputs": [],
   "source": [
    "beauty = [\n",
    "    'context:65.850395585941086209 -is:retweet lang:en',    # context: beauty\n",
    "    'context:131.1352035407127429120 -is:retweet lang:en',  # context: beauty industry\n",
    "    'context:46.781974597222604800 -is:retweet lang:en',    # context: beauty/hygiene\n",
    "    'context:131.1357424577974992897 -is:retweet lang:en',  # context: makeup collaborations\n",
    "    'context:131.1354133238709542912 -is:retweet lang:en',  # context: new makeup\n",
    "    'context:67.1400874108556955657 -is:retweet lang:en',   # context: eye makeup\n",
    "    'context:66.854761964874088448 -is:retweet lang:en',    # context: hair care\n",
    "    'context:66.855107826351357952 -is:retweet lang:en',    # context: skin care\n",
    "]"
   ]
  },
  {
   "cell_type": "code",
   "execution_count": 71,
   "id": "1a4505b0",
   "metadata": {},
   "outputs": [],
   "source": [
    "dfs = []\n",
    "for query in beauty:\n",
    "    tweets = twitter_bot.get_recent_tweets(query=query, limit=5000)\n",
    "    df = pd.DataFrame.from_dict(tweets)\n",
    "    dfs.append(df)"
   ]
  },
  {
   "cell_type": "code",
   "execution_count": 72,
   "id": "a6c0b87a",
   "metadata": {},
   "outputs": [],
   "source": [
    "tweets = pd.concat(dfs, ignore_index=True)\n",
    "tweets = tweets.loc[~tweets['id'].duplicated()].copy()"
   ]
  },
  {
   "cell_type": "code",
   "execution_count": 73,
   "id": "8945d6a3",
   "metadata": {},
   "outputs": [
    {
     "name": "stdout",
     "output_type": "stream",
     "text": [
      "27383\n"
     ]
    }
   ],
   "source": [
    "print(len(tweets))"
   ]
  },
  {
   "cell_type": "code",
   "execution_count": 74,
   "id": "b72d58c9",
   "metadata": {},
   "outputs": [],
   "source": [
    "save_to_parquet(data_dir=config.RAW_DATA_DIR, df=tweets, name='tweets_beauty_27k')"
   ]
  },
  {
   "cell_type": "markdown",
   "id": "7bb5d34e",
   "metadata": {},
   "source": [
    "# Dataset Creation"
   ]
  },
  {
   "cell_type": "code",
   "execution_count": 75,
   "id": "1222c540",
   "metadata": {},
   "outputs": [
    {
     "data": {
      "text/plain": [
       "['raw_data/tweets_cars_20k_2023328.parquet',\n",
       " 'raw_data/tweets_beauty_27k_2023328.parquet',\n",
       " 'raw_data/tweets_apparel_27k_2023328.parquet']"
      ]
     },
     "execution_count": 75,
     "metadata": {},
     "output_type": "execute_result"
    }
   ],
   "source": [
    "import glob\n",
    "\n",
    "files = glob.glob(f'{config.RAW_DATA_DIR}/*_2023328.parquet')\n",
    "files"
   ]
  },
  {
   "cell_type": "code",
   "execution_count": 76,
   "id": "ae707184",
   "metadata": {},
   "outputs": [],
   "source": [
    "# combining dataframes\n",
    "dfs_list = []\n",
    "for file in files:\n",
    "    df = pd.read_parquet(file)\n",
    "    dfs_list.append(df)\n",
    "dfs = pd.concat(dfs_list, ignore_index=True)"
   ]
  },
  {
   "cell_type": "code",
   "execution_count": 77,
   "id": "dd6ba6e9",
   "metadata": {},
   "outputs": [
    {
     "name": "stdout",
     "output_type": "stream",
     "text": [
      "Total Tweets before duplicates: 75578\n",
      "Total Tweets after duplicates: 74653\n"
     ]
    }
   ],
   "source": [
    "print(f'Total Tweets before duplicates: {len(dfs)}')\n",
    "dfs = dfs.loc[~dfs['id'].duplicated()].copy()\n",
    "print(f'Total Tweets after duplicates: {len(dfs)}')"
   ]
  },
  {
   "cell_type": "code",
   "execution_count": 78,
   "id": "aeef70dc",
   "metadata": {
    "scrolled": true
   },
   "outputs": [
    {
     "name": "stdout",
     "output_type": "stream",
     "text": [
      "<class 'pandas.core.frame.DataFrame'>\n",
      "Int64Index: 74653 entries, 0 to 75577\n",
      "Data columns (total 4 columns):\n",
      " #   Column      Non-Null Count  Dtype              \n",
      "---  ------      --------------  -----              \n",
      " 0   id          74653 non-null  int64              \n",
      " 1   created_at  74653 non-null  datetime64[ns, UTC]\n",
      " 2   text        74653 non-null  object             \n",
      " 3   entities    74653 non-null  object             \n",
      "dtypes: datetime64[ns, UTC](1), int64(1), object(2)\n",
      "memory usage: 2.8+ MB\n"
     ]
    }
   ],
   "source": [
    "dfs.info()"
   ]
  },
  {
   "cell_type": "code",
   "execution_count": 79,
   "id": "4cadfd43",
   "metadata": {},
   "outputs": [],
   "source": [
    "# converting dates\n",
    "dfs['created_at'] = pd.to_datetime(dfs['created_at'].dt.strftime('%Y-%m-%d'))"
   ]
  },
  {
   "cell_type": "code",
   "execution_count": 80,
   "id": "bee6dc8c",
   "metadata": {},
   "outputs": [],
   "source": [
    "# cleaning text\n",
    "dfs['text'] = dfs['text'].map(lambda x: clean_text(x))"
   ]
  },
  {
   "cell_type": "code",
   "execution_count": 81,
   "id": "9c768a44",
   "metadata": {},
   "outputs": [
    {
     "name": "stdout",
     "output_type": "stream",
     "text": [
      "Total tweets after removing short Tweets: 73847\n"
     ]
    }
   ],
   "source": [
    "tweets_df = clean_tweets_df(df=dfs, text_col='text', n=2)\n",
    "save_to_parquet(data_dir=config.DATA_DIR, df=tweets_df, name='all_tweets')\n",
    "print(f'Total tweets after removing short Tweets: {len(tweets_df)}')"
   ]
  },
  {
   "cell_type": "code",
   "execution_count": 82,
   "id": "fb91848e",
   "metadata": {},
   "outputs": [
    {
     "data": {
      "text/html": [
       "<div>\n",
       "<style scoped>\n",
       "    .dataframe tbody tr th:only-of-type {\n",
       "        vertical-align: middle;\n",
       "    }\n",
       "\n",
       "    .dataframe tbody tr th {\n",
       "        vertical-align: top;\n",
       "    }\n",
       "\n",
       "    .dataframe thead th {\n",
       "        text-align: right;\n",
       "    }\n",
       "</style>\n",
       "<table border=\"1\" class=\"dataframe\">\n",
       "  <thead>\n",
       "    <tr style=\"text-align: right;\">\n",
       "      <th></th>\n",
       "      <th>id</th>\n",
       "      <th>created_at</th>\n",
       "      <th>entities</th>\n",
       "      <th>full_text</th>\n",
       "    </tr>\n",
       "  </thead>\n",
       "  <tbody>\n",
       "    <tr>\n",
       "      <th>0</th>\n",
       "      <td>1640732683218087938</td>\n",
       "      <td>2023-03-28</td>\n",
       "      <td>[Lyft, Travel &amp; Transportation Business, Car R...</td>\n",
       "      <td>\\nTWEET:  don’t care about the drivers</td>\n",
       "    </tr>\n",
       "    <tr>\n",
       "      <th>1</th>\n",
       "      <td>1640732633880510466</td>\n",
       "      <td>2023-03-28</td>\n",
       "      <td>[Lyft, Travel &amp; Transportation Business, Car R...</td>\n",
       "      <td>\\nTWEET: lyft founders to step down, former am...</td>\n",
       "    </tr>\n",
       "    <tr>\n",
       "      <th>2</th>\n",
       "      <td>1640732621314326529</td>\n",
       "      <td>2023-03-28</td>\n",
       "      <td>[Travel &amp; Transportation Business, Car Rental/...</td>\n",
       "      <td>\\nTWEET: i lost money in the uber and i even t...</td>\n",
       "    </tr>\n",
       "    <tr>\n",
       "      <th>3</th>\n",
       "      <td>1640732585729970179</td>\n",
       "      <td>2023-03-28</td>\n",
       "      <td>[Technology, Travel &amp; Transportation Business,...</td>\n",
       "      <td>\\nTWEET: america walks is hosting a webinar on...</td>\n",
       "    </tr>\n",
       "    <tr>\n",
       "      <th>4</th>\n",
       "      <td>1640732551831535616</td>\n",
       "      <td>2023-03-28</td>\n",
       "      <td>[Travel &amp; Transportation Business, Car Rental/...</td>\n",
       "      <td>\\nTWEET: well, at least this fucker found a pl...</td>\n",
       "    </tr>\n",
       "  </tbody>\n",
       "</table>\n",
       "</div>"
      ],
      "text/plain": [
       "                    id created_at  \\\n",
       "0  1640732683218087938 2023-03-28   \n",
       "1  1640732633880510466 2023-03-28   \n",
       "2  1640732621314326529 2023-03-28   \n",
       "3  1640732585729970179 2023-03-28   \n",
       "4  1640732551831535616 2023-03-28   \n",
       "\n",
       "                                            entities  \\\n",
       "0  [Lyft, Travel & Transportation Business, Car R...   \n",
       "1  [Lyft, Travel & Transportation Business, Car R...   \n",
       "2  [Travel & Transportation Business, Car Rental/...   \n",
       "3  [Technology, Travel & Transportation Business,...   \n",
       "4  [Travel & Transportation Business, Car Rental/...   \n",
       "\n",
       "                                           full_text  \n",
       "0             \\nTWEET:  don’t care about the drivers  \n",
       "1  \\nTWEET: lyft founders to step down, former am...  \n",
       "2  \\nTWEET: i lost money in the uber and i even t...  \n",
       "3  \\nTWEET: america walks is hosting a webinar on...  \n",
       "4  \\nTWEET: well, at least this fucker found a pl...  "
      ]
     },
     "execution_count": 82,
     "metadata": {},
     "output_type": "execute_result"
    }
   ],
   "source": [
    "tweets_df.head()"
   ]
  },
  {
   "cell_type": "markdown",
   "id": "21c3c4a4",
   "metadata": {},
   "source": [
    "### Shuffling and Slicing"
   ]
  },
  {
   "cell_type": "code",
   "execution_count": 66,
   "id": "ec57de91",
   "metadata": {},
   "outputs": [
    {
     "data": {
      "text/html": [
       "<div>\n",
       "<style scoped>\n",
       "    .dataframe tbody tr th:only-of-type {\n",
       "        vertical-align: middle;\n",
       "    }\n",
       "\n",
       "    .dataframe tbody tr th {\n",
       "        vertical-align: top;\n",
       "    }\n",
       "\n",
       "    .dataframe thead th {\n",
       "        text-align: right;\n",
       "    }\n",
       "</style>\n",
       "<table border=\"1\" class=\"dataframe\">\n",
       "  <thead>\n",
       "    <tr style=\"text-align: right;\">\n",
       "      <th></th>\n",
       "      <th>id</th>\n",
       "      <th>created_at</th>\n",
       "      <th>entities</th>\n",
       "      <th>full_text</th>\n",
       "    </tr>\n",
       "  </thead>\n",
       "  <tbody>\n",
       "    <tr>\n",
       "      <th>0</th>\n",
       "      <td>1640367128854564864</td>\n",
       "      <td>2023-03-27</td>\n",
       "      <td>[Entertainment &amp; Leisure Business, B2B, Baseba...</td>\n",
       "      <td>\\nTWEET: hahdhdh thats why he is practicing i ...</td>\n",
       "    </tr>\n",
       "    <tr>\n",
       "      <th>1</th>\n",
       "      <td>1640367079076376579</td>\n",
       "      <td>2023-03-27</td>\n",
       "      <td>[B2B, Services - B2B, Technology Business, Pro...</td>\n",
       "      <td>\\nTWEET: that's right - we're using #ai to hel...</td>\n",
       "    </tr>\n",
       "    <tr>\n",
       "      <th>2</th>\n",
       "      <td>1640366751463374853</td>\n",
       "      <td>2023-03-27</td>\n",
       "      <td>[Hasbro, Products - B2B, B2B]</td>\n",
       "      <td>\\nTWEET: indy goes trick or treating as two fa...</td>\n",
       "    </tr>\n",
       "    <tr>\n",
       "      <th>3</th>\n",
       "      <td>1640366569673850881</td>\n",
       "      <td>2023-03-27</td>\n",
       "      <td>[B2B, Services - B2B, Technology Business, Dat...</td>\n",
       "      <td>\\nTWEET: forget the diy headaches when you cho...</td>\n",
       "    </tr>\n",
       "    <tr>\n",
       "      <th>4</th>\n",
       "      <td>1640366205818003462</td>\n",
       "      <td>2023-03-27</td>\n",
       "      <td>[Samsung , NVIDIA, B2B, AMD, Samsung USA, Sams...</td>\n",
       "      <td>\\nTWEET: the global semiconductor supply chain...</td>\n",
       "    </tr>\n",
       "    <tr>\n",
       "      <th>...</th>\n",
       "      <td>...</td>\n",
       "      <td>...</td>\n",
       "      <td>...</td>\n",
       "      <td>...</td>\n",
       "    </tr>\n",
       "    <tr>\n",
       "      <th>78351</th>\n",
       "      <td>1638450493650350081</td>\n",
       "      <td>2023-03-22</td>\n",
       "      <td>[BMW, Automotive, Aircraft &amp; Boat Business, Us...</td>\n",
       "      <td>\\nTWEET: i seem to be coming across lots of ba...</td>\n",
       "    </tr>\n",
       "    <tr>\n",
       "      <th>78352</th>\n",
       "      <td>1638450452625801217</td>\n",
       "      <td>2023-03-22</td>\n",
       "      <td>[BMW, BMW - X1, Automotive, Aircraft &amp; Boat Bu...</td>\n",
       "      <td>\\nTWEET: neil james is looking very happy with...</td>\n",
       "    </tr>\n",
       "    <tr>\n",
       "      <th>78353</th>\n",
       "      <td>1638450366898491392</td>\n",
       "      <td>2023-03-22</td>\n",
       "      <td>[Travel &amp; Transportation Business, Electric ve...</td>\n",
       "      <td>\\nTWEET: nobody would buy a second hand ev the...</td>\n",
       "    </tr>\n",
       "    <tr>\n",
       "      <th>78354</th>\n",
       "      <td>1638450260556255232</td>\n",
       "      <td>2023-03-22</td>\n",
       "      <td>[Automotive, Used Cars, Used Vehicle, Automoti...</td>\n",
       "      <td>\\nTWEET:  🤡🤡🤡🤡for that gift her dad has to go ...</td>\n",
       "    </tr>\n",
       "    <tr>\n",
       "      <th>78355</th>\n",
       "      <td>1638449979906818049</td>\n",
       "      <td>2023-03-22</td>\n",
       "      <td>[Automotive, Used Cars, Used Vehicle, Automoti...</td>\n",
       "      <td>\\nTWEET:  i’m a professional panel beater, i d...</td>\n",
       "    </tr>\n",
       "  </tbody>\n",
       "</table>\n",
       "<p>78356 rows × 4 columns</p>\n",
       "</div>"
      ],
      "text/plain": [
       "                        id created_at  \\\n",
       "0      1640367128854564864 2023-03-27   \n",
       "1      1640367079076376579 2023-03-27   \n",
       "2      1640366751463374853 2023-03-27   \n",
       "3      1640366569673850881 2023-03-27   \n",
       "4      1640366205818003462 2023-03-27   \n",
       "...                    ...        ...   \n",
       "78351  1638450493650350081 2023-03-22   \n",
       "78352  1638450452625801217 2023-03-22   \n",
       "78353  1638450366898491392 2023-03-22   \n",
       "78354  1638450260556255232 2023-03-22   \n",
       "78355  1638449979906818049 2023-03-22   \n",
       "\n",
       "                                                entities  \\\n",
       "0      [Entertainment & Leisure Business, B2B, Baseba...   \n",
       "1      [B2B, Services - B2B, Technology Business, Pro...   \n",
       "2                          [Hasbro, Products - B2B, B2B]   \n",
       "3      [B2B, Services - B2B, Technology Business, Dat...   \n",
       "4      [Samsung , NVIDIA, B2B, AMD, Samsung USA, Sams...   \n",
       "...                                                  ...   \n",
       "78351  [BMW, Automotive, Aircraft & Boat Business, Us...   \n",
       "78352  [BMW, BMW - X1, Automotive, Aircraft & Boat Bu...   \n",
       "78353  [Travel & Transportation Business, Electric ve...   \n",
       "78354  [Automotive, Used Cars, Used Vehicle, Automoti...   \n",
       "78355  [Automotive, Used Cars, Used Vehicle, Automoti...   \n",
       "\n",
       "                                               full_text  \n",
       "0      \\nTWEET: hahdhdh thats why he is practicing i ...  \n",
       "1      \\nTWEET: that's right - we're using #ai to hel...  \n",
       "2      \\nTWEET: indy goes trick or treating as two fa...  \n",
       "3      \\nTWEET: forget the diy headaches when you cho...  \n",
       "4      \\nTWEET: the global semiconductor supply chain...  \n",
       "...                                                  ...  \n",
       "78351  \\nTWEET: i seem to be coming across lots of ba...  \n",
       "78352  \\nTWEET: neil james is looking very happy with...  \n",
       "78353  \\nTWEET: nobody would buy a second hand ev the...  \n",
       "78354  \\nTWEET:  🤡🤡🤡🤡for that gift her dad has to go ...  \n",
       "78355  \\nTWEET:  i’m a professional panel beater, i d...  \n",
       "\n",
       "[78356 rows x 4 columns]"
      ]
     },
     "execution_count": 66,
     "metadata": {},
     "output_type": "execute_result"
    }
   ],
   "source": [
    "tweets_df"
   ]
  },
  {
   "cell_type": "code",
   "execution_count": 23,
   "id": "95d85e91",
   "metadata": {},
   "outputs": [
    {
     "name": "stderr",
     "output_type": "stream",
     "text": [
      "2023-03-27 17:58:38,408 - INFO     | helpers.data_helpers | Saved corpus to .txt file: tweets_beauty_27k_2023327.txt\n"
     ]
    }
   ],
   "source": [
    "save_to_text(df=df_clean, col='full_text', out_dir=config.DATA_DIR, name='tweets_beauty_27k_2023327')"
   ]
  }
 ],
 "metadata": {
  "kernelspec": {
   "display_name": "Python 3 (ipykernel)",
   "language": "python",
   "name": "python3"
  },
  "language_info": {
   "codemirror_mode": {
    "name": "ipython",
    "version": 3
   },
   "file_extension": ".py",
   "mimetype": "text/x-python",
   "name": "python",
   "nbconvert_exporter": "python",
   "pygments_lexer": "ipython3",
   "version": "3.9.13"
  }
 },
 "nbformat": 4,
 "nbformat_minor": 5
}
