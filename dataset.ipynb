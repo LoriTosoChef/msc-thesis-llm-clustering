{
 "cells": [
  {
   "cell_type": "code",
   "execution_count": 1,
   "id": "c2c67a66",
   "metadata": {},
   "outputs": [
    {
     "name": "stderr",
     "output_type": "stream",
     "text": [
      "2023-04-02 15:39:01,114 - INFO     | config     | Loading environment variables\n"
     ]
    }
   ],
   "source": [
    "import time\n",
    "import pandas as pd\n",
    "\n",
    "import config\n",
    "\n",
    "from bots.twitter import TwitterBot\n",
    "from helpers.data_helpers import save_to_parquet, clean_text, clean_tweets_df, save_to_text"
   ]
  },
  {
   "cell_type": "markdown",
   "id": "79b40dc7",
   "metadata": {},
   "source": [
    "# Extracting Tweets"
   ]
  },
  {
   "cell_type": "code",
   "execution_count": 2,
   "id": "aec722e9",
   "metadata": {},
   "outputs": [],
   "source": [
    "# initialize twitter bot\n",
    "twitter_bot = TwitterBot(bearer=config.TWTR_BEARER_TOKEN,\n",
    "                         api=config.TWTR_API,\n",
    "                         api_secret=config.TWTR_API_SECRET,\n",
    "                         access=config.TWTR_ACCESS_TOKEN,\n",
    "                         access_secret=config.TWTR_ACCESS_TOKEN_SECRET)"
   ]
  },
  {
   "cell_type": "code",
   "execution_count": 3,
   "id": "a300e003",
   "metadata": {},
   "outputs": [],
   "source": [
    "apparel = [\n",
    "    'context:67.839543390668673024 -is:retweet lang:en',    # context: apparel\n",
    "    'context:131.1248316002317643776 -is:retweet lang:en',  # context: athletic apparel\n",
    "    'context:65.1256236649253449729 -is:retweet lang:en',   # context: fashion and beauty\n",
    "    'context:131.1095391406816784384 -is:retweet lang:en',  # context: shopping\n",
    "    'context:67.1486758812849635329 -is:retweet lang:en',   # context: retail sales\n",
    "    'context:131.1407812892909473795 -is:retweet lang:en',  # context: ecommerce\n",
    "    'context:165.1407812892909473795 -is:retweet lang:en',  # context: ecommerce\n",
    "]"
   ]
  },
  {
   "cell_type": "code",
   "execution_count": 4,
   "id": "99e9eadb",
   "metadata": {},
   "outputs": [],
   "source": [
    "cars = [\n",
    "    'context:46.781974597251964928 -is:retweet lang:en',    # context: car rental/sharing\n",
    "    'context:45.781972125171060736 -is:retweet lang:en',    # context: auto\n",
    "    'context:46.781972125179518977 -is:retweet lang:en',    # context: auto manufacturer\n",
    "    'context:45.1196845866138533888 -is:retweet lang:en',   # context: automobile brands\n",
    "    'context:131.1196845866138533888 -is:retweet lang:en',  # context: automobile brands\n",
    "    'context:66.1527619563302420480 -is:retweet lang:en',   # context: cars\n",
    "    'context:66.847528646185070592 -is:retweet lang:en',    # context: luxury cars\n",
    "    'context:66.1177213956856799232 -is:retweet lang:en',   # context: used cars\n",
    "]"
   ]
  },
  {
   "cell_type": "code",
   "execution_count": 5,
   "id": "61f0518e",
   "metadata": {},
   "outputs": [],
   "source": [
    "beauty = [\n",
    "    'context:65.850395585941086209 -is:retweet lang:en',    # context: beauty\n",
    "    'context:131.1352035407127429120 -is:retweet lang:en',  # context: beauty industry\n",
    "    'context:46.781974597222604800 -is:retweet lang:en',    # context: beauty/hygiene\n",
    "    'context:131.1357424577974992897 -is:retweet lang:en',  # context: makeup collaborations\n",
    "    'context:131.1354133238709542912 -is:retweet lang:en',  # context: new makeup\n",
    "    'context:67.1400874108556955657 -is:retweet lang:en',   # context: eye makeup\n",
    "    'context:66.854761964874088448 -is:retweet lang:en',    # context: hair care\n",
    "    'context:66.855107826351357952 -is:retweet lang:en',    # context: skin care\n",
    "]"
   ]
  },
  {
   "cell_type": "code",
   "execution_count": 17,
   "id": "1a4505b0",
   "metadata": {
    "scrolled": false
   },
   "outputs": [],
   "source": [
    "dfs = []\n",
    "for query in beauty:\n",
    "    tweets = twitter_bot.get_recent_tweets(query=query, limit=5000)\n",
    "    df = pd.DataFrame.from_dict(tweets)\n",
    "    dfs.append(df)\n",
    "    time.sleep(60)"
   ]
  },
  {
   "cell_type": "code",
   "execution_count": 18,
   "id": "a6c0b87a",
   "metadata": {},
   "outputs": [],
   "source": [
    "tweets = pd.concat(dfs, ignore_index=True)\n",
    "tweets = tweets.loc[~tweets['id'].duplicated()].copy()"
   ]
  },
  {
   "cell_type": "code",
   "execution_count": 19,
   "id": "8945d6a3",
   "metadata": {},
   "outputs": [
    {
     "name": "stdout",
     "output_type": "stream",
     "text": [
      "25697\n"
     ]
    }
   ],
   "source": [
    "print(len(tweets))"
   ]
  },
  {
   "cell_type": "code",
   "execution_count": 20,
   "id": "b72d58c9",
   "metadata": {},
   "outputs": [
    {
     "name": "stderr",
     "output_type": "stream",
     "text": [
      "2023-04-02 17:50:14,494 - INFO     | helpers.data_helpers | tweets_beauty_25k.parquet saved.\n"
     ]
    }
   ],
   "source": [
    "save_to_parquet(data_dir=config.RAW_DATA_DIR, df=tweets, name='tweets_beauty_25k')"
   ]
  },
  {
   "cell_type": "markdown",
   "id": "7bb5d34e",
   "metadata": {},
   "source": [
    "# Dataset Creation"
   ]
  },
  {
   "cell_type": "code",
   "execution_count": 21,
   "id": "1222c540",
   "metadata": {},
   "outputs": [
    {
     "data": {
      "text/plain": [
       "['raw_data/tweets_apparel_28k_202342.parquet',\n",
       " 'raw_data/tweets_cars_19k_202342.parquet',\n",
       " 'raw_data/tweets_beauty_25k_202342.parquet']"
      ]
     },
     "execution_count": 21,
     "metadata": {},
     "output_type": "execute_result"
    }
   ],
   "source": [
    "import glob\n",
    "\n",
    "files = glob.glob(f'{config.RAW_DATA_DIR}/*_202342.parquet')\n",
    "files"
   ]
  },
  {
   "cell_type": "code",
   "execution_count": 22,
   "id": "ae707184",
   "metadata": {},
   "outputs": [],
   "source": [
    "# combining dataframes\n",
    "dfs_list = []\n",
    "for file in files:\n",
    "    df = pd.read_parquet(file)\n",
    "    dfs_list.append(df)\n",
    "dfs = pd.concat(dfs_list, ignore_index=True)"
   ]
  },
  {
   "cell_type": "code",
   "execution_count": 23,
   "id": "dd6ba6e9",
   "metadata": {},
   "outputs": [
    {
     "name": "stdout",
     "output_type": "stream",
     "text": [
      "Total Tweets before duplicates: 73637\n",
      "Total Tweets after duplicates: 72949\n"
     ]
    }
   ],
   "source": [
    "print(f'Total Tweets before duplicates: {len(dfs)}')\n",
    "dfs = dfs.loc[~dfs['id'].duplicated()].copy()\n",
    "print(f'Total Tweets after duplicates: {len(dfs)}')"
   ]
  },
  {
   "cell_type": "code",
   "execution_count": 24,
   "id": "aeef70dc",
   "metadata": {
    "scrolled": true
   },
   "outputs": [
    {
     "name": "stdout",
     "output_type": "stream",
     "text": [
      "<class 'pandas.core.frame.DataFrame'>\n",
      "Int64Index: 72949 entries, 0 to 73636\n",
      "Data columns (total 4 columns):\n",
      " #   Column      Non-Null Count  Dtype              \n",
      "---  ------      --------------  -----              \n",
      " 0   id          72949 non-null  int64              \n",
      " 1   created_at  72949 non-null  datetime64[ns, UTC]\n",
      " 2   text        72949 non-null  object             \n",
      " 3   entities    72949 non-null  object             \n",
      "dtypes: datetime64[ns, UTC](1), int64(1), object(2)\n",
      "memory usage: 2.8+ MB\n"
     ]
    }
   ],
   "source": [
    "dfs.info()"
   ]
  },
  {
   "cell_type": "code",
   "execution_count": 25,
   "id": "4cadfd43",
   "metadata": {},
   "outputs": [],
   "source": [
    "# converting dates\n",
    "dfs['created_at'] = pd.to_datetime(dfs['created_at'].dt.strftime('%Y-%m-%d'))"
   ]
  },
  {
   "cell_type": "code",
   "execution_count": 26,
   "id": "bee6dc8c",
   "metadata": {},
   "outputs": [],
   "source": [
    "# cleaning text\n",
    "dfs['text'] = dfs['text'].map(lambda x: clean_text(x))"
   ]
  },
  {
   "cell_type": "code",
   "execution_count": 27,
   "id": "9c768a44",
   "metadata": {},
   "outputs": [
    {
     "name": "stderr",
     "output_type": "stream",
     "text": [
      "2023-04-02 17:50:52,810 - INFO     | helpers.data_helpers | all_tweets.parquet saved.\n"
     ]
    },
    {
     "name": "stdout",
     "output_type": "stream",
     "text": [
      "Total tweets after removing short Tweets: 72370\n"
     ]
    }
   ],
   "source": [
    "tweets_df = clean_tweets_df(df=dfs, text_col='text', n=2)\n",
    "save_to_parquet(data_dir=config.DATA_DIR, df=tweets_df, name='all_tweets')\n",
    "print(f'Total tweets after removing short Tweets: {len(tweets_df)}')"
   ]
  },
  {
   "cell_type": "code",
   "execution_count": 28,
   "id": "fb91848e",
   "metadata": {},
   "outputs": [
    {
     "data": {
      "text/html": [
       "<div>\n",
       "<style scoped>\n",
       "    .dataframe tbody tr th:only-of-type {\n",
       "        vertical-align: middle;\n",
       "    }\n",
       "\n",
       "    .dataframe tbody tr th {\n",
       "        vertical-align: top;\n",
       "    }\n",
       "\n",
       "    .dataframe thead th {\n",
       "        text-align: right;\n",
       "    }\n",
       "</style>\n",
       "<table border=\"1\" class=\"dataframe\">\n",
       "  <thead>\n",
       "    <tr style=\"text-align: right;\">\n",
       "      <th></th>\n",
       "      <th>id</th>\n",
       "      <th>created_at</th>\n",
       "      <th>entities</th>\n",
       "      <th>full_text</th>\n",
       "    </tr>\n",
       "  </thead>\n",
       "  <tbody>\n",
       "    <tr>\n",
       "      <th>0</th>\n",
       "      <td>1642531363663347712</td>\n",
       "      <td>2023-04-02</td>\n",
       "      <td>[Retail industry, Everyday style, H&amp;M , Fashio...</td>\n",
       "      <td>\\nTWEET: takes individuals such feelings ounas...</td>\n",
       "    </tr>\n",
       "    <tr>\n",
       "      <th>1</th>\n",
       "      <td>1642531363285868547</td>\n",
       "      <td>2023-04-02</td>\n",
       "      <td>[Retail industry, Everyday style, H&amp;M , Fashio...</td>\n",
       "      <td>\\nTWEET: taken up the rubicon, and can be insp...</td>\n",
       "    </tr>\n",
       "    <tr>\n",
       "      <th>2</th>\n",
       "      <td>1642531359712264193</td>\n",
       "      <td>2023-04-02</td>\n",
       "      <td>[Retail industry, Everyday style, H&amp;M , Fashio...</td>\n",
       "      <td>\\nTWEET: resentment like some even referred to...</td>\n",
       "    </tr>\n",
       "    <tr>\n",
       "      <th>3</th>\n",
       "      <td>1642531359267725313</td>\n",
       "      <td>2023-04-02</td>\n",
       "      <td>[Fashion accessories, Fashion, General Fashion...</td>\n",
       "      <td>\\nTWEET: save 65.0% on select products from st...</td>\n",
       "    </tr>\n",
       "    <tr>\n",
       "      <th>4</th>\n",
       "      <td>1642531358617509890</td>\n",
       "      <td>2023-04-02</td>\n",
       "      <td>[Retail industry, Everyday style, H&amp;M , Fashio...</td>\n",
       "      <td>\\nTWEET: school, not would either be jerked of...</td>\n",
       "    </tr>\n",
       "  </tbody>\n",
       "</table>\n",
       "</div>"
      ],
      "text/plain": [
       "                    id created_at  \\\n",
       "0  1642531363663347712 2023-04-02   \n",
       "1  1642531363285868547 2023-04-02   \n",
       "2  1642531359712264193 2023-04-02   \n",
       "3  1642531359267725313 2023-04-02   \n",
       "4  1642531358617509890 2023-04-02   \n",
       "\n",
       "                                            entities  \\\n",
       "0  [Retail industry, Everyday style, H&M , Fashio...   \n",
       "1  [Retail industry, Everyday style, H&M , Fashio...   \n",
       "2  [Retail industry, Everyday style, H&M , Fashio...   \n",
       "3  [Fashion accessories, Fashion, General Fashion...   \n",
       "4  [Retail industry, Everyday style, H&M , Fashio...   \n",
       "\n",
       "                                           full_text  \n",
       "0  \\nTWEET: takes individuals such feelings ounas...  \n",
       "1  \\nTWEET: taken up the rubicon, and can be insp...  \n",
       "2  \\nTWEET: resentment like some even referred to...  \n",
       "3  \\nTWEET: save 65.0% on select products from st...  \n",
       "4  \\nTWEET: school, not would either be jerked of...  "
      ]
     },
     "execution_count": 28,
     "metadata": {},
     "output_type": "execute_result"
    }
   ],
   "source": [
    "tweets_df.head()"
   ]
  },
  {
   "cell_type": "markdown",
   "id": "21c3c4a4",
   "metadata": {},
   "source": [
    "### Shuffling and Slicing"
   ]
  },
  {
   "cell_type": "code",
   "execution_count": 38,
   "id": "ec57de91",
   "metadata": {},
   "outputs": [],
   "source": [
    "tweets_df = pd.read_parquet(f'{config.DATA_DIR}/all_tweets_2023327.parquet')"
   ]
  },
  {
   "cell_type": "code",
   "execution_count": 39,
   "id": "a419fe65",
   "metadata": {},
   "outputs": [],
   "source": [
    "tweets_df = tweets_df.sample(frac=1).reset_index(drop=True)"
   ]
  },
  {
   "cell_type": "code",
   "execution_count": 40,
   "id": "2c060699",
   "metadata": {},
   "outputs": [
    {
     "data": {
      "text/plain": [
       "54849"
      ]
     },
     "execution_count": 40,
     "metadata": {},
     "output_type": "execute_result"
    }
   ],
   "source": [
    "idx = int(len(tweets_df) * 0.7)\n",
    "idx"
   ]
  },
  {
   "cell_type": "code",
   "execution_count": 35,
   "id": "97731a12",
   "metadata": {},
   "outputs": [],
   "source": [
    "input_tweets = tweets_df[:idx]\n",
    "eval_tweets = tweets_df[idx:]"
   ]
  },
  {
   "cell_type": "code",
   "execution_count": 37,
   "id": "95d85e91",
   "metadata": {},
   "outputs": [
    {
     "name": "stderr",
     "output_type": "stream",
     "text": [
      "2023-04-02 17:51:50,215 - INFO     | helpers.data_helpers | Saved corpus to .txt file: input_tweets_202342.txt\n",
      "2023-04-02 17:51:50,261 - INFO     | helpers.data_helpers | eval_tweets.parquet saved.\n"
     ]
    }
   ],
   "source": [
    "save_to_text(df=input_tweets, col='full_text', out_dir=config.DATA_DIR, name='input_tweets_202342')\n",
    "save_to_parquet(data_dir=config.DATA_DIR, df=eval_tweets, name='eval_tweets')"
   ]
  },
  {
   "cell_type": "code",
   "execution_count": null,
   "id": "b3d16527",
   "metadata": {},
   "outputs": [],
   "source": []
  }
 ],
 "metadata": {
  "kernelspec": {
   "display_name": "Python 3 (ipykernel)",
   "language": "python",
   "name": "python3"
  },
  "language_info": {
   "codemirror_mode": {
    "name": "ipython",
    "version": 3
   },
   "file_extension": ".py",
   "mimetype": "text/x-python",
   "name": "python",
   "nbconvert_exporter": "python",
   "pygments_lexer": "ipython3",
   "version": "3.9.13"
  }
 },
 "nbformat": 4,
 "nbformat_minor": 5
}
