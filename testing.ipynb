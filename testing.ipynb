{
 "cells": [
  {
   "cell_type": "code",
   "execution_count": 1,
   "id": "779d175f",
   "metadata": {
    "scrolled": false
   },
   "outputs": [
    {
     "name": "stderr",
     "output_type": "stream",
     "text": [
      "2023-03-17 16:36:59,127 - INFO     | config     | Loading environment variables\n",
      "2023-03-17 16:36:59,128 - WARNING  | config     | Directory data already exists\n"
     ]
    }
   ],
   "source": [
    "import pandas as pd\n",
    "\n",
    "import tweepy\n",
    "import praw\n",
    "import config\n",
    "\n",
    "from bots.twitter import TwitterBot"
   ]
  },
  {
   "cell_type": "code",
   "execution_count": 2,
   "id": "09a9eedb",
   "metadata": {
    "scrolled": true
   },
   "outputs": [],
   "source": [
    "twitter_bot = TwitterBot(bearer=config.TWTR_BEARER_TOKEN,\n",
    "                         api=config.TWTR_API,\n",
    "                         api_secret=config.TWTR_API_SECRET,\n",
    "                         access=config.TWTR_ACCESS_TOKEN,\n",
    "                         access_secret=config.TWTR_ACCESS_TOKEN_SECRET)"
   ]
  },
  {
   "cell_type": "code",
   "execution_count": 3,
   "id": "feb616e3",
   "metadata": {},
   "outputs": [],
   "source": [
    "query = 'entity:\"Nike\" -is:retweet lang:en'"
   ]
  },
  {
   "cell_type": "code",
   "execution_count": 4,
   "id": "1e7fc009",
   "metadata": {},
   "outputs": [],
   "source": [
    "tweets = twitter_bot.get_recent_tweets(query=query, limit=500)"
   ]
  },
  {
   "cell_type": "code",
   "execution_count": 5,
   "id": "17162498",
   "metadata": {
    "scrolled": false
   },
   "outputs": [],
   "source": [
    "df = pd.DataFrame.from_dict(tweets)"
   ]
  },
  {
   "cell_type": "code",
   "execution_count": 7,
   "id": "831177dc",
   "metadata": {
    "scrolled": false
   },
   "outputs": [
    {
     "name": "stdout",
     "output_type": "stream",
     "text": [
      "<class 'pandas.core.frame.DataFrame'>\n",
      "RangeIndex: 500 entries, 0 to 499\n",
      "Data columns (total 5 columns):\n",
      " #   Column      Non-Null Count  Dtype              \n",
      "---  ------      --------------  -----              \n",
      " 0   id          500 non-null    int64              \n",
      " 1   user        500 non-null    int64              \n",
      " 2   text        500 non-null    object             \n",
      " 3   created_at  500 non-null    datetime64[ns, UTC]\n",
      " 4   entities    500 non-null    object             \n",
      "dtypes: datetime64[ns, UTC](1), int64(2), object(2)\n",
      "memory usage: 19.7+ KB\n"
     ]
    }
   ],
   "source": [
    "df.info()"
   ]
  },
  {
   "cell_type": "code",
   "execution_count": 8,
   "id": "c3b6bc88",
   "metadata": {
    "scrolled": false
   },
   "outputs": [],
   "source": [
    "df.to_parquet(f'{config.DATA_DIR}/test.parquet', index=False)"
   ]
  }
 ],
 "metadata": {
  "kernelspec": {
   "display_name": "Python 3 (ipykernel)",
   "language": "python",
   "name": "python3"
  },
  "language_info": {
   "codemirror_mode": {
    "name": "ipython",
    "version": 3
   },
   "file_extension": ".py",
   "mimetype": "text/x-python",
   "name": "python",
   "nbconvert_exporter": "python",
   "pygments_lexer": "ipython3",
   "version": "3.9.13"
  }
 },
 "nbformat": 4,
 "nbformat_minor": 5
}
