{
 "cells": [
  {
   "cell_type": "code",
   "execution_count": 1,
   "id": "779d175f",
   "metadata": {
    "scrolled": false
   },
   "outputs": [
    {
     "name": "stderr",
     "output_type": "stream",
     "text": [
      "2023-03-17 16:48:30,888 - INFO     | config     | Loading environment variables\n",
      "2023-03-17 16:48:30,889 - WARNING  | config     | Directory data already exists\n"
     ]
    }
   ],
   "source": [
    "import pandas as pd\n",
    "\n",
    "import tweepy\n",
    "import praw\n",
    "import config\n",
    "\n",
    "from bots.twitter import TwitterBot\n",
    "from bots.reddit import RedditBot"
   ]
  },
  {
   "cell_type": "markdown",
   "id": "79e61001",
   "metadata": {},
   "source": [
    "## Twitter"
   ]
  },
  {
   "cell_type": "code",
   "execution_count": 2,
   "id": "09a9eedb",
   "metadata": {
    "scrolled": true
   },
   "outputs": [],
   "source": [
    "twitter_bot = TwitterBot(bearer=config.TWTR_BEARER_TOKEN,\n",
    "                         api=config.TWTR_API,\n",
    "                         api_secret=config.TWTR_API_SECRET,\n",
    "                         access=config.TWTR_ACCESS_TOKEN,\n",
    "                         access_secret=config.TWTR_ACCESS_TOKEN_SECRET)"
   ]
  },
  {
   "cell_type": "code",
   "execution_count": 3,
   "id": "e46c72ac",
   "metadata": {},
   "outputs": [],
   "source": [
    "query = 'entity:\"Nike\" -is:retweet lang:en'"
   ]
  },
  {
   "cell_type": "code",
   "execution_count": 4,
   "id": "5cd1abaa",
   "metadata": {},
   "outputs": [],
   "source": [
    "tweets = twitter_bot.get_recent_tweets(query=query, limit=500)"
   ]
  },
  {
   "cell_type": "code",
   "execution_count": 5,
   "id": "d9b3306e",
   "metadata": {
    "scrolled": false
   },
   "outputs": [],
   "source": [
    "tweets_df = pd.DataFrame.from_dict(tweets)\n",
    "tweets_df.head()"
   ]
  },
  {
   "cell_type": "markdown",
   "id": "74d7b972",
   "metadata": {},
   "source": [
    "## Reddit"
   ]
  },
  {
   "cell_type": "code",
   "execution_count": 2,
   "id": "950ad1de",
   "metadata": {},
   "outputs": [],
   "source": [
    "reddit_bot = RedditBot(client_id=config.REDDIT_APP_ID,\n",
    "                       client_secret=config.REDDIT_SECRET,\n",
    "                       redirect_url=config.REDDIT_REDIRECT_URL,\n",
    "                       user_agent=config.REDDIT_USER_AGENT)"
   ]
  },
  {
   "cell_type": "code",
   "execution_count": null,
   "id": "b3c42d48",
   "metadata": {},
   "outputs": [],
   "source": []
  }
 ],
 "metadata": {
  "kernelspec": {
   "display_name": "Python 3 (ipykernel)",
   "language": "python",
   "name": "python3"
  },
  "language_info": {
   "codemirror_mode": {
    "name": "ipython",
    "version": 3
   },
   "file_extension": ".py",
   "mimetype": "text/x-python",
   "name": "python",
   "nbconvert_exporter": "python",
   "pygments_lexer": "ipython3",
   "version": "3.9.13"
  }
 },
 "nbformat": 4,
 "nbformat_minor": 5
}
