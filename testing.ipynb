{
 "cells": [
  {
   "cell_type": "code",
   "execution_count": 1,
   "id": "779d175f",
   "metadata": {
    "scrolled": true
   },
   "outputs": [
    {
     "name": "stderr",
     "output_type": "stream",
     "text": [
      "2023-03-16 22:13:15,102 - INFO     | config     | Loading environment variables\n"
     ]
    }
   ],
   "source": [
    "import tweepy\n",
    "import config\n",
    "\n",
    "from bots.twitter import TwitterBot"
   ]
  },
  {
   "cell_type": "code",
   "execution_count": 2,
   "id": "09a9eedb",
   "metadata": {
    "scrolled": true
   },
   "outputs": [
    {
     "name": "stderr",
     "output_type": "stream",
     "text": [
      "2023-03-16 22:13:17,390 - DEBUG    | bots.twitter | Creating twitter bot instance\n"
     ]
    }
   ],
   "source": [
    "twitter_client = TwitterBot(bearer=config.TWTR_BEARER_TOKEN,\n",
    "                            api=config.TWTR_API,\n",
    "                            api_secret=config.TWTR_API_SECRET,\n",
    "                            access=config.TWTR_ACCESS_TOKEN,\n",
    "                            access_secret=config.TWTR_ACCESS_TOKEN_SECRET,\n",
    "                            limit=10)"
   ]
  }
 ],
 "metadata": {
  "kernelspec": {
   "display_name": "Python 3 (ipykernel)",
   "language": "python",
   "name": "python3"
  },
  "language_info": {
   "codemirror_mode": {
    "name": "ipython",
    "version": 3
   },
   "file_extension": ".py",
   "mimetype": "text/x-python",
   "name": "python",
   "nbconvert_exporter": "python",
   "pygments_lexer": "ipython3",
   "version": "3.9.13"
  }
 },
 "nbformat": 4,
 "nbformat_minor": 5
}
