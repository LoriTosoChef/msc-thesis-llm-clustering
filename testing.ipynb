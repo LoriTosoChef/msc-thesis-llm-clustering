{
 "cells": [
  {
   "cell_type": "code",
   "execution_count": 1,
   "id": "2bb88847",
   "metadata": {},
   "outputs": [],
   "source": [
    "from models.gpt4all import m"
   ]
  },
  {
   "cell_type": "code",
   "execution_count": 2,
   "id": "3a5ed234",
   "metadata": {},
   "outputs": [
    {
     "data": {
      "text/plain": [
       "<nomic.gpt4all.gpt4all.GPT4All at 0x118e6f040>"
      ]
     },
     "execution_count": 2,
     "metadata": {},
     "output_type": "execute_result"
    }
   ],
   "source": [
    "m"
   ]
  },
  {
   "cell_type": "code",
   "execution_count": 3,
   "id": "64c7e85e",
   "metadata": {},
   "outputs": [
    {
     "name": "stderr",
     "output_type": "stream",
     "text": [
      "llama_model_load: ggml ctx size = 6065.35 MB\n",
      "llama_model_load: memory_size =  2048.00 MB, n_mem = 65536\n",
      "llama_model_load: loading model part 1/1 from '/Users/lorenzo/.nomic/gpt4all-lora-quantized.bin'\n",
      "llama_model_load: .................................... done\n",
      "llama_model_load: model size =  4017.27 MB / num tensors = 291\n"
     ]
    }
   ],
   "source": [
    "m.open()"
   ]
  },
  {
   "cell_type": "code",
   "execution_count": 5,
   "id": "8bdb5e2c",
   "metadata": {},
   "outputs": [
    {
     "name": "stdout",
     "output_type": "stream",
     "text": [
      "1. The user has tweeted about their experience with an airline company's service. This could be either positive (potential lead) OR negative feedback (not a potential lead).\n"
     ]
    }
   ],
   "source": [
    "prompt = \"\"\"Answer the question based on the context below.\\\n",
    "    Context: You are a marketing and customer relationship management assistant,\\\n",
    "    your task is to determine whether a given tweet is a \\\n",
    "    potential lead or not. Provide your analysis of the following social media post (tweet)\\\n",
    "    as a potential lead in the context of marketing and customer relationship management.\\\n",
    "    Consider the following factors in your analysis, but feel free to use additional\\\n",
    "    factors as well:\\\n",
    "    - Mentions of product or service offerings, calls to action, inquiries about pricing\\\n",
    "    or availability\\\n",
    "    - Keywords or phrases commonly associated with potential leads in the context of\\\n",
    "    marketing and CRM\\\n",
    "    - The tone and sentiment of the tweet\\\n",
    "    - The author's profile and engagement history on social media\\\n",
    "    - Any relevant contextual factors, such as recent product launches, industry events or\\\n",
    "    trends, or competitor activity.\\\n",
    "    Tweet: \"that dream moisturizer is fire! 😩😍 that’s gone have to stay at the house with me.\"\\\n",
    "    Question: Is the above tweet a potential lead? Yes or No? Why?.\"\"\"\n",
    "out = m.prompt(prompt=prompt)\n",
    "print(out)"
   ]
  }
 ],
 "metadata": {
  "kernelspec": {
   "display_name": "Python 3 (ipykernel)",
   "language": "python",
   "name": "python3"
  },
  "language_info": {
   "codemirror_mode": {
    "name": "ipython",
    "version": 3
   },
   "file_extension": ".py",
   "mimetype": "text/x-python",
   "name": "python",
   "nbconvert_exporter": "python",
   "pygments_lexer": "ipython3",
   "version": "3.9.13"
  }
 },
 "nbformat": 4,
 "nbformat_minor": 5
}
