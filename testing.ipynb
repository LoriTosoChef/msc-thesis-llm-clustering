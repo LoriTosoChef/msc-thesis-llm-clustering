{
 "cells": [
  {
   "cell_type": "code",
   "execution_count": 1,
   "id": "779d175f",
   "metadata": {
    "scrolled": false
   },
   "outputs": [
    {
     "name": "stderr",
     "output_type": "stream",
     "text": [
      "2023-03-18 12:02:32,160 - INFO     | config     | Loading environment variables\n",
      "2023-03-18 12:02:32,162 - WARNING  | config     | Directory raw_data already exists\n"
     ]
    }
   ],
   "source": [
    "import pandas as pd\n",
    "\n",
    "import tweepy\n",
    "import praw\n",
    "import config\n",
    "\n",
    "from bots.twitter import TwitterBot\n",
    "from bots.reddit import RedditBot"
   ]
  },
  {
   "cell_type": "markdown",
   "id": "1bbc5361",
   "metadata": {},
   "source": [
    "## Twitter"
   ]
  },
  {
   "cell_type": "code",
   "execution_count": 2,
   "id": "09a9eedb",
   "metadata": {
    "scrolled": true
   },
   "outputs": [],
   "source": [
    "twitter_bot = TwitterBot(bearer=config.TWTR_BEARER_TOKEN,\n",
    "                         api=config.TWTR_API,\n",
    "                         api_secret=config.TWTR_API_SECRET,\n",
    "                         access=config.TWTR_ACCESS_TOKEN,\n",
    "                         access_secret=config.TWTR_ACCESS_TOKEN_SECRET)"
   ]
  },
  {
   "cell_type": "code",
   "execution_count": 32,
   "id": "c91ed5cd",
   "metadata": {},
   "outputs": [],
   "source": [
    "#query = 'entity:\"Automotive\" -is:retweet lang:en'\n",
    "#context: brand | entity: products\n",
    "query = 'context:46.783337567798169600 -is:retweet lang:en'"
   ]
  },
  {
   "cell_type": "code",
   "execution_count": 33,
   "id": "a729c6d9",
   "metadata": {},
   "outputs": [],
   "source": [
    "tweets = twitter_bot.get_recent_tweets(query=query1, limit=5000)"
   ]
  },
  {
   "cell_type": "code",
   "execution_count": 34,
   "id": "d70e4e74",
   "metadata": {},
   "outputs": [
    {
     "data": {
      "text/html": [
       "<div>\n",
       "<style scoped>\n",
       "    .dataframe tbody tr th:only-of-type {\n",
       "        vertical-align: middle;\n",
       "    }\n",
       "\n",
       "    .dataframe tbody tr th {\n",
       "        vertical-align: top;\n",
       "    }\n",
       "\n",
       "    .dataframe thead th {\n",
       "        text-align: right;\n",
       "    }\n",
       "</style>\n",
       "<table border=\"1\" class=\"dataframe\">\n",
       "  <thead>\n",
       "    <tr style=\"text-align: right;\">\n",
       "      <th></th>\n",
       "      <th>id</th>\n",
       "      <th>created_at</th>\n",
       "      <th>text</th>\n",
       "      <th>entities</th>\n",
       "    </tr>\n",
       "  </thead>\n",
       "  <tbody>\n",
       "    <tr>\n",
       "      <th>0</th>\n",
       "      <td>1637050493657841664</td>\n",
       "      <td>2023-03-18 11:17:07+00:00</td>\n",
       "      <td>@smcglobal Honeywell\\n#MoneywiseBeWise #SMC #S...</td>\n",
       "      <td>{Personal finance, Honeywell, Stocks &amp; indices...</td>\n",
       "    </tr>\n",
       "    <tr>\n",
       "      <th>1</th>\n",
       "      <td>1637050492697317377</td>\n",
       "      <td>2023-03-18 11:17:07+00:00</td>\n",
       "      <td>A photocopy or xerox service is a common offer...</td>\n",
       "      <td>{B2B, Products - B2B, Xerox, Services - B2B}</td>\n",
       "    </tr>\n",
       "    <tr>\n",
       "      <th>2</th>\n",
       "      <td>1637050335301648385</td>\n",
       "      <td>2023-03-18 11:16:29+00:00</td>\n",
       "      <td>(US)PowerColor Red Devil AMD Radeon RX 7900 XT...</td>\n",
       "      <td>{B2B, Radeon, Products - B2B, AMD}</td>\n",
       "    </tr>\n",
       "    <tr>\n",
       "      <th>3</th>\n",
       "      <td>1637049850150748160</td>\n",
       "      <td>2023-03-18 11:14:33+00:00</td>\n",
       "      <td>@talkSPORT Rank Xerox</td>\n",
       "      <td>{B2B, Products - B2B, Xerox, Services - B2B}</td>\n",
       "    </tr>\n",
       "    <tr>\n",
       "      <th>4</th>\n",
       "      <td>1637049653928800256</td>\n",
       "      <td>2023-03-18 11:13:47+00:00</td>\n",
       "      <td>@smcglobal Ans.  Honeywell\\n\\n#MoneywiseBeWise...</td>\n",
       "      <td>{Personal finance, Honeywell, Stocks &amp; indices...</td>\n",
       "    </tr>\n",
       "    <tr>\n",
       "      <th>...</th>\n",
       "      <td>...</td>\n",
       "      <td>...</td>\n",
       "      <td>...</td>\n",
       "      <td>...</td>\n",
       "    </tr>\n",
       "    <tr>\n",
       "      <th>4995</th>\n",
       "      <td>1636336700132585475</td>\n",
       "      <td>2023-03-16 12:00:45+00:00</td>\n",
       "      <td>The full wireless package. 🎁 We’re proud to be...</td>\n",
       "      <td>{B2B, Juniper Networks, Products - B2B, Servic...</td>\n",
       "    </tr>\n",
       "    <tr>\n",
       "      <th>4996</th>\n",
       "      <td>1636336656172175364</td>\n",
       "      <td>2023-03-16 12:00:35+00:00</td>\n",
       "      <td>@twilitdreaming I'm doing an AMD build with th...</td>\n",
       "      <td>{B2B, Products - B2B, AMD}</td>\n",
       "    </tr>\n",
       "    <tr>\n",
       "      <th>4997</th>\n",
       "      <td>1636336585582198784</td>\n",
       "      <td>2023-03-16 12:00:18+00:00</td>\n",
       "      <td>Check out our latest blog article:  why does m...</td>\n",
       "      <td>{Honeywell, Blogging, Writing, B2B, Products -...</td>\n",
       "    </tr>\n",
       "    <tr>\n",
       "      <th>4998</th>\n",
       "      <td>1636336535048994821</td>\n",
       "      <td>2023-03-16 12:00:06+00:00</td>\n",
       "      <td>Amazon [$1,199.99]: Sapphire Nitro+ AMD Radeon...</td>\n",
       "      <td>{Gaming Business, AMD, B2B, Radeon, Products -...</td>\n",
       "    </tr>\n",
       "    <tr>\n",
       "      <th>4999</th>\n",
       "      <td>1636336519186186240</td>\n",
       "      <td>2023-03-16 12:00:02+00:00</td>\n",
       "      <td>On Sunday, the UAW announced the passage of a ...</td>\n",
       "      <td>{B2B, Products - B2B, Caterpillar Inc.}</td>\n",
       "    </tr>\n",
       "  </tbody>\n",
       "</table>\n",
       "<p>5000 rows × 4 columns</p>\n",
       "</div>"
      ],
      "text/plain": [
       "                       id                created_at  \\\n",
       "0     1637050493657841664 2023-03-18 11:17:07+00:00   \n",
       "1     1637050492697317377 2023-03-18 11:17:07+00:00   \n",
       "2     1637050335301648385 2023-03-18 11:16:29+00:00   \n",
       "3     1637049850150748160 2023-03-18 11:14:33+00:00   \n",
       "4     1637049653928800256 2023-03-18 11:13:47+00:00   \n",
       "...                   ...                       ...   \n",
       "4995  1636336700132585475 2023-03-16 12:00:45+00:00   \n",
       "4996  1636336656172175364 2023-03-16 12:00:35+00:00   \n",
       "4997  1636336585582198784 2023-03-16 12:00:18+00:00   \n",
       "4998  1636336535048994821 2023-03-16 12:00:06+00:00   \n",
       "4999  1636336519186186240 2023-03-16 12:00:02+00:00   \n",
       "\n",
       "                                                   text  \\\n",
       "0     @smcglobal Honeywell\\n#MoneywiseBeWise #SMC #S...   \n",
       "1     A photocopy or xerox service is a common offer...   \n",
       "2     (US)PowerColor Red Devil AMD Radeon RX 7900 XT...   \n",
       "3                                 @talkSPORT Rank Xerox   \n",
       "4     @smcglobal Ans.  Honeywell\\n\\n#MoneywiseBeWise...   \n",
       "...                                                 ...   \n",
       "4995  The full wireless package. 🎁 We’re proud to be...   \n",
       "4996  @twilitdreaming I'm doing an AMD build with th...   \n",
       "4997  Check out our latest blog article:  why does m...   \n",
       "4998  Amazon [$1,199.99]: Sapphire Nitro+ AMD Radeon...   \n",
       "4999  On Sunday, the UAW announced the passage of a ...   \n",
       "\n",
       "                                               entities  \n",
       "0     {Personal finance, Honeywell, Stocks & indices...  \n",
       "1          {B2B, Products - B2B, Xerox, Services - B2B}  \n",
       "2                    {B2B, Radeon, Products - B2B, AMD}  \n",
       "3          {B2B, Products - B2B, Xerox, Services - B2B}  \n",
       "4     {Personal finance, Honeywell, Stocks & indices...  \n",
       "...                                                 ...  \n",
       "4995  {B2B, Juniper Networks, Products - B2B, Servic...  \n",
       "4996                         {B2B, Products - B2B, AMD}  \n",
       "4997  {Honeywell, Blogging, Writing, B2B, Products -...  \n",
       "4998  {Gaming Business, AMD, B2B, Radeon, Products -...  \n",
       "4999            {B2B, Products - B2B, Caterpillar Inc.}  \n",
       "\n",
       "[5000 rows x 4 columns]"
      ]
     },
     "execution_count": 34,
     "metadata": {},
     "output_type": "execute_result"
    }
   ],
   "source": [
    "tweets_df = pd.DataFrame.from_dict(tweets)\n",
    "tweets_df"
   ]
  },
  {
   "cell_type": "code",
   "execution_count": 36,
   "id": "dc229948",
   "metadata": {
    "scrolled": false
   },
   "outputs": [],
   "source": [
    "tweets_df.to_parquet(f'{config.DATA_DIR}/testing_cleaning.parquet', index=False)"
   ]
  },
  {
   "cell_type": "markdown",
   "id": "5b943d07",
   "metadata": {},
   "source": [
    "## Data Cleaning"
   ]
  },
  {
   "cell_type": "code",
   "execution_count": 65,
   "id": "d0c8aeb1",
   "metadata": {},
   "outputs": [],
   "source": [
    "import re"
   ]
  },
  {
   "cell_type": "code",
   "execution_count": 66,
   "id": "1c1af4fd",
   "metadata": {},
   "outputs": [],
   "source": [
    "df = pd.read_parquet(f'{config.DATA_DIR}/testing_cleaning.parquet')\n",
    "df['created_at'] = pd.to_datetime(df['created_at'].dt.strftime('%Y-%m-%d'))"
   ]
  },
  {
   "cell_type": "code",
   "execution_count": 67,
   "id": "88f1d03d",
   "metadata": {},
   "outputs": [
    {
     "name": "stdout",
     "output_type": "stream",
     "text": [
      "<class 'pandas.core.frame.DataFrame'>\n",
      "RangeIndex: 5000 entries, 0 to 4999\n",
      "Data columns (total 4 columns):\n",
      " #   Column      Non-Null Count  Dtype         \n",
      "---  ------      --------------  -----         \n",
      " 0   id          5000 non-null   int64         \n",
      " 1   created_at  5000 non-null   datetime64[ns]\n",
      " 2   text        5000 non-null   object        \n",
      " 3   entities    5000 non-null   object        \n",
      "dtypes: datetime64[ns](1), int64(1), object(2)\n",
      "memory usage: 156.4+ KB\n"
     ]
    }
   ],
   "source": [
    "df.info()"
   ]
  },
  {
   "cell_type": "code",
   "execution_count": 79,
   "id": "144eb8e3",
   "metadata": {},
   "outputs": [
    {
     "data": {
      "text/html": [
       "<div>\n",
       "<style scoped>\n",
       "    .dataframe tbody tr th:only-of-type {\n",
       "        vertical-align: middle;\n",
       "    }\n",
       "\n",
       "    .dataframe tbody tr th {\n",
       "        vertical-align: top;\n",
       "    }\n",
       "\n",
       "    .dataframe thead th {\n",
       "        text-align: right;\n",
       "    }\n",
       "</style>\n",
       "<table border=\"1\" class=\"dataframe\">\n",
       "  <thead>\n",
       "    <tr style=\"text-align: right;\">\n",
       "      <th></th>\n",
       "      <th>id</th>\n",
       "      <th>created_at</th>\n",
       "      <th>text</th>\n",
       "      <th>entities</th>\n",
       "    </tr>\n",
       "  </thead>\n",
       "  <tbody>\n",
       "    <tr>\n",
       "      <th>0</th>\n",
       "      <td>1637050493657841664</td>\n",
       "      <td>2023-03-18</td>\n",
       "      <td>Honeywell\\n#MoneywiseBeWise #SMC #SMCGlobal #...</td>\n",
       "      <td>[Personal finance, Honeywell, Stocks &amp; indices...</td>\n",
       "    </tr>\n",
       "    <tr>\n",
       "      <th>1</th>\n",
       "      <td>1637050492697317377</td>\n",
       "      <td>2023-03-18</td>\n",
       "      <td>A photocopy or xerox service is a common offer...</td>\n",
       "      <td>[B2B, Products - B2B, Xerox, Services - B2B]</td>\n",
       "    </tr>\n",
       "    <tr>\n",
       "      <th>2</th>\n",
       "      <td>1637050335301648385</td>\n",
       "      <td>2023-03-18</td>\n",
       "      <td>(US)PowerColor Red Devil AMD Radeon RX 7900 XT...</td>\n",
       "      <td>[B2B, Radeon, Products - B2B, AMD]</td>\n",
       "    </tr>\n",
       "    <tr>\n",
       "      <th>3</th>\n",
       "      <td>1637049850150748160</td>\n",
       "      <td>2023-03-18</td>\n",
       "      <td>Rank Xerox</td>\n",
       "      <td>[B2B, Products - B2B, Xerox, Services - B2B]</td>\n",
       "    </tr>\n",
       "    <tr>\n",
       "      <th>4</th>\n",
       "      <td>1637049653928800256</td>\n",
       "      <td>2023-03-18</td>\n",
       "      <td>Ans.  Honeywell\\n\\n#MoneywiseBeWise #SMC #SMC...</td>\n",
       "      <td>[Personal finance, Honeywell, Stocks &amp; indices...</td>\n",
       "    </tr>\n",
       "  </tbody>\n",
       "</table>\n",
       "</div>"
      ],
      "text/plain": [
       "                    id created_at  \\\n",
       "0  1637050493657841664 2023-03-18   \n",
       "1  1637050492697317377 2023-03-18   \n",
       "2  1637050335301648385 2023-03-18   \n",
       "3  1637049850150748160 2023-03-18   \n",
       "4  1637049653928800256 2023-03-18   \n",
       "\n",
       "                                                text  \\\n",
       "0   Honeywell\\n#MoneywiseBeWise #SMC #SMCGlobal #...   \n",
       "1  A photocopy or xerox service is a common offer...   \n",
       "2  (US)PowerColor Red Devil AMD Radeon RX 7900 XT...   \n",
       "3                                         Rank Xerox   \n",
       "4   Ans.  Honeywell\\n\\n#MoneywiseBeWise #SMC #SMC...   \n",
       "\n",
       "                                            entities  \n",
       "0  [Personal finance, Honeywell, Stocks & indices...  \n",
       "1       [B2B, Products - B2B, Xerox, Services - B2B]  \n",
       "2                 [B2B, Radeon, Products - B2B, AMD]  \n",
       "3       [B2B, Products - B2B, Xerox, Services - B2B]  \n",
       "4  [Personal finance, Honeywell, Stocks & indices...  "
      ]
     },
     "execution_count": 79,
     "metadata": {},
     "output_type": "execute_result"
    }
   ],
   "source": [
    "df.head()"
   ]
  },
  {
   "cell_type": "code",
   "execution_count": 77,
   "id": "732fee73",
   "metadata": {},
   "outputs": [],
   "source": [
    "def text_cleaner(text):\n",
    "    text = re.sub(r\"(?:\\@|http?\\://|https?\\://|www)\\S+\", \"\", text)\n",
    "    text = re.sub(\"@[A-Za-z0-9_]+\",\"\", text)\n",
    "    return text"
   ]
  },
  {
   "cell_type": "code",
   "execution_count": 78,
   "id": "99e73cea",
   "metadata": {},
   "outputs": [],
   "source": [
    "df['text'] = df['text'].map(lambda x: text_cleaner(x))"
   ]
  },
  {
   "cell_type": "markdown",
   "id": "b31d51e2",
   "metadata": {},
   "source": [
    "## Reddit"
   ]
  },
  {
   "cell_type": "code",
   "execution_count": null,
   "id": "3e4a8d0f",
   "metadata": {},
   "outputs": [],
   "source": [
    "reddit_bot = RedditBot(client_id=config.REDDIT_APP_ID,\n",
    "                       client_secret=config.REDDIT_SECRET,\n",
    "                       redirect_url=config.REDDIT_REDIRECT_URL,\n",
    "                       user_agent=config.REDDIT_USER_AGENT)"
   ]
  },
  {
   "cell_type": "code",
   "execution_count": null,
   "id": "2e4b56c7",
   "metadata": {
    "scrolled": false
   },
   "outputs": [],
   "source": [
    "d = {}\n",
    "for sub in reddit_bot.client.subreddit('MachineLearning').top(time_filter='all', limit=50):\n",
    "    d['id'] = sub.id\n",
    "    d['']"
   ]
  },
  {
   "cell_type": "code",
   "execution_count": null,
   "id": "a278c825",
   "metadata": {},
   "outputs": [],
   "source": [
    "t = []\n",
    "for post in reddit_bot.client.subreddit('TalesFromTheCustomer').top(time_filter='all', limit=50):\n",
    "    d = {}\n",
    "    d['id'] = post.id\n",
    "    d['text'] = post.title + '\\n' + post.selftext\n",
    "    t.append(d)"
   ]
  },
  {
   "cell_type": "code",
   "execution_count": null,
   "id": "ff95aee5",
   "metadata": {
    "scrolled": false
   },
   "outputs": [],
   "source": [
    "comments = []\n",
    "for post in t:\n",
    "    post_id = post['id']\n",
    "    \n",
    "    submission = reddit_bot.client.submission(post_id)\n",
    "    \n",
    "    submission.comments.replace_more(limit=None)\n",
    "    for comment in submission.comments.list():\n",
    "        comments.append(comment)\n",
    "    break"
   ]
  },
  {
   "cell_type": "code",
   "execution_count": null,
   "id": "59dc7d86",
   "metadata": {},
   "outputs": [],
   "source": []
  }
 ],
 "metadata": {
  "kernelspec": {
   "display_name": "Python 3 (ipykernel)",
   "language": "python",
   "name": "python3"
  },
  "language_info": {
   "codemirror_mode": {
    "name": "ipython",
    "version": 3
   },
   "file_extension": ".py",
   "mimetype": "text/x-python",
   "name": "python",
   "nbconvert_exporter": "python",
   "pygments_lexer": "ipython3",
   "version": "3.9.13"
  }
 },
 "nbformat": 4,
 "nbformat_minor": 5
}
