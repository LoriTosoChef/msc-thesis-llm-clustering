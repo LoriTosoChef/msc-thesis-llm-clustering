{
 "cells": [
  {
   "cell_type": "code",
   "execution_count": 1,
   "id": "779d175f",
   "metadata": {
    "scrolled": false
   },
   "outputs": [
    {
     "name": "stderr",
     "output_type": "stream",
     "text": [
      "2023-03-20 16:10:27,050 - INFO     | config     | Loading environment variables\n",
      "2023-03-20 16:10:27,052 - WARNING  | config     | Directory raw_data already exists\n",
      "2023-03-20 16:10:27,052 - WARNING  | config     | Directory data already exists\n"
     ]
    }
   ],
   "source": [
    "import pandas as pd\n",
    "\n",
    "import tweepy\n",
    "import praw\n",
    "\n",
    "import config\n",
    "\n",
    "from bots.twitter import TwitterBot\n",
    "from bots.reddit import RedditBot\n",
    "\n",
    "from helpers.data_helpers import save_to_parquet, clean_text, clean_tweets_df"
   ]
  },
  {
   "cell_type": "markdown",
   "id": "1bbc5361",
   "metadata": {},
   "source": [
    "## Twitter"
   ]
  },
  {
   "cell_type": "code",
   "execution_count": null,
   "id": "09a9eedb",
   "metadata": {
    "scrolled": true
   },
   "outputs": [],
   "source": [
    "twitter_bot = TwitterBot(bearer=config.TWTR_BEARER_TOKEN,\n",
    "                         api=config.TWTR_API,\n",
    "                         api_secret=config.TWTR_API_SECRET,\n",
    "                         access=config.TWTR_ACCESS_TOKEN,\n",
    "                         access_secret=config.TWTR_ACCESS_TOKEN_SECRET)"
   ]
  },
  {
   "cell_type": "code",
   "execution_count": null,
   "id": "c91ed5cd",
   "metadata": {},
   "outputs": [],
   "source": [
    "#query = 'entity:\"Automotive\" -is:retweet lang:en'\n",
    "#context: brand | entity: products\n",
    "query = 'context:46.783337567798169600 -is:retweet lang:en'"
   ]
  },
  {
   "cell_type": "code",
   "execution_count": null,
   "id": "a729c6d9",
   "metadata": {},
   "outputs": [],
   "source": [
    "tweets = twitter_bot.get_recent_tweets(query=query, limit=5000)"
   ]
  },
  {
   "cell_type": "code",
   "execution_count": null,
   "id": "d70e4e74",
   "metadata": {},
   "outputs": [],
   "source": [
    "tweets_df = pd.DataFrame.from_dict(tweets)\n",
    "tweets_df"
   ]
  },
  {
   "cell_type": "code",
   "execution_count": null,
   "id": "2977af73",
   "metadata": {},
   "outputs": [],
   "source": [
    "save_to_parquet(data_dir=config.RAW_DATA_DIR, df=tweets_df, name='tweets_brand_products')"
   ]
  },
  {
   "cell_type": "markdown",
   "id": "5b943d07",
   "metadata": {},
   "source": [
    "## Data Cleaning"
   ]
  },
  {
   "cell_type": "code",
   "execution_count": 2,
   "id": "1c1af4fd",
   "metadata": {},
   "outputs": [],
   "source": [
    "df = pd.read_parquet(f'{config.RAW_DATA_DIR}/tweets_brand_products_2023_3_20.parquet')\n",
    "df['created_at'] = pd.to_datetime(df['created_at'].dt.strftime('%Y-%m-%d'))"
   ]
  },
  {
   "cell_type": "code",
   "execution_count": 3,
   "id": "88f1d03d",
   "metadata": {},
   "outputs": [
    {
     "name": "stdout",
     "output_type": "stream",
     "text": [
      "<class 'pandas.core.frame.DataFrame'>\n",
      "RangeIndex: 5000 entries, 0 to 4999\n",
      "Data columns (total 4 columns):\n",
      " #   Column      Non-Null Count  Dtype         \n",
      "---  ------      --------------  -----         \n",
      " 0   id          5000 non-null   int64         \n",
      " 1   created_at  5000 non-null   datetime64[ns]\n",
      " 2   text        5000 non-null   object        \n",
      " 3   entities    5000 non-null   object        \n",
      "dtypes: datetime64[ns](1), int64(1), object(2)\n",
      "memory usage: 156.4+ KB\n"
     ]
    }
   ],
   "source": [
    "df.info()"
   ]
  },
  {
   "cell_type": "code",
   "execution_count": 4,
   "id": "144eb8e3",
   "metadata": {},
   "outputs": [
    {
     "data": {
      "text/html": [
       "<div>\n",
       "<style scoped>\n",
       "    .dataframe tbody tr th:only-of-type {\n",
       "        vertical-align: middle;\n",
       "    }\n",
       "\n",
       "    .dataframe tbody tr th {\n",
       "        vertical-align: top;\n",
       "    }\n",
       "\n",
       "    .dataframe thead th {\n",
       "        text-align: right;\n",
       "    }\n",
       "</style>\n",
       "<table border=\"1\" class=\"dataframe\">\n",
       "  <thead>\n",
       "    <tr style=\"text-align: right;\">\n",
       "      <th></th>\n",
       "      <th>id</th>\n",
       "      <th>created_at</th>\n",
       "      <th>text</th>\n",
       "      <th>entities</th>\n",
       "    </tr>\n",
       "  </thead>\n",
       "  <tbody>\n",
       "    <tr>\n",
       "      <th>0</th>\n",
       "      <td>1637818273336270849</td>\n",
       "      <td>2023-03-20</td>\n",
       "      <td>AMD Allegedly Testing Hybrid Processor with Ze...</td>\n",
       "      <td>[AMD, B2B, Products - B2B]</td>\n",
       "    </tr>\n",
       "    <tr>\n",
       "      <th>1</th>\n",
       "      <td>1637818157493809152</td>\n",
       "      <td>2023-03-20</td>\n",
       "      <td>Gold Box Deal of the Day: Up to 50% off Play-D...</td>\n",
       "      <td>[B2B, Hasbro, Products - B2B]</td>\n",
       "    </tr>\n",
       "    <tr>\n",
       "      <th>2</th>\n",
       "      <td>1637818089470394369</td>\n",
       "      <td>2023-03-20</td>\n",
       "      <td>Incredible https://t.co/10PfVocngO</td>\n",
       "      <td>[Apple, Cryptocoins, TV/Movies Related - Enter...</td>\n",
       "    </tr>\n",
       "    <tr>\n",
       "      <th>3</th>\n",
       "      <td>1637818068549226497</td>\n",
       "      <td>2023-03-20</td>\n",
       "      <td>@Ryohei247 I know! My favorite of the Zord Asc...</td>\n",
       "      <td>[B2B, Hasbro, Products - B2B]</td>\n",
       "    </tr>\n",
       "    <tr>\n",
       "      <th>4</th>\n",
       "      <td>1637817990401114113</td>\n",
       "      <td>2023-03-20</td>\n",
       "      <td>We also dropped this on the vlog today #marvel...</td>\n",
       "      <td>[Entertainment franchises, Entertainment, Hasb...</td>\n",
       "    </tr>\n",
       "  </tbody>\n",
       "</table>\n",
       "</div>"
      ],
      "text/plain": [
       "                    id created_at  \\\n",
       "0  1637818273336270849 2023-03-20   \n",
       "1  1637818157493809152 2023-03-20   \n",
       "2  1637818089470394369 2023-03-20   \n",
       "3  1637818068549226497 2023-03-20   \n",
       "4  1637817990401114113 2023-03-20   \n",
       "\n",
       "                                                text  \\\n",
       "0  AMD Allegedly Testing Hybrid Processor with Ze...   \n",
       "1  Gold Box Deal of the Day: Up to 50% off Play-D...   \n",
       "2                 Incredible https://t.co/10PfVocngO   \n",
       "3  @Ryohei247 I know! My favorite of the Zord Asc...   \n",
       "4  We also dropped this on the vlog today #marvel...   \n",
       "\n",
       "                                            entities  \n",
       "0                         [AMD, B2B, Products - B2B]  \n",
       "1                      [B2B, Hasbro, Products - B2B]  \n",
       "2  [Apple, Cryptocoins, TV/Movies Related - Enter...  \n",
       "3                      [B2B, Hasbro, Products - B2B]  \n",
       "4  [Entertainment franchises, Entertainment, Hasb...  "
      ]
     },
     "execution_count": 4,
     "metadata": {},
     "output_type": "execute_result"
    }
   ],
   "source": [
    "df.head()"
   ]
  },
  {
   "cell_type": "code",
   "execution_count": 5,
   "id": "99e73cea",
   "metadata": {},
   "outputs": [],
   "source": [
    "df['text'] = df['text'].map(lambda x: clean_text(x))"
   ]
  },
  {
   "cell_type": "code",
   "execution_count": 6,
   "id": "0adb28d6",
   "metadata": {},
   "outputs": [
    {
     "data": {
      "text/html": [
       "<div>\n",
       "<style scoped>\n",
       "    .dataframe tbody tr th:only-of-type {\n",
       "        vertical-align: middle;\n",
       "    }\n",
       "\n",
       "    .dataframe tbody tr th {\n",
       "        vertical-align: top;\n",
       "    }\n",
       "\n",
       "    .dataframe thead th {\n",
       "        text-align: right;\n",
       "    }\n",
       "</style>\n",
       "<table border=\"1\" class=\"dataframe\">\n",
       "  <thead>\n",
       "    <tr style=\"text-align: right;\">\n",
       "      <th></th>\n",
       "      <th>id</th>\n",
       "      <th>created_at</th>\n",
       "      <th>entities</th>\n",
       "      <th>full_text</th>\n",
       "    </tr>\n",
       "  </thead>\n",
       "  <tbody>\n",
       "    <tr>\n",
       "      <th>0</th>\n",
       "      <td>1637818273336270849</td>\n",
       "      <td>2023-03-20</td>\n",
       "      <td>[AMD, B2B, Products - B2B]</td>\n",
       "      <td>\\nTWEET:\\nAMD Allegedly Testing Hybrid Process...</td>\n",
       "    </tr>\n",
       "    <tr>\n",
       "      <th>1</th>\n",
       "      <td>1637818157493809152</td>\n",
       "      <td>2023-03-20</td>\n",
       "      <td>[B2B, Hasbro, Products - B2B]</td>\n",
       "      <td>\\nTWEET:\\nGold Box Deal of the Day: Up to 50% ...</td>\n",
       "    </tr>\n",
       "    <tr>\n",
       "      <th>3</th>\n",
       "      <td>1637818068549226497</td>\n",
       "      <td>2023-03-20</td>\n",
       "      <td>[B2B, Hasbro, Products - B2B]</td>\n",
       "      <td>\\nTWEET:\\n I know! My favorite of the Zord Asc...</td>\n",
       "    </tr>\n",
       "    <tr>\n",
       "      <th>4</th>\n",
       "      <td>1637817990401114113</td>\n",
       "      <td>2023-03-20</td>\n",
       "      <td>[Entertainment franchises, Entertainment, Hasb...</td>\n",
       "      <td>\\nTWEET:\\nWe also dropped this on the vlog tod...</td>\n",
       "    </tr>\n",
       "    <tr>\n",
       "      <th>5</th>\n",
       "      <td>1637817988828090370</td>\n",
       "      <td>2023-03-20</td>\n",
       "      <td>[Services - B2B, Xerox, Visual arts, B2B, Art,...</td>\n",
       "      <td>\\nTWEET:\\nBarbara T. Smith | Xerox, Coffin, Di...</td>\n",
       "    </tr>\n",
       "    <tr>\n",
       "      <th>...</th>\n",
       "      <td>...</td>\n",
       "      <td>...</td>\n",
       "      <td>...</td>\n",
       "      <td>...</td>\n",
       "    </tr>\n",
       "    <tr>\n",
       "      <th>4995</th>\n",
       "      <td>1636796784566468612</td>\n",
       "      <td>2023-03-17</td>\n",
       "      <td>[AMD, B2B, Products - B2B]</td>\n",
       "      <td>\\nTWEET:\\nMon, Wed, Fri - he's an intel shill....</td>\n",
       "    </tr>\n",
       "    <tr>\n",
       "      <th>4996</th>\n",
       "      <td>1636796545327562756</td>\n",
       "      <td>2023-03-17</td>\n",
       "      <td>[AMD, B2B, Intel, Products - B2B]</td>\n",
       "      <td>\\nTWEET:\\nintel's better memory management is ...</td>\n",
       "    </tr>\n",
       "    <tr>\n",
       "      <th>4997</th>\n",
       "      <td>1636796528411959297</td>\n",
       "      <td>2023-03-17</td>\n",
       "      <td>[AMD, B2B, Intel, Products - B2B]</td>\n",
       "      <td>\\nTWEET:\\nIntel Processor are kings,... AMD ar...</td>\n",
       "    </tr>\n",
       "    <tr>\n",
       "      <th>4998</th>\n",
       "      <td>1636796364163264512</td>\n",
       "      <td>2023-03-17</td>\n",
       "      <td>[B2B, Hasbro, Products - B2B]</td>\n",
       "      <td>\\nTWEET:\\n It’s definitely a stylistic choice ...</td>\n",
       "    </tr>\n",
       "    <tr>\n",
       "      <th>4999</th>\n",
       "      <td>1636796258340700170</td>\n",
       "      <td>2023-03-17</td>\n",
       "      <td>[Acer, B2B, Products - B2B, AMD]</td>\n",
       "      <td>\\nTWEET:\\n*Today’s Best Deal* – Acer Sa220Q 21...</td>\n",
       "    </tr>\n",
       "  </tbody>\n",
       "</table>\n",
       "<p>4979 rows × 4 columns</p>\n",
       "</div>"
      ],
      "text/plain": [
       "                       id created_at  \\\n",
       "0     1637818273336270849 2023-03-20   \n",
       "1     1637818157493809152 2023-03-20   \n",
       "3     1637818068549226497 2023-03-20   \n",
       "4     1637817990401114113 2023-03-20   \n",
       "5     1637817988828090370 2023-03-20   \n",
       "...                   ...        ...   \n",
       "4995  1636796784566468612 2023-03-17   \n",
       "4996  1636796545327562756 2023-03-17   \n",
       "4997  1636796528411959297 2023-03-17   \n",
       "4998  1636796364163264512 2023-03-17   \n",
       "4999  1636796258340700170 2023-03-17   \n",
       "\n",
       "                                               entities  \\\n",
       "0                            [AMD, B2B, Products - B2B]   \n",
       "1                         [B2B, Hasbro, Products - B2B]   \n",
       "3                         [B2B, Hasbro, Products - B2B]   \n",
       "4     [Entertainment franchises, Entertainment, Hasb...   \n",
       "5     [Services - B2B, Xerox, Visual arts, B2B, Art,...   \n",
       "...                                                 ...   \n",
       "4995                         [AMD, B2B, Products - B2B]   \n",
       "4996                  [AMD, B2B, Intel, Products - B2B]   \n",
       "4997                  [AMD, B2B, Intel, Products - B2B]   \n",
       "4998                      [B2B, Hasbro, Products - B2B]   \n",
       "4999                   [Acer, B2B, Products - B2B, AMD]   \n",
       "\n",
       "                                              full_text  \n",
       "0     \\nTWEET:\\nAMD Allegedly Testing Hybrid Process...  \n",
       "1     \\nTWEET:\\nGold Box Deal of the Day: Up to 50% ...  \n",
       "3     \\nTWEET:\\n I know! My favorite of the Zord Asc...  \n",
       "4     \\nTWEET:\\nWe also dropped this on the vlog tod...  \n",
       "5     \\nTWEET:\\nBarbara T. Smith | Xerox, Coffin, Di...  \n",
       "...                                                 ...  \n",
       "4995  \\nTWEET:\\nMon, Wed, Fri - he's an intel shill....  \n",
       "4996  \\nTWEET:\\nintel's better memory management is ...  \n",
       "4997  \\nTWEET:\\nIntel Processor are kings,... AMD ar...  \n",
       "4998  \\nTWEET:\\n It’s definitely a stylistic choice ...  \n",
       "4999  \\nTWEET:\\n*Today’s Best Deal* – Acer Sa220Q 21...  \n",
       "\n",
       "[4979 rows x 4 columns]"
      ]
     },
     "execution_count": 6,
     "metadata": {},
     "output_type": "execute_result"
    }
   ],
   "source": [
    "df_clean = clean_tweets_df(df=df, text_col='text', n=2)\n",
    "df_clean"
   ]
  },
  {
   "cell_type": "code",
   "execution_count": null,
   "id": "d4035cec",
   "metadata": {},
   "outputs": [],
   "source": [
    "ent = df['entities'].to_list()"
   ]
  },
  {
   "cell_type": "code",
   "execution_count": null,
   "id": "fe94bbc5",
   "metadata": {},
   "outputs": [],
   "source": [
    "from itertools import chain"
   ]
  },
  {
   "cell_type": "code",
   "execution_count": null,
   "id": "e5fe0a78",
   "metadata": {},
   "outputs": [],
   "source": [
    "flatten_ent = list(chain.from_iterable(ent))\n",
    "all_ents = list(set(flatten_ent))"
   ]
  },
  {
   "cell_type": "code",
   "execution_count": 7,
   "id": "16b9c679",
   "metadata": {
    "scrolled": true
   },
   "outputs": [],
   "source": [
    "def save_text(df, col, out_dir, name):\n",
    "    all_text = ' '.join(df[col])\n",
    "    \n",
    "    with open(f'{out_dir}/{name}.txt', 'w') as f:\n",
    "        f.write(all_text)\n",
    "    \n",
    "    return"
   ]
  },
  {
   "cell_type": "code",
   "execution_count": 8,
   "id": "c214186e",
   "metadata": {},
   "outputs": [],
   "source": [
    "save_text(df=df_clean, col='full_text', out_dir='raw_data', name='test')"
   ]
  },
  {
   "cell_type": "markdown",
   "id": "b31d51e2",
   "metadata": {},
   "source": [
    "## Reddit"
   ]
  },
  {
   "cell_type": "code",
   "execution_count": null,
   "id": "3e4a8d0f",
   "metadata": {},
   "outputs": [],
   "source": [
    "reddit_bot = RedditBot(client_id=config.REDDIT_APP_ID,\n",
    "                       client_secret=config.REDDIT_SECRET,\n",
    "                       redirect_url=config.REDDIT_REDIRECT_URL,\n",
    "                       user_agent=config.REDDIT_USER_AGENT)"
   ]
  },
  {
   "cell_type": "code",
   "execution_count": null,
   "id": "2e4b56c7",
   "metadata": {
    "scrolled": false
   },
   "outputs": [],
   "source": [
    "d = {}\n",
    "for sub in reddit_bot.client.subreddit('MachineLearning').top(time_filter='all', limit=50):\n",
    "    d['id'] = sub.id\n",
    "    d['']"
   ]
  },
  {
   "cell_type": "code",
   "execution_count": null,
   "id": "a278c825",
   "metadata": {},
   "outputs": [],
   "source": [
    "t = []\n",
    "for post in reddit_bot.client.subreddit('TalesFromTheCustomer').top(time_filter='all', limit=50):\n",
    "    d = {}\n",
    "    d['id'] = post.id\n",
    "    d['text'] = post.title + '\\n' + post.selftext\n",
    "    t.append(d)"
   ]
  },
  {
   "cell_type": "code",
   "execution_count": null,
   "id": "ff95aee5",
   "metadata": {
    "scrolled": false
   },
   "outputs": [],
   "source": [
    "comments = []\n",
    "for post in t:\n",
    "    post_id = post['id']\n",
    "    \n",
    "    submission = reddit_bot.client.submission(post_id)\n",
    "    \n",
    "    submission.comments.replace_more(limit=None)\n",
    "    for comment in submission.comments.list():\n",
    "        comments.append(comment)\n",
    "    break"
   ]
  },
  {
   "cell_type": "code",
   "execution_count": null,
   "id": "59dc7d86",
   "metadata": {},
   "outputs": [],
   "source": [
    "from datetime import datetime"
   ]
  },
  {
   "cell_type": "code",
   "execution_count": null,
   "id": "1ef1442c",
   "metadata": {},
   "outputs": [],
   "source": []
  },
  {
   "cell_type": "code",
   "execution_count": null,
   "id": "3a502c96",
   "metadata": {},
   "outputs": [],
   "source": [
    "str(datetime.now().day)"
   ]
  },
  {
   "cell_type": "code",
   "execution_count": null,
   "id": "bf88d125",
   "metadata": {},
   "outputs": [],
   "source": []
  }
 ],
 "metadata": {
  "kernelspec": {
   "display_name": "Python 3 (ipykernel)",
   "language": "python",
   "name": "python3"
  },
  "language_info": {
   "codemirror_mode": {
    "name": "ipython",
    "version": 3
   },
   "file_extension": ".py",
   "mimetype": "text/x-python",
   "name": "python",
   "nbconvert_exporter": "python",
   "pygments_lexer": "ipython3",
   "version": "3.9.13"
  }
 },
 "nbformat": 4,
 "nbformat_minor": 5
}
