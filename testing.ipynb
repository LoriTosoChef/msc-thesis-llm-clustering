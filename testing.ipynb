{
 "cells": [
  {
   "cell_type": "code",
   "execution_count": 1,
   "id": "779d175f",
   "metadata": {
    "scrolled": false
   },
   "outputs": [
    {
     "name": "stderr",
     "output_type": "stream",
     "text": [
      "2023-03-17 16:36:59,127 - INFO     | config     | Loading environment variables\n",
      "2023-03-17 16:36:59,128 - WARNING  | config     | Directory data already exists\n"
     ]
    }
   ],
   "source": [
    "import pandas as pd\n",
    "\n",
    "import tweepy\n",
    "import praw\n",
    "import config\n",
    "\n",
    "from bots.twitter import TwitterBot"
   ]
  },
  {
   "cell_type": "code",
   "execution_count": 2,
   "id": "09a9eedb",
   "metadata": {
    "scrolled": true
   },
   "outputs": [],
   "source": [
    "twitter_bot = TwitterBot(bearer=config.TWTR_BEARER_TOKEN,\n",
    "                         api=config.TWTR_API,\n",
    "                         api_secret=config.TWTR_API_SECRET,\n",
    "                         access=config.TWTR_ACCESS_TOKEN,\n",
    "                         access_secret=config.TWTR_ACCESS_TOKEN_SECRET)"
   ]
  },
  {
   "cell_type": "code",
   "execution_count": 3,
   "id": "d00a9155",
   "metadata": {},
   "outputs": [],
   "source": [
    "query = 'entity:\"Nike\" -is:retweet lang:en'"
   ]
  },
  {
   "cell_type": "code",
   "execution_count": 4,
   "id": "6d6ea41e",
   "metadata": {},
   "outputs": [],
   "source": [
    "tweets = twitter_bot.get_recent_tweets(query=query, limit=500)"
   ]
  },
  {
   "cell_type": "code",
   "execution_count": 5,
   "id": "82f4e9c1",
   "metadata": {
    "scrolled": false
   },
   "outputs": [],
   "source": [
    "df = pd.DataFrame.from_dict(tweets)"
   ]
  },
  {
   "cell_type": "code",
   "execution_count": 6,
   "id": "ad4352f5",
   "metadata": {},
   "outputs": [
    {
     "data": {
      "text/html": [
       "<div>\n",
       "<style scoped>\n",
       "    .dataframe tbody tr th:only-of-type {\n",
       "        vertical-align: middle;\n",
       "    }\n",
       "\n",
       "    .dataframe tbody tr th {\n",
       "        vertical-align: top;\n",
       "    }\n",
       "\n",
       "    .dataframe thead th {\n",
       "        text-align: right;\n",
       "    }\n",
       "</style>\n",
       "<table border=\"1\" class=\"dataframe\">\n",
       "  <thead>\n",
       "    <tr style=\"text-align: right;\">\n",
       "      <th></th>\n",
       "      <th>id</th>\n",
       "      <th>user</th>\n",
       "      <th>text</th>\n",
       "      <th>created_at</th>\n",
       "      <th>entities</th>\n",
       "    </tr>\n",
       "  </thead>\n",
       "  <tbody>\n",
       "    <tr>\n",
       "      <th>0</th>\n",
       "      <td>1636744910627016704</td>\n",
       "      <td>574186881</td>\n",
       "      <td>AD: Jordan 1 High Golf ‘White/Midnight Navy’ \\...</td>\n",
       "      <td>2023-03-17 15:02:50+00:00</td>\n",
       "      <td>{Sports/Outdoor - Fashion, Golf, Jordan, Texti...</td>\n",
       "    </tr>\n",
       "    <tr>\n",
       "      <th>1</th>\n",
       "      <td>1636744772848349184</td>\n",
       "      <td>1162137647269105667</td>\n",
       "      <td>hmmm. Great question. I'd go Clone-X because t...</td>\n",
       "      <td>2023-03-17 15:02:17+00:00</td>\n",
       "      <td>{Metaverse, Technology, Designer fashion, Spor...</td>\n",
       "    </tr>\n",
       "    <tr>\n",
       "      <th>2</th>\n",
       "      <td>1636744592283320320</td>\n",
       "      <td>3009914161</td>\n",
       "      <td>Air Jordan 1 High Golf “Midnight Navy” restock...</td>\n",
       "      <td>2023-03-17 15:01:34+00:00</td>\n",
       "      <td>{Sports/Outdoor - Fashion, Golf, Jordan, Texti...</td>\n",
       "    </tr>\n",
       "    <tr>\n",
       "      <th>3</th>\n",
       "      <td>1636744521844416512</td>\n",
       "      <td>2698270332</td>\n",
       "      <td>Ad: FULL RESTOCK\\nAir Jordan 1 High Golf ‘Whit...</td>\n",
       "      <td>2023-03-17 15:01:17+00:00</td>\n",
       "      <td>{Golf, Sports/Outdoor - Fashion, Jordan, Texti...</td>\n",
       "    </tr>\n",
       "    <tr>\n",
       "      <th>4</th>\n",
       "      <td>1636743542931615745</td>\n",
       "      <td>574186881</td>\n",
       "      <td>AD: All sizes showing on SNKRS Desktop\\nNike A...</td>\n",
       "      <td>2023-03-17 14:57:24+00:00</td>\n",
       "      <td>{SNKRS, Sports/Outdoor - Fashion, Textile, App...</td>\n",
       "    </tr>\n",
       "    <tr>\n",
       "      <th>...</th>\n",
       "      <td>...</td>\n",
       "      <td>...</td>\n",
       "      <td>...</td>\n",
       "      <td>...</td>\n",
       "      <td>...</td>\n",
       "    </tr>\n",
       "    <tr>\n",
       "      <th>495</th>\n",
       "      <td>1635343729266401300</td>\n",
       "      <td>1703138106</td>\n",
       "      <td>Ad: Is Naruto the best anime? Available via Ni...</td>\n",
       "      <td>2023-03-13 18:15:02+00:00</td>\n",
       "      <td>{Anime, Sports/Outdoor - Fashion, Textile, App...</td>\n",
       "    </tr>\n",
       "    <tr>\n",
       "      <th>496</th>\n",
       "      <td>1635343458188808192</td>\n",
       "      <td>1100102599137734658</td>\n",
       "      <td>Not Viola Davis playing Michael Jordan’s mama ...</td>\n",
       "      <td>2023-03-13 18:13:58+00:00</td>\n",
       "      <td>{Sports/Outdoor - Fashion, Jordan, Textile, Ap...</td>\n",
       "    </tr>\n",
       "    <tr>\n",
       "      <th>497</th>\n",
       "      <td>1635343371840651264</td>\n",
       "      <td>1246593554740281344</td>\n",
       "      <td>@Jordan92338366 They are beautiful, but I don’...</td>\n",
       "      <td>2023-03-13 18:13:37+00:00</td>\n",
       "      <td>{Sports/Outdoor - Fashion, Textile, Apparel &amp; ...</td>\n",
       "    </tr>\n",
       "    <tr>\n",
       "      <th>498</th>\n",
       "      <td>1635343281734451200</td>\n",
       "      <td>1533933517666717699</td>\n",
       "      <td>@JK8Fan @ZMyersOfficial Any company that has p...</td>\n",
       "      <td>2023-03-13 18:13:16+00:00</td>\n",
       "      <td>{Sports/Outdoor - Fashion, Textile, Apparel &amp; ...</td>\n",
       "    </tr>\n",
       "    <tr>\n",
       "      <th>499</th>\n",
       "      <td>1635343046740152320</td>\n",
       "      <td>927865648574881792</td>\n",
       "      <td>He has to work for Nike at this point. https:/...</td>\n",
       "      <td>2023-03-13 18:12:20+00:00</td>\n",
       "      <td>{Sports/Outdoor - Fashion, Textile, Apparel &amp; ...</td>\n",
       "    </tr>\n",
       "  </tbody>\n",
       "</table>\n",
       "<p>500 rows × 5 columns</p>\n",
       "</div>"
      ],
      "text/plain": [
       "                      id                 user  \\\n",
       "0    1636744910627016704            574186881   \n",
       "1    1636744772848349184  1162137647269105667   \n",
       "2    1636744592283320320           3009914161   \n",
       "3    1636744521844416512           2698270332   \n",
       "4    1636743542931615745            574186881   \n",
       "..                   ...                  ...   \n",
       "495  1635343729266401300           1703138106   \n",
       "496  1635343458188808192  1100102599137734658   \n",
       "497  1635343371840651264  1246593554740281344   \n",
       "498  1635343281734451200  1533933517666717699   \n",
       "499  1635343046740152320   927865648574881792   \n",
       "\n",
       "                                                  text  \\\n",
       "0    AD: Jordan 1 High Golf ‘White/Midnight Navy’ \\...   \n",
       "1    hmmm. Great question. I'd go Clone-X because t...   \n",
       "2    Air Jordan 1 High Golf “Midnight Navy” restock...   \n",
       "3    Ad: FULL RESTOCK\\nAir Jordan 1 High Golf ‘Whit...   \n",
       "4    AD: All sizes showing on SNKRS Desktop\\nNike A...   \n",
       "..                                                 ...   \n",
       "495  Ad: Is Naruto the best anime? Available via Ni...   \n",
       "496  Not Viola Davis playing Michael Jordan’s mama ...   \n",
       "497  @Jordan92338366 They are beautiful, but I don’...   \n",
       "498  @JK8Fan @ZMyersOfficial Any company that has p...   \n",
       "499  He has to work for Nike at this point. https:/...   \n",
       "\n",
       "                   created_at  \\\n",
       "0   2023-03-17 15:02:50+00:00   \n",
       "1   2023-03-17 15:02:17+00:00   \n",
       "2   2023-03-17 15:01:34+00:00   \n",
       "3   2023-03-17 15:01:17+00:00   \n",
       "4   2023-03-17 14:57:24+00:00   \n",
       "..                        ...   \n",
       "495 2023-03-13 18:15:02+00:00   \n",
       "496 2023-03-13 18:13:58+00:00   \n",
       "497 2023-03-13 18:13:37+00:00   \n",
       "498 2023-03-13 18:13:16+00:00   \n",
       "499 2023-03-13 18:12:20+00:00   \n",
       "\n",
       "                                              entities  \n",
       "0    {Sports/Outdoor - Fashion, Golf, Jordan, Texti...  \n",
       "1    {Metaverse, Technology, Designer fashion, Spor...  \n",
       "2    {Sports/Outdoor - Fashion, Golf, Jordan, Texti...  \n",
       "3    {Golf, Sports/Outdoor - Fashion, Jordan, Texti...  \n",
       "4    {SNKRS, Sports/Outdoor - Fashion, Textile, App...  \n",
       "..                                                 ...  \n",
       "495  {Anime, Sports/Outdoor - Fashion, Textile, App...  \n",
       "496  {Sports/Outdoor - Fashion, Jordan, Textile, Ap...  \n",
       "497  {Sports/Outdoor - Fashion, Textile, Apparel & ...  \n",
       "498  {Sports/Outdoor - Fashion, Textile, Apparel & ...  \n",
       "499  {Sports/Outdoor - Fashion, Textile, Apparel & ...  \n",
       "\n",
       "[500 rows x 5 columns]"
      ]
     },
     "execution_count": 6,
     "metadata": {},
     "output_type": "execute_result"
    }
   ],
   "source": [
    "df"
   ]
  },
  {
   "cell_type": "code",
   "execution_count": 8,
   "id": "33d9cc06",
   "metadata": {
    "scrolled": false
   },
   "outputs": [],
   "source": [
    "df.to_parquet(f'{config.DATA_DIR}/test.parquet', index=False)"
   ]
  }
 ],
 "metadata": {
  "kernelspec": {
   "display_name": "Python 3 (ipykernel)",
   "language": "python",
   "name": "python3"
  },
  "language_info": {
   "codemirror_mode": {
    "name": "ipython",
    "version": 3
   },
   "file_extension": ".py",
   "mimetype": "text/x-python",
   "name": "python",
   "nbconvert_exporter": "python",
   "pygments_lexer": "ipython3",
   "version": "3.9.13"
  }
 },
 "nbformat": 4,
 "nbformat_minor": 5
}
