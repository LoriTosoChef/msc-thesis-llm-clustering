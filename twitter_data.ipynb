{
 "cells": [
  {
   "cell_type": "code",
   "execution_count": 1,
   "id": "c2c67a66",
   "metadata": {},
   "outputs": [
    {
     "name": "stderr",
     "output_type": "stream",
     "text": [
      "2023-03-27 16:42:54,095 - INFO     | config     | Loading environment variables\n",
      "2023-03-27 16:42:54,096 - INFO     | config     | Directory raw_data already exists\n",
      "2023-03-27 16:42:54,096 - INFO     | config     | Directory data already exists\n"
     ]
    }
   ],
   "source": [
    "import pandas as pd\n",
    "\n",
    "import tweepy\n",
    "\n",
    "import config\n",
    "\n",
    "from bots.twitter import TwitterBot\n",
    "from helpers.data_helpers import save_to_parquet, clean_text, clean_tweets_df, save_to_text"
   ]
  },
  {
   "cell_type": "markdown",
   "id": "79b40dc7",
   "metadata": {},
   "source": [
    "# Extracting Tweets"
   ]
  },
  {
   "cell_type": "code",
   "execution_count": 2,
   "id": "aec722e9",
   "metadata": {},
   "outputs": [],
   "source": [
    "# initialize twitter bot\n",
    "twitter_bot = TwitterBot(bearer=config.TWTR_BEARER_TOKEN,\n",
    "                         api=config.TWTR_API,\n",
    "                         api_secret=config.TWTR_API_SECRET,\n",
    "                         access=config.TWTR_ACCESS_TOKEN,\n",
    "                         access_secret=config.TWTR_ACCESS_TOKEN_SECRET)"
   ]
  },
  {
   "cell_type": "code",
   "execution_count": 3,
   "id": "a300e003",
   "metadata": {},
   "outputs": [],
   "source": [
    "apparel = [\n",
    "    'context:46.783337567798169600 -is:retweet lang:en',    # context: products\n",
    "    'context:67.839543390668673024 -is:retweet lang:en',    # context: apparel\n",
    "    'context:131.1248316002317643776 -is:retweet lang:en',  # context: athletic apparel\n",
    "    'context:65.1256236649253449729 -is:retweet lang:en',   # context: fashion and beauty\n",
    "    'context:131.1095391406816784384 -is:retweet lang:en',  # context: shopping\n",
    "    'context:67.1486758812849635329 -is:retweet lang:en',   # context: retail sales\n",
    "    'context:131.1407812892909473795 -is:retweet lang:en',  # context: ecommerce\n",
    "    'context:165.1407812892909473795 -is:retweet lang:en',  # context: ecommerce\n",
    "]"
   ]
  },
  {
   "cell_type": "code",
   "execution_count": 43,
   "id": "99e9eadb",
   "metadata": {},
   "outputs": [],
   "source": [
    "cars = [\n",
    "    #'context:46.781974597251964928 -is:retweet lang:en',    # context: car rental/sharing\n",
    "    #'context:45.781972125171060736 -is:retweet lang:en',     # context: auto\n",
    "    'context:46.781972125179518977 -is:retweet lang:en',     # context: auto manufacturer\n",
    "    #'context:45.1196845866138533888 -is:retweet lang:en',     # context: automobile brands\n",
    "    #'context:131.1196845866138533888 -is:retweet lang:en',     # context: automobile brands\n",
    "]"
   ]
  },
  {
   "cell_type": "code",
   "execution_count": 44,
   "id": "1a4505b0",
   "metadata": {},
   "outputs": [
    {
     "ename": "TooManyRequests",
     "evalue": "429 Too Many Requests\nToo Many Requests",
     "output_type": "error",
     "traceback": [
      "\u001b[0;31m---------------------------------------------------------------------------\u001b[0m",
      "\u001b[0;31mTooManyRequests\u001b[0m                           Traceback (most recent call last)",
      "Cell \u001b[0;32mIn[44], line 3\u001b[0m\n\u001b[1;32m      1\u001b[0m dfs \u001b[38;5;241m=\u001b[39m []\n\u001b[1;32m      2\u001b[0m \u001b[38;5;28;01mfor\u001b[39;00m query \u001b[38;5;129;01min\u001b[39;00m cars:\n\u001b[0;32m----> 3\u001b[0m     tweets \u001b[38;5;241m=\u001b[39m \u001b[43mtwitter_bot\u001b[49m\u001b[38;5;241;43m.\u001b[39;49m\u001b[43mget_recent_tweets\u001b[49m\u001b[43m(\u001b[49m\u001b[43mquery\u001b[49m\u001b[38;5;241;43m=\u001b[39;49m\u001b[43mquery\u001b[49m\u001b[43m,\u001b[49m\u001b[43m \u001b[49m\u001b[43mlimit\u001b[49m\u001b[38;5;241;43m=\u001b[39;49m\u001b[38;5;241;43m5000\u001b[39;49m\u001b[43m)\u001b[49m\n\u001b[1;32m      4\u001b[0m     df \u001b[38;5;241m=\u001b[39m pd\u001b[38;5;241m.\u001b[39mDataFrame\u001b[38;5;241m.\u001b[39mfrom_dict(tweets)\n\u001b[1;32m      5\u001b[0m     \u001b[38;5;28mprint\u001b[39m(\u001b[38;5;28mlen\u001b[39m(df))\n",
      "File \u001b[0;32m~/Documents/repos/msc-thesis-llm-clustering/bots/twitter.py:61\u001b[0m, in \u001b[0;36mTwitterBot.get_recent_tweets\u001b[0;34m(self, query, tweet_fields, limit)\u001b[0m\n\u001b[1;32m     58\u001b[0m         \u001b[38;5;28;01mreturn\u001b[39;00m [{}]\n\u001b[1;32m     60\u001b[0m tweet_list \u001b[38;5;241m=\u001b[39m []\n\u001b[0;32m---> 61\u001b[0m \u001b[38;5;28;01mfor\u001b[39;00m tweet \u001b[38;5;129;01min\u001b[39;00m tweets:\n\u001b[1;32m     62\u001b[0m     d \u001b[38;5;241m=\u001b[39m {}\n\u001b[1;32m     63\u001b[0m     d[\u001b[38;5;124m'\u001b[39m\u001b[38;5;124mid\u001b[39m\u001b[38;5;124m'\u001b[39m] \u001b[38;5;241m=\u001b[39m tweet\u001b[38;5;241m.\u001b[39mid\n",
      "File \u001b[0;32m~/.pyenv/versions/3.9.13/envs/thesis/lib/python3.9/site-packages/tweepy/pagination.py:67\u001b[0m, in \u001b[0;36mPaginator.flatten\u001b[0;34m(self, limit)\u001b[0m\n\u001b[1;32m     64\u001b[0m     \u001b[38;5;28;01mreturn\u001b[39;00m\n\u001b[1;32m     66\u001b[0m count \u001b[38;5;241m=\u001b[39m \u001b[38;5;241m0\u001b[39m\n\u001b[0;32m---> 67\u001b[0m \u001b[38;5;28;01mfor\u001b[39;00m response \u001b[38;5;129;01min\u001b[39;00m PaginationIterator(\n\u001b[1;32m     68\u001b[0m     \u001b[38;5;28mself\u001b[39m\u001b[38;5;241m.\u001b[39mmethod, \u001b[38;5;241m*\u001b[39m\u001b[38;5;28mself\u001b[39m\u001b[38;5;241m.\u001b[39margs, \u001b[38;5;241m*\u001b[39m\u001b[38;5;241m*\u001b[39m\u001b[38;5;28mself\u001b[39m\u001b[38;5;241m.\u001b[39mkwargs\n\u001b[1;32m     69\u001b[0m ):\n\u001b[1;32m     70\u001b[0m     \u001b[38;5;28;01mif\u001b[39;00m \u001b[38;5;28misinstance\u001b[39m(response, Response):\n\u001b[1;32m     71\u001b[0m         response_data \u001b[38;5;241m=\u001b[39m response\u001b[38;5;241m.\u001b[39mdata \u001b[38;5;129;01mor\u001b[39;00m []\n",
      "File \u001b[0;32m~/.pyenv/versions/3.9.13/envs/thesis/lib/python3.9/site-packages/tweepy/pagination.py:126\u001b[0m, in \u001b[0;36mPaginationIterator.__next__\u001b[0;34m(self)\u001b[0m\n\u001b[1;32m    123\u001b[0m \u001b[38;5;28;01melse\u001b[39;00m:\n\u001b[1;32m    124\u001b[0m     \u001b[38;5;28mself\u001b[39m\u001b[38;5;241m.\u001b[39mkwargs[\u001b[38;5;124m\"\u001b[39m\u001b[38;5;124mpagination_token\u001b[39m\u001b[38;5;124m\"\u001b[39m] \u001b[38;5;241m=\u001b[39m pagination_token\n\u001b[0;32m--> 126\u001b[0m response \u001b[38;5;241m=\u001b[39m \u001b[38;5;28;43mself\u001b[39;49m\u001b[38;5;241;43m.\u001b[39;49m\u001b[43mmethod\u001b[49m\u001b[43m(\u001b[49m\u001b[38;5;241;43m*\u001b[39;49m\u001b[38;5;28;43mself\u001b[39;49m\u001b[38;5;241;43m.\u001b[39;49m\u001b[43margs\u001b[49m\u001b[43m,\u001b[49m\u001b[43m \u001b[49m\u001b[38;5;241;43m*\u001b[39;49m\u001b[38;5;241;43m*\u001b[39;49m\u001b[38;5;28;43mself\u001b[39;49m\u001b[38;5;241;43m.\u001b[39;49m\u001b[43mkwargs\u001b[49m\u001b[43m)\u001b[49m\n\u001b[1;32m    128\u001b[0m \u001b[38;5;28;01mif\u001b[39;00m \u001b[38;5;28misinstance\u001b[39m(response, Response):\n\u001b[1;32m    129\u001b[0m     meta \u001b[38;5;241m=\u001b[39m response\u001b[38;5;241m.\u001b[39mmeta\n",
      "File \u001b[0;32m~/.pyenv/versions/3.9.13/envs/thesis/lib/python3.9/site-packages/tweepy/client.py:1266\u001b[0m, in \u001b[0;36mClient.search_recent_tweets\u001b[0;34m(self, query, user_auth, **params)\u001b[0m\n\u001b[1;32m   1174\u001b[0m \u001b[38;5;250m\u001b[39m\u001b[38;5;124;03m\"\"\"search_recent_tweets( \\\u001b[39;00m\n\u001b[1;32m   1175\u001b[0m \u001b[38;5;124;03m    query, *, end_time=None, expansions=None, max_results=None, \\\u001b[39;00m\n\u001b[1;32m   1176\u001b[0m \u001b[38;5;124;03m    media_fields=None, next_token=None, place_fields=None, \\\u001b[39;00m\n\u001b[0;32m   (...)\u001b[0m\n\u001b[1;32m   1263\u001b[0m \u001b[38;5;124;03m.. _Academic Research Project: https://developer.twitter.com/en/docs/projects\u001b[39;00m\n\u001b[1;32m   1264\u001b[0m \u001b[38;5;124;03m\"\"\"\u001b[39;00m\n\u001b[1;32m   1265\u001b[0m params[\u001b[38;5;124m\"\u001b[39m\u001b[38;5;124mquery\u001b[39m\u001b[38;5;124m\"\u001b[39m] \u001b[38;5;241m=\u001b[39m query\n\u001b[0;32m-> 1266\u001b[0m \u001b[38;5;28;01mreturn\u001b[39;00m \u001b[38;5;28;43mself\u001b[39;49m\u001b[38;5;241;43m.\u001b[39;49m\u001b[43m_make_request\u001b[49m\u001b[43m(\u001b[49m\n\u001b[1;32m   1267\u001b[0m \u001b[43m    \u001b[49m\u001b[38;5;124;43m\"\u001b[39;49m\u001b[38;5;124;43mGET\u001b[39;49m\u001b[38;5;124;43m\"\u001b[39;49m\u001b[43m,\u001b[49m\u001b[43m \u001b[49m\u001b[38;5;124;43m\"\u001b[39;49m\u001b[38;5;124;43m/2/tweets/search/recent\u001b[39;49m\u001b[38;5;124;43m\"\u001b[39;49m\u001b[43m,\u001b[49m\u001b[43m \u001b[49m\u001b[43mparams\u001b[49m\u001b[38;5;241;43m=\u001b[39;49m\u001b[43mparams\u001b[49m\u001b[43m,\u001b[49m\n\u001b[1;32m   1268\u001b[0m \u001b[43m    \u001b[49m\u001b[43mendpoint_parameters\u001b[49m\u001b[38;5;241;43m=\u001b[39;49m\u001b[43m(\u001b[49m\n\u001b[1;32m   1269\u001b[0m \u001b[43m        \u001b[49m\u001b[38;5;124;43m\"\u001b[39;49m\u001b[38;5;124;43mend_time\u001b[39;49m\u001b[38;5;124;43m\"\u001b[39;49m\u001b[43m,\u001b[49m\u001b[43m \u001b[49m\u001b[38;5;124;43m\"\u001b[39;49m\u001b[38;5;124;43mexpansions\u001b[39;49m\u001b[38;5;124;43m\"\u001b[39;49m\u001b[43m,\u001b[49m\u001b[43m \u001b[49m\u001b[38;5;124;43m\"\u001b[39;49m\u001b[38;5;124;43mmax_results\u001b[39;49m\u001b[38;5;124;43m\"\u001b[39;49m\u001b[43m,\u001b[49m\u001b[43m \u001b[49m\u001b[38;5;124;43m\"\u001b[39;49m\u001b[38;5;124;43mmedia.fields\u001b[39;49m\u001b[38;5;124;43m\"\u001b[39;49m\u001b[43m,\u001b[49m\n\u001b[1;32m   1270\u001b[0m \u001b[43m        \u001b[49m\u001b[38;5;124;43m\"\u001b[39;49m\u001b[38;5;124;43mnext_token\u001b[39;49m\u001b[38;5;124;43m\"\u001b[39;49m\u001b[43m,\u001b[49m\u001b[43m \u001b[49m\u001b[38;5;124;43m\"\u001b[39;49m\u001b[38;5;124;43mplace.fields\u001b[39;49m\u001b[38;5;124;43m\"\u001b[39;49m\u001b[43m,\u001b[49m\u001b[43m \u001b[49m\u001b[38;5;124;43m\"\u001b[39;49m\u001b[38;5;124;43mpoll.fields\u001b[39;49m\u001b[38;5;124;43m\"\u001b[39;49m\u001b[43m,\u001b[49m\u001b[43m \u001b[49m\u001b[38;5;124;43m\"\u001b[39;49m\u001b[38;5;124;43mquery\u001b[39;49m\u001b[38;5;124;43m\"\u001b[39;49m\u001b[43m,\u001b[49m\n\u001b[1;32m   1271\u001b[0m \u001b[43m        \u001b[49m\u001b[38;5;124;43m\"\u001b[39;49m\u001b[38;5;124;43msince_id\u001b[39;49m\u001b[38;5;124;43m\"\u001b[39;49m\u001b[43m,\u001b[49m\u001b[43m \u001b[49m\u001b[38;5;124;43m\"\u001b[39;49m\u001b[38;5;124;43msort_order\u001b[39;49m\u001b[38;5;124;43m\"\u001b[39;49m\u001b[43m,\u001b[49m\u001b[43m \u001b[49m\u001b[38;5;124;43m\"\u001b[39;49m\u001b[38;5;124;43mstart_time\u001b[39;49m\u001b[38;5;124;43m\"\u001b[39;49m\u001b[43m,\u001b[49m\u001b[43m \u001b[49m\u001b[38;5;124;43m\"\u001b[39;49m\u001b[38;5;124;43mtweet.fields\u001b[39;49m\u001b[38;5;124;43m\"\u001b[39;49m\u001b[43m,\u001b[49m\n\u001b[1;32m   1272\u001b[0m \u001b[43m        \u001b[49m\u001b[38;5;124;43m\"\u001b[39;49m\u001b[38;5;124;43muntil_id\u001b[39;49m\u001b[38;5;124;43m\"\u001b[39;49m\u001b[43m,\u001b[49m\u001b[43m \u001b[49m\u001b[38;5;124;43m\"\u001b[39;49m\u001b[38;5;124;43muser.fields\u001b[39;49m\u001b[38;5;124;43m\"\u001b[39;49m\n\u001b[1;32m   1273\u001b[0m \u001b[43m    \u001b[49m\u001b[43m)\u001b[49m\u001b[43m,\u001b[49m\u001b[43m \u001b[49m\u001b[43mdata_type\u001b[49m\u001b[38;5;241;43m=\u001b[39;49m\u001b[43mTweet\u001b[49m\u001b[43m,\u001b[49m\u001b[43m \u001b[49m\u001b[43muser_auth\u001b[49m\u001b[38;5;241;43m=\u001b[39;49m\u001b[43muser_auth\u001b[49m\n\u001b[1;32m   1274\u001b[0m \u001b[43m\u001b[49m\u001b[43m)\u001b[49m\n",
      "File \u001b[0;32m~/.pyenv/versions/3.9.13/envs/thesis/lib/python3.9/site-packages/tweepy/client.py:129\u001b[0m, in \u001b[0;36mBaseClient._make_request\u001b[0;34m(self, method, route, params, endpoint_parameters, json, data_type, user_auth)\u001b[0m\n\u001b[1;32m    123\u001b[0m \u001b[38;5;28;01mdef\u001b[39;00m \u001b[38;5;21m_make_request\u001b[39m(\n\u001b[1;32m    124\u001b[0m     \u001b[38;5;28mself\u001b[39m, method, route, params\u001b[38;5;241m=\u001b[39m{}, endpoint_parameters\u001b[38;5;241m=\u001b[39m(), json\u001b[38;5;241m=\u001b[39m\u001b[38;5;28;01mNone\u001b[39;00m,\n\u001b[1;32m    125\u001b[0m     data_type\u001b[38;5;241m=\u001b[39m\u001b[38;5;28;01mNone\u001b[39;00m, user_auth\u001b[38;5;241m=\u001b[39m\u001b[38;5;28;01mFalse\u001b[39;00m\n\u001b[1;32m    126\u001b[0m ):\n\u001b[1;32m    127\u001b[0m     request_params \u001b[38;5;241m=\u001b[39m \u001b[38;5;28mself\u001b[39m\u001b[38;5;241m.\u001b[39m_process_params(params, endpoint_parameters)\n\u001b[0;32m--> 129\u001b[0m     response \u001b[38;5;241m=\u001b[39m \u001b[38;5;28;43mself\u001b[39;49m\u001b[38;5;241;43m.\u001b[39;49m\u001b[43mrequest\u001b[49m\u001b[43m(\u001b[49m\u001b[43mmethod\u001b[49m\u001b[43m,\u001b[49m\u001b[43m \u001b[49m\u001b[43mroute\u001b[49m\u001b[43m,\u001b[49m\u001b[43m \u001b[49m\u001b[43mparams\u001b[49m\u001b[38;5;241;43m=\u001b[39;49m\u001b[43mrequest_params\u001b[49m\u001b[43m,\u001b[49m\n\u001b[1;32m    130\u001b[0m \u001b[43m                            \u001b[49m\u001b[43mjson\u001b[49m\u001b[38;5;241;43m=\u001b[39;49m\u001b[43mjson\u001b[49m\u001b[43m,\u001b[49m\u001b[43m \u001b[49m\u001b[43muser_auth\u001b[49m\u001b[38;5;241;43m=\u001b[39;49m\u001b[43muser_auth\u001b[49m\u001b[43m)\u001b[49m\n\u001b[1;32m    132\u001b[0m     \u001b[38;5;28;01mif\u001b[39;00m \u001b[38;5;28mself\u001b[39m\u001b[38;5;241m.\u001b[39mreturn_type \u001b[38;5;129;01mis\u001b[39;00m requests\u001b[38;5;241m.\u001b[39mResponse:\n\u001b[1;32m    133\u001b[0m         \u001b[38;5;28;01mreturn\u001b[39;00m response\n",
      "File \u001b[0;32m~/.pyenv/versions/3.9.13/envs/thesis/lib/python3.9/site-packages/tweepy/client.py:115\u001b[0m, in \u001b[0;36mBaseClient.request\u001b[0;34m(self, method, route, params, json, user_auth)\u001b[0m\n\u001b[1;32m    113\u001b[0m         \u001b[38;5;28;01mreturn\u001b[39;00m \u001b[38;5;28mself\u001b[39m\u001b[38;5;241m.\u001b[39mrequest(method, route, params, json, user_auth)\n\u001b[1;32m    114\u001b[0m     \u001b[38;5;28;01melse\u001b[39;00m:\n\u001b[0;32m--> 115\u001b[0m         \u001b[38;5;28;01mraise\u001b[39;00m TooManyRequests(response)\n\u001b[1;32m    116\u001b[0m \u001b[38;5;28;01mif\u001b[39;00m response\u001b[38;5;241m.\u001b[39mstatus_code \u001b[38;5;241m>\u001b[39m\u001b[38;5;241m=\u001b[39m \u001b[38;5;241m500\u001b[39m:\n\u001b[1;32m    117\u001b[0m     \u001b[38;5;28;01mraise\u001b[39;00m TwitterServerError(response)\n",
      "\u001b[0;31mTooManyRequests\u001b[0m: 429 Too Many Requests\nToo Many Requests"
     ]
    }
   ],
   "source": [
    "dfs = []\n",
    "for query in cars:\n",
    "    tweets = twitter_bot.get_recent_tweets(query=query, limit=5000)\n",
    "    df = pd.DataFrame.from_dict(tweets)\n",
    "    print(len(df))\n",
    "    dfs.append(df)"
   ]
  },
  {
   "cell_type": "code",
   "execution_count": 35,
   "id": "a6c0b87a",
   "metadata": {},
   "outputs": [],
   "source": [
    "tweets = pd.concat(dfs, ignore_index=True)\n",
    "tweets = tweets.loc[~tweets['id'].duplicated()].copy()"
   ]
  },
  {
   "cell_type": "code",
   "execution_count": 36,
   "id": "8945d6a3",
   "metadata": {},
   "outputs": [
    {
     "data": {
      "text/html": [
       "<div>\n",
       "<style scoped>\n",
       "    .dataframe tbody tr th:only-of-type {\n",
       "        vertical-align: middle;\n",
       "    }\n",
       "\n",
       "    .dataframe tbody tr th {\n",
       "        vertical-align: top;\n",
       "    }\n",
       "\n",
       "    .dataframe thead th {\n",
       "        text-align: right;\n",
       "    }\n",
       "</style>\n",
       "<table border=\"1\" class=\"dataframe\">\n",
       "  <thead>\n",
       "    <tr style=\"text-align: right;\">\n",
       "      <th></th>\n",
       "      <th>id</th>\n",
       "      <th>created_at</th>\n",
       "      <th>text</th>\n",
       "      <th>entities</th>\n",
       "    </tr>\n",
       "  </thead>\n",
       "  <tbody>\n",
       "    <tr>\n",
       "      <th>0</th>\n",
       "      <td>1640369503325540358</td>\n",
       "      <td>2023-03-27 15:05:40+00:00</td>\n",
       "      <td>Also, @DoorDash  and @UberEats  Explain the fu...</td>\n",
       "      <td>{Uber - Super Bowl, Food &amp; Beverage Business, ...</td>\n",
       "    </tr>\n",
       "    <tr>\n",
       "      <th>1</th>\n",
       "      <td>1640369500699885574</td>\n",
       "      <td>2023-03-27 15:05:40+00:00</td>\n",
       "      <td>Not cool @Uber , waiting until 15 min prior to...</td>\n",
       "      <td>{Transportation, Uber, Travel &amp; Transportation...</td>\n",
       "    </tr>\n",
       "    <tr>\n",
       "      <th>2</th>\n",
       "      <td>1640369492365660164</td>\n",
       "      <td>2023-03-27 15:05:38+00:00</td>\n",
       "      <td>@AbjaFCB Stfu you so dumb... Ronaldo gets hat-...</td>\n",
       "      <td>{Soccer, Food &amp; Beverage Business, Travel &amp; Tr...</td>\n",
       "    </tr>\n",
       "    <tr>\n",
       "      <th>3</th>\n",
       "      <td>1640369461566873603</td>\n",
       "      <td>2023-03-27 15:05:30+00:00</td>\n",
       "      <td>@Uber_Support 08129270858\\nalohanprecious11@gm...</td>\n",
       "      <td>{Transportation, Uber, Travel &amp; Transportation...</td>\n",
       "    </tr>\n",
       "    <tr>\n",
       "      <th>4</th>\n",
       "      <td>1640369453476073473</td>\n",
       "      <td>2023-03-27 15:05:28+00:00</td>\n",
       "      <td>Shoutout to uber drivers that dont make conver...</td>\n",
       "      <td>{Transportation, Uber, Travel &amp; Transportation...</td>\n",
       "    </tr>\n",
       "    <tr>\n",
       "      <th>...</th>\n",
       "      <td>...</td>\n",
       "      <td>...</td>\n",
       "      <td>...</td>\n",
       "      <td>...</td>\n",
       "    </tr>\n",
       "    <tr>\n",
       "      <th>4995</th>\n",
       "      <td>1640109319810105345</td>\n",
       "      <td>2023-03-26 21:51:48+00:00</td>\n",
       "      <td>@RegalSmiles We understand that driver was rud...</td>\n",
       "      <td>{Transportation, Uber, Travel &amp; Transportation...</td>\n",
       "    </tr>\n",
       "    <tr>\n",
       "      <th>4996</th>\n",
       "      <td>1640109319495512065</td>\n",
       "      <td>2023-03-26 21:51:48+00:00</td>\n",
       "      <td>Accidentally got my Uber eats order for free. ...</td>\n",
       "      <td>{Uber - Super Bowl, Food &amp; Beverage Business, ...</td>\n",
       "    </tr>\n",
       "    <tr>\n",
       "      <th>4997</th>\n",
       "      <td>1640109301019684866</td>\n",
       "      <td>2023-03-26 21:51:43+00:00</td>\n",
       "      <td>On that note everyone please read this article...</td>\n",
       "      <td>{Travel &amp; Transportation Business, Airbnb, Ube...</td>\n",
       "    </tr>\n",
       "    <tr>\n",
       "      <th>4998</th>\n",
       "      <td>1640109279431606272</td>\n",
       "      <td>2023-03-26 21:51:38+00:00</td>\n",
       "      <td>@Uber Perhaps you can virtue signal after you ...</td>\n",
       "      <td>{Transportation, Uber, Travel &amp; Transportation...</td>\n",
       "    </tr>\n",
       "    <tr>\n",
       "      <th>4999</th>\n",
       "      <td>1640109235655835648</td>\n",
       "      <td>2023-03-26 21:51:28+00:00</td>\n",
       "      <td>@FightHaven @torstenkunert68 another one @Uber...</td>\n",
       "      <td>{Transportation, Uber, Travel &amp; Transportation...</td>\n",
       "    </tr>\n",
       "  </tbody>\n",
       "</table>\n",
       "<p>5000 rows × 4 columns</p>\n",
       "</div>"
      ],
      "text/plain": [
       "                       id                created_at  \\\n",
       "0     1640369503325540358 2023-03-27 15:05:40+00:00   \n",
       "1     1640369500699885574 2023-03-27 15:05:40+00:00   \n",
       "2     1640369492365660164 2023-03-27 15:05:38+00:00   \n",
       "3     1640369461566873603 2023-03-27 15:05:30+00:00   \n",
       "4     1640369453476073473 2023-03-27 15:05:28+00:00   \n",
       "...                   ...                       ...   \n",
       "4995  1640109319810105345 2023-03-26 21:51:48+00:00   \n",
       "4996  1640109319495512065 2023-03-26 21:51:48+00:00   \n",
       "4997  1640109301019684866 2023-03-26 21:51:43+00:00   \n",
       "4998  1640109279431606272 2023-03-26 21:51:38+00:00   \n",
       "4999  1640109235655835648 2023-03-26 21:51:28+00:00   \n",
       "\n",
       "                                                   text  \\\n",
       "0     Also, @DoorDash  and @UberEats  Explain the fu...   \n",
       "1     Not cool @Uber , waiting until 15 min prior to...   \n",
       "2     @AbjaFCB Stfu you so dumb... Ronaldo gets hat-...   \n",
       "3     @Uber_Support 08129270858\\nalohanprecious11@gm...   \n",
       "4     Shoutout to uber drivers that dont make conver...   \n",
       "...                                                 ...   \n",
       "4995  @RegalSmiles We understand that driver was rud...   \n",
       "4996  Accidentally got my Uber eats order for free. ...   \n",
       "4997  On that note everyone please read this article...   \n",
       "4998  @Uber Perhaps you can virtue signal after you ...   \n",
       "4999  @FightHaven @torstenkunert68 another one @Uber...   \n",
       "\n",
       "                                               entities  \n",
       "0     {Uber - Super Bowl, Food & Beverage Business, ...  \n",
       "1     {Transportation, Uber, Travel & Transportation...  \n",
       "2     {Soccer, Food & Beverage Business, Travel & Tr...  \n",
       "3     {Transportation, Uber, Travel & Transportation...  \n",
       "4     {Transportation, Uber, Travel & Transportation...  \n",
       "...                                                 ...  \n",
       "4995  {Transportation, Uber, Travel & Transportation...  \n",
       "4996  {Uber - Super Bowl, Food & Beverage Business, ...  \n",
       "4997  {Travel & Transportation Business, Airbnb, Ube...  \n",
       "4998  {Transportation, Uber, Travel & Transportation...  \n",
       "4999  {Transportation, Uber, Travel & Transportation...  \n",
       "\n",
       "[5000 rows x 4 columns]"
      ]
     },
     "execution_count": 36,
     "metadata": {},
     "output_type": "execute_result"
    }
   ],
   "source": [
    "tweets"
   ]
  },
  {
   "cell_type": "code",
   "execution_count": 19,
   "id": "b72d58c9",
   "metadata": {},
   "outputs": [],
   "source": [
    "save_to_parquet(data_dir=config.RAW_DATA_DIR, df=tweets, name='tweets_apparel_32k')"
   ]
  },
  {
   "cell_type": "markdown",
   "id": "7bb5d34e",
   "metadata": {},
   "source": [
    "# Cleaning Tweets"
   ]
  },
  {
   "cell_type": "code",
   "execution_count": 20,
   "id": "12761af0",
   "metadata": {},
   "outputs": [],
   "source": [
    "tweets_df = pd.read_parquet(f'{config.RAW_DATA_DIR}/tweets_apparel_32k_2023327.parquet')"
   ]
  },
  {
   "cell_type": "code",
   "execution_count": 21,
   "id": "88894726",
   "metadata": {},
   "outputs": [],
   "source": [
    "tweets_df['created_at'] = pd.to_datetime(tweets_df['created_at'].dt.strftime('%Y-%m-%d'))"
   ]
  },
  {
   "cell_type": "code",
   "execution_count": 22,
   "id": "556532a9",
   "metadata": {},
   "outputs": [
    {
     "name": "stdout",
     "output_type": "stream",
     "text": [
      "<class 'pandas.core.frame.DataFrame'>\n",
      "RangeIndex: 32398 entries, 0 to 32397\n",
      "Data columns (total 4 columns):\n",
      " #   Column      Non-Null Count  Dtype         \n",
      "---  ------      --------------  -----         \n",
      " 0   id          32398 non-null  int64         \n",
      " 1   created_at  32398 non-null  datetime64[ns]\n",
      " 2   text        32398 non-null  object        \n",
      " 3   entities    32398 non-null  object        \n",
      "dtypes: datetime64[ns](1), int64(1), object(2)\n",
      "memory usage: 1012.6+ KB\n"
     ]
    }
   ],
   "source": [
    "tweets_df.info()"
   ]
  },
  {
   "cell_type": "code",
   "execution_count": 23,
   "id": "55e37703",
   "metadata": {},
   "outputs": [],
   "source": [
    "tweets_df['text'] = tweets_df['text'].map(lambda x: clean_text(x))"
   ]
  },
  {
   "cell_type": "code",
   "execution_count": 24,
   "id": "c5b1006b",
   "metadata": {},
   "outputs": [],
   "source": [
    "df_clean = clean_tweets_df(df=tweets_df, text_col='text', n=2)"
   ]
  },
  {
   "cell_type": "code",
   "execution_count": 25,
   "id": "7fdb43eb",
   "metadata": {},
   "outputs": [
    {
     "data": {
      "text/html": [
       "<div>\n",
       "<style scoped>\n",
       "    .dataframe tbody tr th:only-of-type {\n",
       "        vertical-align: middle;\n",
       "    }\n",
       "\n",
       "    .dataframe tbody tr th {\n",
       "        vertical-align: top;\n",
       "    }\n",
       "\n",
       "    .dataframe thead th {\n",
       "        text-align: right;\n",
       "    }\n",
       "</style>\n",
       "<table border=\"1\" class=\"dataframe\">\n",
       "  <thead>\n",
       "    <tr style=\"text-align: right;\">\n",
       "      <th></th>\n",
       "      <th>id</th>\n",
       "      <th>created_at</th>\n",
       "      <th>entities</th>\n",
       "      <th>full_text</th>\n",
       "    </tr>\n",
       "  </thead>\n",
       "  <tbody>\n",
       "    <tr>\n",
       "      <th>0</th>\n",
       "      <td>1640367128854564864</td>\n",
       "      <td>2023-03-27</td>\n",
       "      <td>[Entertainment &amp; Leisure Business, B2B, Baseba...</td>\n",
       "      <td>\\nTWEET: hahdhdh thats why he is practicing i ...</td>\n",
       "    </tr>\n",
       "    <tr>\n",
       "      <th>1</th>\n",
       "      <td>1640367079076376579</td>\n",
       "      <td>2023-03-27</td>\n",
       "      <td>[B2B, Services - B2B, Technology Business, Pro...</td>\n",
       "      <td>\\nTWEET: That's right - We're using #AI to hel...</td>\n",
       "    </tr>\n",
       "    <tr>\n",
       "      <th>2</th>\n",
       "      <td>1640366751463374853</td>\n",
       "      <td>2023-03-27</td>\n",
       "      <td>[Hasbro, Products - B2B, B2B]</td>\n",
       "      <td>\\nTWEET: Indy Goes trick or treating as Two Fa...</td>\n",
       "    </tr>\n",
       "    <tr>\n",
       "      <th>3</th>\n",
       "      <td>1640366569673850881</td>\n",
       "      <td>2023-03-27</td>\n",
       "      <td>[B2B, Services - B2B, Technology Business, Dat...</td>\n",
       "      <td>\\nTWEET: Forget the DIY headaches when you cho...</td>\n",
       "    </tr>\n",
       "    <tr>\n",
       "      <th>4</th>\n",
       "      <td>1640366205818003462</td>\n",
       "      <td>2023-03-27</td>\n",
       "      <td>[Samsung , NVIDIA, B2B, AMD, Samsung USA, Sams...</td>\n",
       "      <td>\\nTWEET: The global semiconductor supply chain...</td>\n",
       "    </tr>\n",
       "    <tr>\n",
       "      <th>...</th>\n",
       "      <td>...</td>\n",
       "      <td>...</td>\n",
       "      <td>...</td>\n",
       "      <td>...</td>\n",
       "    </tr>\n",
       "    <tr>\n",
       "      <th>32114</th>\n",
       "      <td>1640356360557588480</td>\n",
       "      <td>2023-03-27</td>\n",
       "      <td>[Online - Retail, eCommerce industry, Motorcyc...</td>\n",
       "      <td>\\nTWEET: Check out Harley Davidson Mens Hat Ca...</td>\n",
       "    </tr>\n",
       "    <tr>\n",
       "      <th>32115</th>\n",
       "      <td>1640356357537959938</td>\n",
       "      <td>2023-03-27</td>\n",
       "      <td>[Textile, Apparel &amp; Luxury Good Business, Onli...</td>\n",
       "      <td>\\nTWEET: Check out this listing I just added t...</td>\n",
       "    </tr>\n",
       "    <tr>\n",
       "      <th>32116</th>\n",
       "      <td>1640356347308036098</td>\n",
       "      <td>2023-03-27</td>\n",
       "      <td>[Samsung , Technology Business, eCommerce indu...</td>\n",
       "      <td>\\nTWEET:  Samsung Galaxy S21 FE Warna *Graphit...</td>\n",
       "    </tr>\n",
       "    <tr>\n",
       "      <th>32117</th>\n",
       "      <td>1640356342249713666</td>\n",
       "      <td>2023-03-27</td>\n",
       "      <td>[Online - Retail, eCommerce industry, Industri...</td>\n",
       "      <td>\\nTWEET: Check out this listing I just added t...</td>\n",
       "    </tr>\n",
       "    <tr>\n",
       "      <th>32118</th>\n",
       "      <td>1640356334590918656</td>\n",
       "      <td>2023-03-27</td>\n",
       "      <td>[Entertainment &amp; Leisure Business, eCommerce i...</td>\n",
       "      <td>\\nTWEET:  985 (4)border carnival</td>\n",
       "    </tr>\n",
       "  </tbody>\n",
       "</table>\n",
       "<p>32119 rows × 4 columns</p>\n",
       "</div>"
      ],
      "text/plain": [
       "                        id created_at  \\\n",
       "0      1640367128854564864 2023-03-27   \n",
       "1      1640367079076376579 2023-03-27   \n",
       "2      1640366751463374853 2023-03-27   \n",
       "3      1640366569673850881 2023-03-27   \n",
       "4      1640366205818003462 2023-03-27   \n",
       "...                    ...        ...   \n",
       "32114  1640356360557588480 2023-03-27   \n",
       "32115  1640356357537959938 2023-03-27   \n",
       "32116  1640356347308036098 2023-03-27   \n",
       "32117  1640356342249713666 2023-03-27   \n",
       "32118  1640356334590918656 2023-03-27   \n",
       "\n",
       "                                                entities  \\\n",
       "0      [Entertainment & Leisure Business, B2B, Baseba...   \n",
       "1      [B2B, Services - B2B, Technology Business, Pro...   \n",
       "2                          [Hasbro, Products - B2B, B2B]   \n",
       "3      [B2B, Services - B2B, Technology Business, Dat...   \n",
       "4      [Samsung , NVIDIA, B2B, AMD, Samsung USA, Sams...   \n",
       "...                                                  ...   \n",
       "32114  [Online - Retail, eCommerce industry, Motorcyc...   \n",
       "32115  [Textile, Apparel & Luxury Good Business, Onli...   \n",
       "32116  [Samsung , Technology Business, eCommerce indu...   \n",
       "32117  [Online - Retail, eCommerce industry, Industri...   \n",
       "32118  [Entertainment & Leisure Business, eCommerce i...   \n",
       "\n",
       "                                               full_text  \n",
       "0      \\nTWEET: hahdhdh thats why he is practicing i ...  \n",
       "1      \\nTWEET: That's right - We're using #AI to hel...  \n",
       "2      \\nTWEET: Indy Goes trick or treating as Two Fa...  \n",
       "3      \\nTWEET: Forget the DIY headaches when you cho...  \n",
       "4      \\nTWEET: The global semiconductor supply chain...  \n",
       "...                                                  ...  \n",
       "32114  \\nTWEET: Check out Harley Davidson Mens Hat Ca...  \n",
       "32115  \\nTWEET: Check out this listing I just added t...  \n",
       "32116  \\nTWEET:  Samsung Galaxy S21 FE Warna *Graphit...  \n",
       "32117  \\nTWEET: Check out this listing I just added t...  \n",
       "32118                   \\nTWEET:  985 (4)border carnival  \n",
       "\n",
       "[32119 rows x 4 columns]"
      ]
     },
     "execution_count": 25,
     "metadata": {},
     "output_type": "execute_result"
    }
   ],
   "source": [
    "df_clean"
   ]
  },
  {
   "cell_type": "code",
   "execution_count": 26,
   "id": "95d85e91",
   "metadata": {},
   "outputs": [
    {
     "name": "stderr",
     "output_type": "stream",
     "text": [
      "2023-03-27 17:03:12,622 - INFO     | helpers.data_helpers | Saved corpus to .txt file: tweets_apparel_32k_2023327.txt\n"
     ]
    }
   ],
   "source": [
    "save_to_text(df=df_clean, col='full_text', out_dir=config.DATA_DIR, name='tweets_apparel_32k_2023327')"
   ]
  }
 ],
 "metadata": {
  "kernelspec": {
   "display_name": "Python 3 (ipykernel)",
   "language": "python",
   "name": "python3"
  },
  "language_info": {
   "codemirror_mode": {
    "name": "ipython",
    "version": 3
   },
   "file_extension": ".py",
   "mimetype": "text/x-python",
   "name": "python",
   "nbconvert_exporter": "python",
   "pygments_lexer": "ipython3",
   "version": "3.9.13"
  }
 },
 "nbformat": 4,
 "nbformat_minor": 5
}
