{
 "cells": [
  {
   "cell_type": "code",
   "execution_count": 1,
   "id": "c2c67a66",
   "metadata": {},
   "outputs": [
    {
     "name": "stderr",
     "output_type": "stream",
     "text": [
      "2023-03-27 16:42:54,095 - INFO     | config     | Loading environment variables\n",
      "2023-03-27 16:42:54,096 - INFO     | config     | Directory raw_data already exists\n",
      "2023-03-27 16:42:54,096 - INFO     | config     | Directory data already exists\n"
     ]
    }
   ],
   "source": [
    "import pandas as pd\n",
    "\n",
    "import tweepy\n",
    "\n",
    "import config\n",
    "\n",
    "from bots.twitter import TwitterBot\n",
    "from helpers.data_helpers import save_to_parquet, clean_text, clean_tweets_df, save_to_text"
   ]
  },
  {
   "cell_type": "markdown",
   "id": "79b40dc7",
   "metadata": {},
   "source": [
    "# Extracting Tweets"
   ]
  },
  {
   "cell_type": "code",
   "execution_count": 2,
   "id": "aec722e9",
   "metadata": {},
   "outputs": [],
   "source": [
    "# initialize twitter bot\n",
    "twitter_bot = TwitterBot(bearer=config.TWTR_BEARER_TOKEN,\n",
    "                         api=config.TWTR_API,\n",
    "                         api_secret=config.TWTR_API_SECRET,\n",
    "                         access=config.TWTR_ACCESS_TOKEN,\n",
    "                         access_secret=config.TWTR_ACCESS_TOKEN_SECRET)"
   ]
  },
  {
   "cell_type": "code",
   "execution_count": 3,
   "id": "a300e003",
   "metadata": {},
   "outputs": [],
   "source": [
    "queries = [\n",
    "    'context:46.783337567798169600 -is:retweet lang:en',    # context: products\n",
    "    'context:67.839543390668673024 -is:retweet lang:en',    # context: apparel\n",
    "    'context:131.1248316002317643776 -is:retweet lang:en',  # context: athletic apparel\n",
    "    'context:65.1256236649253449729 -is:retweet lang:en',   # context: fashion and beauty\n",
    "    'context:131.1095391406816784384 -is:retweet lang:en',  # context: shopping\n",
    "    'context:67.1486758812849635329 -is:retweet lang:en',   # context: retail sales\n",
    "    'context:131.1407812892909473795 -is:retweet lang:en',  # context: ecommerce\n",
    "    'context:165.1407812892909473795 -is:retweet lang:en',  # context: ecommerce\n",
    "]"
   ]
  },
  {
   "cell_type": "code",
   "execution_count": 4,
   "id": "1a4505b0",
   "metadata": {},
   "outputs": [],
   "source": [
    "dfs = []\n",
    "for query in queries:\n",
    "    tweets = twitter_bot.get_recent_tweets(query=query, limit=2000)\n",
    "    df = pd.DataFrame.from_dict(tweets)\n",
    "    dfs.append(df)"
   ]
  },
  {
   "cell_type": "code",
   "execution_count": 5,
   "id": "a6c0b87a",
   "metadata": {},
   "outputs": [],
   "source": [
    "tweets = pd.concat(dfs, ignore_index=True)\n",
    "tweets = tweets.loc[~tweets['id'].duplicated()].copy()"
   ]
  },
  {
   "cell_type": "code",
   "execution_count": 6,
   "id": "8945d6a3",
   "metadata": {},
   "outputs": [
    {
     "data": {
      "text/html": [
       "<div>\n",
       "<style scoped>\n",
       "    .dataframe tbody tr th:only-of-type {\n",
       "        vertical-align: middle;\n",
       "    }\n",
       "\n",
       "    .dataframe tbody tr th {\n",
       "        vertical-align: top;\n",
       "    }\n",
       "\n",
       "    .dataframe thead th {\n",
       "        text-align: right;\n",
       "    }\n",
       "</style>\n",
       "<table border=\"1\" class=\"dataframe\">\n",
       "  <thead>\n",
       "    <tr style=\"text-align: right;\">\n",
       "      <th></th>\n",
       "      <th>id</th>\n",
       "      <th>created_at</th>\n",
       "      <th>text</th>\n",
       "      <th>entities</th>\n",
       "    </tr>\n",
       "  </thead>\n",
       "  <tbody>\n",
       "    <tr>\n",
       "      <th>0</th>\n",
       "      <td>1640363807070380032</td>\n",
       "      <td>2023-03-27 14:43:02+00:00</td>\n",
       "      <td>Hot take... #Cloud is a network. ☁️\\n\\nWatch t...</td>\n",
       "      <td>{Juniper Networks, Products - B2B, B2B, Servic...</td>\n",
       "    </tr>\n",
       "    <tr>\n",
       "      <th>1</th>\n",
       "      <td>1640363780550053898</td>\n",
       "      <td>2023-03-27 14:42:56+00:00</td>\n",
       "      <td>@its_syncx @AMD Yikes, that gpu is a REALLY ro...</td>\n",
       "      <td>{Products - B2B, B2B, AMD}</td>\n",
       "    </tr>\n",
       "    <tr>\n",
       "      <th>2</th>\n",
       "      <td>1640363753253535746</td>\n",
       "      <td>2023-03-27 14:42:49+00:00</td>\n",
       "      <td>AMD just wipes the floor with Intel CPUs. Why ...</td>\n",
       "      <td>{Products - B2B, B2B, AMD}</td>\n",
       "    </tr>\n",
       "    <tr>\n",
       "      <th>3</th>\n",
       "      <td>1640363645375770628</td>\n",
       "      <td>2023-03-27 14:42:24+00:00</td>\n",
       "      <td>@cfunk1 @RPG_Piseog @MikeyTheKid @newbiedm You...</td>\n",
       "      <td>{Hasbro, Products - B2B, B2B}</td>\n",
       "    </tr>\n",
       "    <tr>\n",
       "      <th>4</th>\n",
       "      <td>1640363437741031426</td>\n",
       "      <td>2023-03-27 14:41:34+00:00</td>\n",
       "      <td>Looking for your next opportunity? @JuniperNet...</td>\n",
       "      <td>{Careers, B2B, Services - B2B, Products - B2B,...</td>\n",
       "    </tr>\n",
       "    <tr>\n",
       "      <th>...</th>\n",
       "      <td>...</td>\n",
       "      <td>...</td>\n",
       "      <td>...</td>\n",
       "      <td>...</td>\n",
       "    </tr>\n",
       "    <tr>\n",
       "      <th>15243</th>\n",
       "      <td>1640359539374706689</td>\n",
       "      <td>2023-03-27 14:26:05+00:00</td>\n",
       "      <td>1 1/2 TCW F SI1 Round Cut Earth Mined Certifie...</td>\n",
       "      <td>{Online - Retail, eCommerce industry, Industri...</td>\n",
       "    </tr>\n",
       "    <tr>\n",
       "      <th>15244</th>\n",
       "      <td>1640359539290636291</td>\n",
       "      <td>2023-03-27 14:26:05+00:00</td>\n",
       "      <td>Moss Green Linen Curtain 2 Panel Green Linen N...</td>\n",
       "      <td>{Online - Retail, eCommerce industry, Industri...</td>\n",
       "    </tr>\n",
       "    <tr>\n",
       "      <th>15245</th>\n",
       "      <td>1640359539248873478</td>\n",
       "      <td>2023-03-27 14:26:05+00:00</td>\n",
       "      <td>J170-1 Meissen Franzen Collaboration Square Pl...</td>\n",
       "      <td>{Online - Retail, eCommerce industry, Industri...</td>\n",
       "    </tr>\n",
       "    <tr>\n",
       "      <th>15246</th>\n",
       "      <td>1640359539123052549</td>\n",
       "      <td>2023-03-27 14:26:05+00:00</td>\n",
       "      <td>Mystery Booster Retail Edition 2020 Draft Boos...</td>\n",
       "      <td>{Online - Retail, eCommerce industry, Gaming B...</td>\n",
       "    </tr>\n",
       "    <tr>\n",
       "      <th>15247</th>\n",
       "      <td>1640359539089506304</td>\n",
       "      <td>2023-03-27 14:26:05+00:00</td>\n",
       "      <td>2ct F VS2 Round Natural Certified Diamonds 18k...</td>\n",
       "      <td>{Textile, Apparel &amp; Luxury Good Business, Onli...</td>\n",
       "    </tr>\n",
       "  </tbody>\n",
       "</table>\n",
       "<p>13741 rows × 4 columns</p>\n",
       "</div>"
      ],
      "text/plain": [
       "                        id                created_at  \\\n",
       "0      1640363807070380032 2023-03-27 14:43:02+00:00   \n",
       "1      1640363780550053898 2023-03-27 14:42:56+00:00   \n",
       "2      1640363753253535746 2023-03-27 14:42:49+00:00   \n",
       "3      1640363645375770628 2023-03-27 14:42:24+00:00   \n",
       "4      1640363437741031426 2023-03-27 14:41:34+00:00   \n",
       "...                    ...                       ...   \n",
       "15243  1640359539374706689 2023-03-27 14:26:05+00:00   \n",
       "15244  1640359539290636291 2023-03-27 14:26:05+00:00   \n",
       "15245  1640359539248873478 2023-03-27 14:26:05+00:00   \n",
       "15246  1640359539123052549 2023-03-27 14:26:05+00:00   \n",
       "15247  1640359539089506304 2023-03-27 14:26:05+00:00   \n",
       "\n",
       "                                                    text  \\\n",
       "0      Hot take... #Cloud is a network. ☁️\\n\\nWatch t...   \n",
       "1      @its_syncx @AMD Yikes, that gpu is a REALLY ro...   \n",
       "2      AMD just wipes the floor with Intel CPUs. Why ...   \n",
       "3      @cfunk1 @RPG_Piseog @MikeyTheKid @newbiedm You...   \n",
       "4      Looking for your next opportunity? @JuniperNet...   \n",
       "...                                                  ...   \n",
       "15243  1 1/2 TCW F SI1 Round Cut Earth Mined Certifie...   \n",
       "15244  Moss Green Linen Curtain 2 Panel Green Linen N...   \n",
       "15245  J170-1 Meissen Franzen Collaboration Square Pl...   \n",
       "15246  Mystery Booster Retail Edition 2020 Draft Boos...   \n",
       "15247  2ct F VS2 Round Natural Certified Diamonds 18k...   \n",
       "\n",
       "                                                entities  \n",
       "0      {Juniper Networks, Products - B2B, B2B, Servic...  \n",
       "1                             {Products - B2B, B2B, AMD}  \n",
       "2                             {Products - B2B, B2B, AMD}  \n",
       "3                          {Hasbro, Products - B2B, B2B}  \n",
       "4      {Careers, B2B, Services - B2B, Products - B2B,...  \n",
       "...                                                  ...  \n",
       "15243  {Online - Retail, eCommerce industry, Industri...  \n",
       "15244  {Online - Retail, eCommerce industry, Industri...  \n",
       "15245  {Online - Retail, eCommerce industry, Industri...  \n",
       "15246  {Online - Retail, eCommerce industry, Gaming B...  \n",
       "15247  {Textile, Apparel & Luxury Good Business, Onli...  \n",
       "\n",
       "[13741 rows x 4 columns]"
      ]
     },
     "execution_count": 6,
     "metadata": {},
     "output_type": "execute_result"
    }
   ],
   "source": [
    "tweets"
   ]
  },
  {
   "cell_type": "code",
   "execution_count": 7,
   "id": "b72d58c9",
   "metadata": {},
   "outputs": [],
   "source": [
    "save_to_parquet(data_dir=config.RAW_DATA_DIR, df=tweets, name='tweets')"
   ]
  },
  {
   "cell_type": "markdown",
   "id": "7bb5d34e",
   "metadata": {},
   "source": [
    "# Cleaning Tweets"
   ]
  },
  {
   "cell_type": "code",
   "execution_count": 8,
   "id": "12761af0",
   "metadata": {},
   "outputs": [],
   "source": [
    "tweets_df = pd.read_parquet(f'{config.RAW_DATA_DIR}/tweets_2023327.parquet')"
   ]
  },
  {
   "cell_type": "code",
   "execution_count": 9,
   "id": "88894726",
   "metadata": {},
   "outputs": [],
   "source": [
    "tweets_df['created_at'] = pd.to_datetime(tweets_df['created_at'].dt.strftime('%Y-%m-%d'))"
   ]
  },
  {
   "cell_type": "code",
   "execution_count": 10,
   "id": "556532a9",
   "metadata": {},
   "outputs": [
    {
     "name": "stdout",
     "output_type": "stream",
     "text": [
      "<class 'pandas.core.frame.DataFrame'>\n",
      "RangeIndex: 13741 entries, 0 to 13740\n",
      "Data columns (total 4 columns):\n",
      " #   Column      Non-Null Count  Dtype         \n",
      "---  ------      --------------  -----         \n",
      " 0   id          13741 non-null  int64         \n",
      " 1   created_at  13741 non-null  datetime64[ns]\n",
      " 2   text        13741 non-null  object        \n",
      " 3   entities    13741 non-null  object        \n",
      "dtypes: datetime64[ns](1), int64(1), object(2)\n",
      "memory usage: 429.5+ KB\n"
     ]
    }
   ],
   "source": [
    "tweets_df.info()"
   ]
  },
  {
   "cell_type": "code",
   "execution_count": 11,
   "id": "55e37703",
   "metadata": {},
   "outputs": [],
   "source": [
    "tweets_df['text'] = tweets_df['text'].map(lambda x: clean_text(x))"
   ]
  },
  {
   "cell_type": "code",
   "execution_count": 12,
   "id": "c5b1006b",
   "metadata": {},
   "outputs": [],
   "source": [
    "df_clean = clean_tweets_df(df=tweets_df, text_col='text', n=2)"
   ]
  },
  {
   "cell_type": "code",
   "execution_count": 13,
   "id": "7fdb43eb",
   "metadata": {},
   "outputs": [
    {
     "data": {
      "text/html": [
       "<div>\n",
       "<style scoped>\n",
       "    .dataframe tbody tr th:only-of-type {\n",
       "        vertical-align: middle;\n",
       "    }\n",
       "\n",
       "    .dataframe tbody tr th {\n",
       "        vertical-align: top;\n",
       "    }\n",
       "\n",
       "    .dataframe thead th {\n",
       "        text-align: right;\n",
       "    }\n",
       "</style>\n",
       "<table border=\"1\" class=\"dataframe\">\n",
       "  <thead>\n",
       "    <tr style=\"text-align: right;\">\n",
       "      <th></th>\n",
       "      <th>id</th>\n",
       "      <th>created_at</th>\n",
       "      <th>entities</th>\n",
       "      <th>full_text</th>\n",
       "    </tr>\n",
       "  </thead>\n",
       "  <tbody>\n",
       "    <tr>\n",
       "      <th>0</th>\n",
       "      <td>1640363807070380032</td>\n",
       "      <td>2023-03-27</td>\n",
       "      <td>[Juniper Networks, Products - B2B, B2B, Servic...</td>\n",
       "      <td>\\nTWEET: Hot take... #Cloud is a network. ☁️ W...</td>\n",
       "    </tr>\n",
       "    <tr>\n",
       "      <th>1</th>\n",
       "      <td>1640363780550053898</td>\n",
       "      <td>2023-03-27</td>\n",
       "      <td>[Products - B2B, B2B, AMD]</td>\n",
       "      <td>\\nTWEET: Yikes, that gpu is a REALLY rough cho...</td>\n",
       "    </tr>\n",
       "    <tr>\n",
       "      <th>2</th>\n",
       "      <td>1640363753253535746</td>\n",
       "      <td>2023-03-27</td>\n",
       "      <td>[Products - B2B, B2B, AMD]</td>\n",
       "      <td>\\nTWEET: AMD just wipes the floor with Intel C...</td>\n",
       "    </tr>\n",
       "    <tr>\n",
       "      <th>3</th>\n",
       "      <td>1640363645375770628</td>\n",
       "      <td>2023-03-27</td>\n",
       "      <td>[Hasbro, Products - B2B, B2B]</td>\n",
       "      <td>\\nTWEET: You have a lot to be sad about but no...</td>\n",
       "    </tr>\n",
       "    <tr>\n",
       "      <th>4</th>\n",
       "      <td>1640363437741031426</td>\n",
       "      <td>2023-03-27</td>\n",
       "      <td>[Careers, B2B, Services - B2B, Products - B2B,...</td>\n",
       "      <td>\\nTWEET: Looking for your next opportunity?is ...</td>\n",
       "    </tr>\n",
       "    <tr>\n",
       "      <th>...</th>\n",
       "      <td>...</td>\n",
       "      <td>...</td>\n",
       "      <td>...</td>\n",
       "      <td>...</td>\n",
       "    </tr>\n",
       "    <tr>\n",
       "      <th>13610</th>\n",
       "      <td>1640359539374706689</td>\n",
       "      <td>2023-03-27</td>\n",
       "      <td>[Online - Retail, eCommerce industry, Industri...</td>\n",
       "      <td>\\nTWEET: 1 1/2 TCW F SI1 Round Cut Earth Mined...</td>\n",
       "    </tr>\n",
       "    <tr>\n",
       "      <th>13611</th>\n",
       "      <td>1640359539290636291</td>\n",
       "      <td>2023-03-27</td>\n",
       "      <td>[Online - Retail, eCommerce industry, Industri...</td>\n",
       "      <td>\\nTWEET: Moss Green Linen Curtain 2 Panel Gree...</td>\n",
       "    </tr>\n",
       "    <tr>\n",
       "      <th>13612</th>\n",
       "      <td>1640359539248873478</td>\n",
       "      <td>2023-03-27</td>\n",
       "      <td>[Online - Retail, eCommerce industry, Industri...</td>\n",
       "      <td>\\nTWEET: J170-1 Meissen Franzen Collaboration ...</td>\n",
       "    </tr>\n",
       "    <tr>\n",
       "      <th>13613</th>\n",
       "      <td>1640359539123052549</td>\n",
       "      <td>2023-03-27</td>\n",
       "      <td>[Online - Retail, eCommerce industry, Gaming B...</td>\n",
       "      <td>\\nTWEET: Mystery Booster Retail Edition 2020 D...</td>\n",
       "    </tr>\n",
       "    <tr>\n",
       "      <th>13614</th>\n",
       "      <td>1640359539089506304</td>\n",
       "      <td>2023-03-27</td>\n",
       "      <td>[Textile, Apparel &amp; Luxury Good Business, Onli...</td>\n",
       "      <td>\\nTWEET: 2ct F VS2 Round Natural Certified Dia...</td>\n",
       "    </tr>\n",
       "  </tbody>\n",
       "</table>\n",
       "<p>13615 rows × 4 columns</p>\n",
       "</div>"
      ],
      "text/plain": [
       "                        id created_at  \\\n",
       "0      1640363807070380032 2023-03-27   \n",
       "1      1640363780550053898 2023-03-27   \n",
       "2      1640363753253535746 2023-03-27   \n",
       "3      1640363645375770628 2023-03-27   \n",
       "4      1640363437741031426 2023-03-27   \n",
       "...                    ...        ...   \n",
       "13610  1640359539374706689 2023-03-27   \n",
       "13611  1640359539290636291 2023-03-27   \n",
       "13612  1640359539248873478 2023-03-27   \n",
       "13613  1640359539123052549 2023-03-27   \n",
       "13614  1640359539089506304 2023-03-27   \n",
       "\n",
       "                                                entities  \\\n",
       "0      [Juniper Networks, Products - B2B, B2B, Servic...   \n",
       "1                             [Products - B2B, B2B, AMD]   \n",
       "2                             [Products - B2B, B2B, AMD]   \n",
       "3                          [Hasbro, Products - B2B, B2B]   \n",
       "4      [Careers, B2B, Services - B2B, Products - B2B,...   \n",
       "...                                                  ...   \n",
       "13610  [Online - Retail, eCommerce industry, Industri...   \n",
       "13611  [Online - Retail, eCommerce industry, Industri...   \n",
       "13612  [Online - Retail, eCommerce industry, Industri...   \n",
       "13613  [Online - Retail, eCommerce industry, Gaming B...   \n",
       "13614  [Textile, Apparel & Luxury Good Business, Onli...   \n",
       "\n",
       "                                               full_text  \n",
       "0      \\nTWEET: Hot take... #Cloud is a network. ☁️ W...  \n",
       "1      \\nTWEET: Yikes, that gpu is a REALLY rough cho...  \n",
       "2      \\nTWEET: AMD just wipes the floor with Intel C...  \n",
       "3      \\nTWEET: You have a lot to be sad about but no...  \n",
       "4      \\nTWEET: Looking for your next opportunity?is ...  \n",
       "...                                                  ...  \n",
       "13610  \\nTWEET: 1 1/2 TCW F SI1 Round Cut Earth Mined...  \n",
       "13611  \\nTWEET: Moss Green Linen Curtain 2 Panel Gree...  \n",
       "13612  \\nTWEET: J170-1 Meissen Franzen Collaboration ...  \n",
       "13613  \\nTWEET: Mystery Booster Retail Edition 2020 D...  \n",
       "13614  \\nTWEET: 2ct F VS2 Round Natural Certified Dia...  \n",
       "\n",
       "[13615 rows x 4 columns]"
      ]
     },
     "execution_count": 13,
     "metadata": {},
     "output_type": "execute_result"
    }
   ],
   "source": [
    "df_clean"
   ]
  },
  {
   "cell_type": "code",
   "execution_count": 15,
   "id": "95d85e91",
   "metadata": {},
   "outputs": [
    {
     "name": "stderr",
     "output_type": "stream",
     "text": [
      "2023-03-27 16:48:51,811 - INFO     | helpers.data_helpers | Saved corpus to .txt file: tweets_apparel_2023327.txt\n"
     ]
    }
   ],
   "source": [
    "save_to_text(df=df_clean, col='full_text', out_dir=config.DATA_DIR, name='tweets_apparel_2023327')"
   ]
  }
 ],
 "metadata": {
  "kernelspec": {
   "display_name": "Python 3 (ipykernel)",
   "language": "python",
   "name": "python3"
  },
  "language_info": {
   "codemirror_mode": {
    "name": "ipython",
    "version": 3
   },
   "file_extension": ".py",
   "mimetype": "text/x-python",
   "name": "python",
   "nbconvert_exporter": "python",
   "pygments_lexer": "ipython3",
   "version": "3.9.13"
  }
 },
 "nbformat": 4,
 "nbformat_minor": 5
}
